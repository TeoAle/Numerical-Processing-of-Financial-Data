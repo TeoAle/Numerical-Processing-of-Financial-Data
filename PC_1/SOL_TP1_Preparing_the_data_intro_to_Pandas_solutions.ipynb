{
 "cells": [
  {
   "cell_type": "markdown",
   "metadata": {},
   "source": [
    "# Introduction to Pandas for Finance\n",
    "## Numerical processing of financial data\n",
    "\n",
    "Double Degree Data and Finance \n",
    "\n",
    "Enseignant: Anne-Claire Maurice\n",
    "\n",
    "### TP #1 : preparing the data\n",
    "\n",
    "#### Objective\n",
    "The goal of this hands-on session is to read and clean a dataset containing trade prices on cryptocurrency pairs using DataFrames and the module Pandas. "
   ]
  },
  {
   "cell_type": "markdown",
   "metadata": {},
   "source": [
    "#### Modules"
   ]
  },
  {
   "cell_type": "code",
   "execution_count": 1,
   "metadata": {},
   "outputs": [],
   "source": [
    "import numpy as np\n",
    "import pandas as pd\n",
    "import matplotlib.pyplot as plt\n",
    "import datetime as dt"
   ]
  },
  {
   "cell_type": "markdown",
   "metadata": {},
   "source": [
    "## 1. Read the data set\n",
    "Using the proper reading method, read the data set given in the file TP1_trades_data.csv\n",
    "\n",
    "NB: you may need to set the parameter *low_memory* to *False* to avoid getting a warning."
   ]
  },
  {
   "cell_type": "code",
   "execution_count": 2,
   "metadata": {},
   "outputs": [
    {
     "data": {
      "text/html": [
       "<div>\n",
       "<style scoped>\n",
       "    .dataframe tbody tr th:only-of-type {\n",
       "        vertical-align: middle;\n",
       "    }\n",
       "\n",
       "    .dataframe tbody tr th {\n",
       "        vertical-align: top;\n",
       "    }\n",
       "\n",
       "    .dataframe thead th {\n",
       "        text-align: right;\n",
       "    }\n",
       "</style>\n",
       "<table border=\"1\" class=\"dataframe\">\n",
       "  <thead>\n",
       "    <tr style=\"text-align: right;\">\n",
       "      <th></th>\n",
       "      <th>timestamp</th>\n",
       "      <th>trade_id</th>\n",
       "      <th>price</th>\n",
       "      <th>amount</th>\n",
       "      <th>taker_side_sell</th>\n",
       "      <th>exchange</th>\n",
       "      <th>pair</th>\n",
       "    </tr>\n",
       "  </thead>\n",
       "  <tbody>\n",
       "    <tr>\n",
       "      <th>0</th>\n",
       "      <td>2022-10-24 14:00:00.000000000</td>\n",
       "      <td>787987369.0</td>\n",
       "      <td>1348.350</td>\n",
       "      <td>0.031800</td>\n",
       "      <td>0.0</td>\n",
       "      <td>bnce</td>\n",
       "      <td>eth-usdt</td>\n",
       "    </tr>\n",
       "    <tr>\n",
       "      <th>1</th>\n",
       "      <td>2022-10-24 14:30:00.529999872</td>\n",
       "      <td>1730655560.0</td>\n",
       "      <td>19227.330</td>\n",
       "      <td>0.050780</td>\n",
       "      <td>0.0</td>\n",
       "      <td>bnce</td>\n",
       "      <td>btc-usdt</td>\n",
       "    </tr>\n",
       "    <tr>\n",
       "      <th>2</th>\n",
       "      <td>2022-10-24 14:30:00.540000000</td>\n",
       "      <td>1730655561.0</td>\n",
       "      <td>19227.320</td>\n",
       "      <td>0.027150</td>\n",
       "      <td>1.0</td>\n",
       "      <td>bnce</td>\n",
       "      <td>btc-usdt</td>\n",
       "    </tr>\n",
       "    <tr>\n",
       "      <th>3</th>\n",
       "      <td>2022-10-24 14:30:00.545999872</td>\n",
       "      <td>788017659.0</td>\n",
       "      <td>1329.310</td>\n",
       "      <td>0.351400</td>\n",
       "      <td>1.0</td>\n",
       "      <td>bnce</td>\n",
       "      <td>eth-usdt</td>\n",
       "    </tr>\n",
       "    <tr>\n",
       "      <th>4</th>\n",
       "      <td>2022-10-24 14:30:00.545999872</td>\n",
       "      <td>788017660.0</td>\n",
       "      <td>1329.300</td>\n",
       "      <td>0.030000</td>\n",
       "      <td>1.0</td>\n",
       "      <td>bnce</td>\n",
       "      <td>eth-usdt</td>\n",
       "    </tr>\n",
       "    <tr>\n",
       "      <th>...</th>\n",
       "      <td>...</td>\n",
       "      <td>...</td>\n",
       "      <td>...</td>\n",
       "      <td>...</td>\n",
       "      <td>...</td>\n",
       "      <td>...</td>\n",
       "      <td>...</td>\n",
       "    </tr>\n",
       "    <tr>\n",
       "      <th>848335</th>\n",
       "      <td>2022-10-24 14:12:27.580999936</td>\n",
       "      <td>251571586.0</td>\n",
       "      <td>19313.000</td>\n",
       "      <td>0.001210</td>\n",
       "      <td>0.0</td>\n",
       "      <td>stmp</td>\n",
       "      <td>btc-usd</td>\n",
       "    </tr>\n",
       "    <tr>\n",
       "      <th>848336</th>\n",
       "      <td>2022-10-24 14:35:45.876000000</td>\n",
       "      <td>251574460.0</td>\n",
       "      <td>5.883</td>\n",
       "      <td>8.510000</td>\n",
       "      <td>1.0</td>\n",
       "      <td>stmp</td>\n",
       "      <td>dot-usd</td>\n",
       "    </tr>\n",
       "    <tr>\n",
       "      <th>848337</th>\n",
       "      <td>2022-10-24 14:17:37.334000128</td>\n",
       "      <td>251572100.0</td>\n",
       "      <td>19263.000</td>\n",
       "      <td>0.000002</td>\n",
       "      <td>1.0</td>\n",
       "      <td>stmp</td>\n",
       "      <td>btc-usd</td>\n",
       "    </tr>\n",
       "    <tr>\n",
       "      <th>848338</th>\n",
       "      <td>2022-10-24 14:17:37.768000000</td>\n",
       "      <td>251572136.0</td>\n",
       "      <td>1331.900</td>\n",
       "      <td>0.033904</td>\n",
       "      <td>1.0</td>\n",
       "      <td>stmp</td>\n",
       "      <td>eth-usd</td>\n",
       "    </tr>\n",
       "    <tr>\n",
       "      <th>848339</th>\n",
       "      <td>2022-10-24 14:19:39.803000064</td>\n",
       "      <td>251572780.0</td>\n",
       "      <td>19277.000</td>\n",
       "      <td>0.000017</td>\n",
       "      <td>0.0</td>\n",
       "      <td>stmp</td>\n",
       "      <td>btc-usd</td>\n",
       "    </tr>\n",
       "  </tbody>\n",
       "</table>\n",
       "<p>848340 rows × 7 columns</p>\n",
       "</div>"
      ],
      "text/plain": [
       "                            timestamp      trade_id      price    amount  \\\n",
       "0       2022-10-24 14:00:00.000000000   787987369.0   1348.350  0.031800   \n",
       "1       2022-10-24 14:30:00.529999872  1730655560.0  19227.330  0.050780   \n",
       "2       2022-10-24 14:30:00.540000000  1730655561.0  19227.320  0.027150   \n",
       "3       2022-10-24 14:30:00.545999872   788017659.0   1329.310  0.351400   \n",
       "4       2022-10-24 14:30:00.545999872   788017660.0   1329.300  0.030000   \n",
       "...                               ...           ...        ...       ...   \n",
       "848335  2022-10-24 14:12:27.580999936   251571586.0  19313.000  0.001210   \n",
       "848336  2022-10-24 14:35:45.876000000   251574460.0      5.883  8.510000   \n",
       "848337  2022-10-24 14:17:37.334000128   251572100.0  19263.000  0.000002   \n",
       "848338  2022-10-24 14:17:37.768000000   251572136.0   1331.900  0.033904   \n",
       "848339  2022-10-24 14:19:39.803000064   251572780.0  19277.000  0.000017   \n",
       "\n",
       "        taker_side_sell exchange      pair  \n",
       "0                   0.0     bnce  eth-usdt  \n",
       "1                   0.0     bnce  btc-usdt  \n",
       "2                   1.0     bnce  btc-usdt  \n",
       "3                   1.0     bnce  eth-usdt  \n",
       "4                   1.0     bnce  eth-usdt  \n",
       "...                 ...      ...       ...  \n",
       "848335              0.0     stmp   btc-usd  \n",
       "848336              1.0     stmp   dot-usd  \n",
       "848337              1.0     stmp   btc-usd  \n",
       "848338              1.0     stmp   eth-usd  \n",
       "848339              0.0     stmp   btc-usd  \n",
       "\n",
       "[848340 rows x 7 columns]"
      ]
     },
     "execution_count": 2,
     "metadata": {},
     "output_type": "execute_result"
    }
   ],
   "source": [
    "df = pd.read_csv(\"TP1_trades_data.csv\", low_memory=False)\n",
    "df"
   ]
  },
  {
   "cell_type": "markdown",
   "metadata": {},
   "source": [
    "## 2. Inspect the data"
   ]
  },
  {
   "cell_type": "markdown",
   "metadata": {},
   "source": [
    "Take the time needed to take a first look at the data. Display the first rows, look at the columns etc."
   ]
  },
  {
   "cell_type": "code",
   "execution_count": 3,
   "metadata": {},
   "outputs": [
    {
     "data": {
      "text/html": [
       "<div>\n",
       "<style scoped>\n",
       "    .dataframe tbody tr th:only-of-type {\n",
       "        vertical-align: middle;\n",
       "    }\n",
       "\n",
       "    .dataframe tbody tr th {\n",
       "        vertical-align: top;\n",
       "    }\n",
       "\n",
       "    .dataframe thead th {\n",
       "        text-align: right;\n",
       "    }\n",
       "</style>\n",
       "<table border=\"1\" class=\"dataframe\">\n",
       "  <thead>\n",
       "    <tr style=\"text-align: right;\">\n",
       "      <th></th>\n",
       "      <th>timestamp</th>\n",
       "      <th>trade_id</th>\n",
       "      <th>price</th>\n",
       "      <th>amount</th>\n",
       "      <th>taker_side_sell</th>\n",
       "      <th>exchange</th>\n",
       "      <th>pair</th>\n",
       "    </tr>\n",
       "  </thead>\n",
       "  <tbody>\n",
       "    <tr>\n",
       "      <th>0</th>\n",
       "      <td>2022-10-24 14:00:00.000000000</td>\n",
       "      <td>787987369.0</td>\n",
       "      <td>1348.350</td>\n",
       "      <td>0.03180</td>\n",
       "      <td>0.0</td>\n",
       "      <td>bnce</td>\n",
       "      <td>eth-usdt</td>\n",
       "    </tr>\n",
       "    <tr>\n",
       "      <th>1</th>\n",
       "      <td>2022-10-24 14:30:00.529999872</td>\n",
       "      <td>1730655560.0</td>\n",
       "      <td>19227.330</td>\n",
       "      <td>0.05078</td>\n",
       "      <td>0.0</td>\n",
       "      <td>bnce</td>\n",
       "      <td>btc-usdt</td>\n",
       "    </tr>\n",
       "    <tr>\n",
       "      <th>2</th>\n",
       "      <td>2022-10-24 14:30:00.540000000</td>\n",
       "      <td>1730655561.0</td>\n",
       "      <td>19227.320</td>\n",
       "      <td>0.02715</td>\n",
       "      <td>1.0</td>\n",
       "      <td>bnce</td>\n",
       "      <td>btc-usdt</td>\n",
       "    </tr>\n",
       "    <tr>\n",
       "      <th>3</th>\n",
       "      <td>2022-10-24 14:30:00.545999872</td>\n",
       "      <td>788017659.0</td>\n",
       "      <td>1329.310</td>\n",
       "      <td>0.35140</td>\n",
       "      <td>1.0</td>\n",
       "      <td>bnce</td>\n",
       "      <td>eth-usdt</td>\n",
       "    </tr>\n",
       "    <tr>\n",
       "      <th>4</th>\n",
       "      <td>2022-10-24 14:30:00.545999872</td>\n",
       "      <td>788017660.0</td>\n",
       "      <td>1329.300</td>\n",
       "      <td>0.03000</td>\n",
       "      <td>1.0</td>\n",
       "      <td>bnce</td>\n",
       "      <td>eth-usdt</td>\n",
       "    </tr>\n",
       "    <tr>\n",
       "      <th>5</th>\n",
       "      <td>2022-10-24 14:30:00.545999872</td>\n",
       "      <td>788017662.0</td>\n",
       "      <td>1329.250</td>\n",
       "      <td>0.51860</td>\n",
       "      <td>1.0</td>\n",
       "      <td>bnce</td>\n",
       "      <td>eth-usdt</td>\n",
       "    </tr>\n",
       "    <tr>\n",
       "      <th>6</th>\n",
       "      <td>2022-10-24 14:30:00.545999872</td>\n",
       "      <td>788017661.0</td>\n",
       "      <td>1329.290</td>\n",
       "      <td>0.30000</td>\n",
       "      <td>1.0</td>\n",
       "      <td>bnce</td>\n",
       "      <td>eth-usdt</td>\n",
       "    </tr>\n",
       "    <tr>\n",
       "      <th>7</th>\n",
       "      <td>2022-10-24 14:30:00.547000064</td>\n",
       "      <td>1730655562.0</td>\n",
       "      <td>19227.340</td>\n",
       "      <td>0.00082</td>\n",
       "      <td>0.0</td>\n",
       "      <td>bnce</td>\n",
       "      <td>btc-usdt</td>\n",
       "    </tr>\n",
       "    <tr>\n",
       "      <th>8</th>\n",
       "      <td>2022-10-24 14:30:00.526000128</td>\n",
       "      <td>788017658.0</td>\n",
       "      <td>1329.330</td>\n",
       "      <td>0.50000</td>\n",
       "      <td>1.0</td>\n",
       "      <td>bnce</td>\n",
       "      <td>eth-usdt</td>\n",
       "    </tr>\n",
       "    <tr>\n",
       "      <th>9</th>\n",
       "      <td>2022-10-24 14:30:00.550000128</td>\n",
       "      <td>182661263.0</td>\n",
       "      <td>6.827</td>\n",
       "      <td>1.62000</td>\n",
       "      <td>1.0</td>\n",
       "      <td>bnce</td>\n",
       "      <td>link-usdt</td>\n",
       "    </tr>\n",
       "  </tbody>\n",
       "</table>\n",
       "</div>"
      ],
      "text/plain": [
       "                       timestamp      trade_id      price   amount  \\\n",
       "0  2022-10-24 14:00:00.000000000   787987369.0   1348.350  0.03180   \n",
       "1  2022-10-24 14:30:00.529999872  1730655560.0  19227.330  0.05078   \n",
       "2  2022-10-24 14:30:00.540000000  1730655561.0  19227.320  0.02715   \n",
       "3  2022-10-24 14:30:00.545999872   788017659.0   1329.310  0.35140   \n",
       "4  2022-10-24 14:30:00.545999872   788017660.0   1329.300  0.03000   \n",
       "5  2022-10-24 14:30:00.545999872   788017662.0   1329.250  0.51860   \n",
       "6  2022-10-24 14:30:00.545999872   788017661.0   1329.290  0.30000   \n",
       "7  2022-10-24 14:30:00.547000064  1730655562.0  19227.340  0.00082   \n",
       "8  2022-10-24 14:30:00.526000128   788017658.0   1329.330  0.50000   \n",
       "9  2022-10-24 14:30:00.550000128   182661263.0      6.827  1.62000   \n",
       "\n",
       "   taker_side_sell exchange       pair  \n",
       "0              0.0     bnce   eth-usdt  \n",
       "1              0.0     bnce   btc-usdt  \n",
       "2              1.0     bnce   btc-usdt  \n",
       "3              1.0     bnce   eth-usdt  \n",
       "4              1.0     bnce   eth-usdt  \n",
       "5              1.0     bnce   eth-usdt  \n",
       "6              1.0     bnce   eth-usdt  \n",
       "7              0.0     bnce   btc-usdt  \n",
       "8              1.0     bnce   eth-usdt  \n",
       "9              1.0     bnce  link-usdt  "
      ]
     },
     "execution_count": 3,
     "metadata": {},
     "output_type": "execute_result"
    }
   ],
   "source": [
    "df.head(10)"
   ]
  },
  {
   "cell_type": "markdown",
   "metadata": {},
   "source": [
    "Start inspecting the data by answering to the following questions:\n",
    "- How many rows and columns there are in my data set?\n",
    "\n",
    "**848340 rows and 7 columns**"
   ]
  },
  {
   "cell_type": "code",
   "execution_count": 4,
   "metadata": {},
   "outputs": [
    {
     "name": "stdout",
     "output_type": "stream",
     "text": [
      "<class 'pandas.core.frame.DataFrame'>\n",
      "RangeIndex: 848340 entries, 0 to 848339\n",
      "Data columns (total 7 columns):\n",
      " #   Column           Non-Null Count   Dtype  \n",
      "---  ------           --------------   -----  \n",
      " 0   timestamp        848340 non-null  object \n",
      " 1   trade_id         848340 non-null  object \n",
      " 2   price            848336 non-null  float64\n",
      " 3   amount           848340 non-null  float64\n",
      " 4   taker_side_sell  848340 non-null  float64\n",
      " 5   exchange         848340 non-null  object \n",
      " 6   pair             848340 non-null  object \n",
      "dtypes: float64(3), object(4)\n",
      "memory usage: 45.3+ MB\n"
     ]
    }
   ],
   "source": [
    "df.info()"
   ]
  },
  {
   "cell_type": "markdown",
   "metadata": {},
   "source": [
    "- What does each column represent? What is its type supposed to be? Does it match the type in the dataset?\n",
    "\n",
    "    - *timestamp*: trade's time. Expected types: date, datetime or datetime64[ns] \n",
    "    - *trade_id*: trade's identifier. Expected types: int or string (object)\n",
    "    - *price*: trade's price. Expected types: float, float64\n",
    "    - *amount*: number of base asset traded during the transaction. Expected types: float, float64\n",
    "    - *taker_side_sell*: indicator to know if the trade has been initiated by the buyer or the seller.Expected types: int, float, bool or category.\n",
    "    - *exchange*: exchange code on which the trade has been made. Expected type: string (object).\n",
    "    - *pair*: trade's underlying. Expected type: string (object).\n",
    "    \n",
    "Modify the dataframe so that all columns have the appropriate type.\n",
    "\n",
    "Useful methods: *astype*, *to_datetime*, etc. "
   ]
  },
  {
   "cell_type": "code",
   "execution_count": 5,
   "metadata": {},
   "outputs": [],
   "source": [
    "df.timestamp = pd.to_datetime(df.timestamp)"
   ]
  },
  {
   "cell_type": "code",
   "execution_count": 6,
   "metadata": {},
   "outputs": [],
   "source": [
    "df.taker_side_sell = df.taker_side_sell.astype(\"bool\")"
   ]
  },
  {
   "cell_type": "code",
   "execution_count": 7,
   "metadata": {},
   "outputs": [
    {
     "name": "stdout",
     "output_type": "stream",
     "text": [
      "<class 'pandas.core.frame.DataFrame'>\n",
      "RangeIndex: 848340 entries, 0 to 848339\n",
      "Data columns (total 7 columns):\n",
      " #   Column           Non-Null Count   Dtype         \n",
      "---  ------           --------------   -----         \n",
      " 0   timestamp        848340 non-null  datetime64[ns]\n",
      " 1   trade_id         848340 non-null  object        \n",
      " 2   price            848336 non-null  float64       \n",
      " 3   amount           848340 non-null  float64       \n",
      " 4   taker_side_sell  848340 non-null  bool          \n",
      " 5   exchange         848340 non-null  object        \n",
      " 6   pair             848340 non-null  object        \n",
      "dtypes: bool(1), datetime64[ns](1), float64(2), object(3)\n",
      "memory usage: 39.6+ MB\n"
     ]
    }
   ],
   "source": [
    "df.info()"
   ]
  },
  {
   "cell_type": "markdown",
   "metadata": {},
   "source": [
    "Update the dataframe so that the data is sorted over time."
   ]
  },
  {
   "cell_type": "code",
   "execution_count": 8,
   "metadata": {},
   "outputs": [],
   "source": [
    "df.sort_values(\"timestamp\", inplace = True)"
   ]
  },
  {
   "cell_type": "markdown",
   "metadata": {},
   "source": [
    "Verify that the *trade_id* is unique per each trade. If not, verify that duplicate trade identifiers correspond to identical trades. Correct the dataset so that each trade is unique."
   ]
  },
  {
   "cell_type": "code",
   "execution_count": 9,
   "metadata": {},
   "outputs": [
    {
     "data": {
      "text/plain": [
       "1.529516061456515e+26    5\n",
       "1730418308.0             3\n",
       "1730499353.0             2\n",
       "1730418853.0             2\n",
       "1730426888.0             2\n",
       "                        ..\n",
       "284694032.0              1\n",
       "372458704.0              1\n",
       "372458703.0              1\n",
       "1730543917.0             1\n",
       "1730830875.0             1\n",
       "Name: trade_id, Length: 848326, dtype: int64"
      ]
     },
     "execution_count": 9,
     "metadata": {},
     "output_type": "execute_result"
    }
   ],
   "source": [
    "trade_id_count = df.trade_id.value_counts()\n",
    "trade_id_count"
   ]
  },
  {
   "cell_type": "code",
   "execution_count": 10,
   "metadata": {},
   "outputs": [
    {
     "data": {
      "text/plain": [
       "Index(['1.529516061456515e+26', '1730418308.0', '1730499353.0', '1730418853.0',\n",
       "       '1730426888.0', '1730732945.0', '5207867360.0', '1730448541.0',\n",
       "       '1730418562.0', '788032203.0'],\n",
       "      dtype='object')"
      ]
     },
     "execution_count": 10,
     "metadata": {},
     "output_type": "execute_result"
    }
   ],
   "source": [
    "duplicate_trade_id = trade_id_count[trade_id_count > 1].index\n",
    "duplicate_trade_id"
   ]
  },
  {
   "cell_type": "code",
   "execution_count": 11,
   "metadata": {},
   "outputs": [
    {
     "data": {
      "text/html": [
       "<div>\n",
       "<style scoped>\n",
       "    .dataframe tbody tr th:only-of-type {\n",
       "        vertical-align: middle;\n",
       "    }\n",
       "\n",
       "    .dataframe tbody tr th {\n",
       "        vertical-align: top;\n",
       "    }\n",
       "\n",
       "    .dataframe thead th {\n",
       "        text-align: right;\n",
       "    }\n",
       "</style>\n",
       "<table border=\"1\" class=\"dataframe\">\n",
       "  <thead>\n",
       "    <tr style=\"text-align: right;\">\n",
       "      <th></th>\n",
       "      <th>timestamp</th>\n",
       "      <th>trade_id</th>\n",
       "      <th>price</th>\n",
       "      <th>amount</th>\n",
       "      <th>taker_side_sell</th>\n",
       "      <th>exchange</th>\n",
       "      <th>pair</th>\n",
       "    </tr>\n",
       "  </thead>\n",
       "  <tbody>\n",
       "    <tr>\n",
       "      <th>438055</th>\n",
       "      <td>2022-10-24 14:00:00.000999936</td>\n",
       "      <td>1730418308.0</td>\n",
       "      <td>19352.40</td>\n",
       "      <td>0.00339</td>\n",
       "      <td>True</td>\n",
       "      <td>bnce</td>\n",
       "      <td>btc-usdt</td>\n",
       "    </tr>\n",
       "    <tr>\n",
       "      <th>225033</th>\n",
       "      <td>2022-10-24 14:00:00.000999936</td>\n",
       "      <td>1730418308.0</td>\n",
       "      <td>19352.40</td>\n",
       "      <td>0.00339</td>\n",
       "      <td>True</td>\n",
       "      <td>bnce</td>\n",
       "      <td>btc-usdt</td>\n",
       "    </tr>\n",
       "    <tr>\n",
       "      <th>225041</th>\n",
       "      <td>2022-10-24 14:00:00.000999936</td>\n",
       "      <td>1730418308.0</td>\n",
       "      <td>19352.40</td>\n",
       "      <td>0.00339</td>\n",
       "      <td>True</td>\n",
       "      <td>bnce</td>\n",
       "      <td>btc-usdt</td>\n",
       "    </tr>\n",
       "    <tr>\n",
       "      <th>437743</th>\n",
       "      <td>2022-10-24 14:00:01.768000000</td>\n",
       "      <td>1730418562.0</td>\n",
       "      <td>19351.72</td>\n",
       "      <td>0.11560</td>\n",
       "      <td>True</td>\n",
       "      <td>bnce</td>\n",
       "      <td>btc-usdt</td>\n",
       "    </tr>\n",
       "    <tr>\n",
       "      <th>225026</th>\n",
       "      <td>2022-10-24 14:00:01.768000000</td>\n",
       "      <td>1730418562.0</td>\n",
       "      <td>19351.72</td>\n",
       "      <td>0.11560</td>\n",
       "      <td>True</td>\n",
       "      <td>bnce</td>\n",
       "      <td>btc-usdt</td>\n",
       "    </tr>\n",
       "    <tr>\n",
       "      <th>225027</th>\n",
       "      <td>2022-10-24 14:00:04.408000000</td>\n",
       "      <td>1730418853.0</td>\n",
       "      <td>19351.77</td>\n",
       "      <td>0.01401</td>\n",
       "      <td>False</td>\n",
       "      <td>bnce</td>\n",
       "      <td>btc-usdt</td>\n",
       "    </tr>\n",
       "    <tr>\n",
       "      <th>438615</th>\n",
       "      <td>2022-10-24 14:00:04.408000000</td>\n",
       "      <td>1730418853.0</td>\n",
       "      <td>19351.77</td>\n",
       "      <td>0.01401</td>\n",
       "      <td>False</td>\n",
       "      <td>bnce</td>\n",
       "      <td>btc-usdt</td>\n",
       "    </tr>\n",
       "    <tr>\n",
       "      <th>225028</th>\n",
       "      <td>2022-10-24 14:01:00.056999936</td>\n",
       "      <td>1730426888.0</td>\n",
       "      <td>19329.59</td>\n",
       "      <td>0.07125</td>\n",
       "      <td>True</td>\n",
       "      <td>bnce</td>\n",
       "      <td>btc-usdt</td>\n",
       "    </tr>\n",
       "    <tr>\n",
       "      <th>446465</th>\n",
       "      <td>2022-10-24 14:01:00.056999936</td>\n",
       "      <td>1730426888.0</td>\n",
       "      <td>19329.59</td>\n",
       "      <td>0.07125</td>\n",
       "      <td>True</td>\n",
       "      <td>bnce</td>\n",
       "      <td>btc-usdt</td>\n",
       "    </tr>\n",
       "    <tr>\n",
       "      <th>694482</th>\n",
       "      <td>2022-10-24 14:01:50.648000000</td>\n",
       "      <td>5207867360.0</td>\n",
       "      <td>6.15</td>\n",
       "      <td>20.00000</td>\n",
       "      <td>True</td>\n",
       "      <td>ftxx</td>\n",
       "      <td>uni-usdt</td>\n",
       "    </tr>\n",
       "    <tr>\n",
       "      <th>689323</th>\n",
       "      <td>2022-10-24 14:01:50.648000000</td>\n",
       "      <td>5207867360.0</td>\n",
       "      <td>6.15</td>\n",
       "      <td>20.00000</td>\n",
       "      <td>True</td>\n",
       "      <td>ftxx</td>\n",
       "      <td>uni-usdt</td>\n",
       "    </tr>\n",
       "    <tr>\n",
       "      <th>476242</th>\n",
       "      <td>2022-10-24 14:04:00.100999936</td>\n",
       "      <td>1730448541.0</td>\n",
       "      <td>19310.40</td>\n",
       "      <td>0.00676</td>\n",
       "      <td>True</td>\n",
       "      <td>bnce</td>\n",
       "      <td>btc-usdt</td>\n",
       "    </tr>\n",
       "    <tr>\n",
       "      <th>225029</th>\n",
       "      <td>2022-10-24 14:04:00.100999936</td>\n",
       "      <td>1730448541.0</td>\n",
       "      <td>19310.40</td>\n",
       "      <td>0.00676</td>\n",
       "      <td>True</td>\n",
       "      <td>bnce</td>\n",
       "      <td>btc-usdt</td>\n",
       "    </tr>\n",
       "    <tr>\n",
       "      <th>355915</th>\n",
       "      <td>2022-10-24 14:12:22.348000000</td>\n",
       "      <td>1730499353.0</td>\n",
       "      <td>19318.96</td>\n",
       "      <td>0.08012</td>\n",
       "      <td>True</td>\n",
       "      <td>bnce</td>\n",
       "      <td>btc-usdt</td>\n",
       "    </tr>\n",
       "    <tr>\n",
       "      <th>225034</th>\n",
       "      <td>2022-10-24 14:12:22.348000000</td>\n",
       "      <td>1730499353.0</td>\n",
       "      <td>19318.96</td>\n",
       "      <td>0.08012</td>\n",
       "      <td>True</td>\n",
       "      <td>bnce</td>\n",
       "      <td>btc-usdt</td>\n",
       "    </tr>\n",
       "    <tr>\n",
       "      <th>767803</th>\n",
       "      <td>2022-10-24 14:17:34.368999936</td>\n",
       "      <td>1.529516061456515e+26</td>\n",
       "      <td>1334.51</td>\n",
       "      <td>0.07290</td>\n",
       "      <td>True</td>\n",
       "      <td>huob</td>\n",
       "      <td>eth-usdt</td>\n",
       "    </tr>\n",
       "    <tr>\n",
       "      <th>768147</th>\n",
       "      <td>2022-10-24 14:17:34.368999936</td>\n",
       "      <td>1.529516061456515e+26</td>\n",
       "      <td>1334.51</td>\n",
       "      <td>0.07290</td>\n",
       "      <td>True</td>\n",
       "      <td>huob</td>\n",
       "      <td>eth-usdt</td>\n",
       "    </tr>\n",
       "    <tr>\n",
       "      <th>767636</th>\n",
       "      <td>2022-10-24 14:17:34.368999936</td>\n",
       "      <td>1.529516061456515e+26</td>\n",
       "      <td>1334.51</td>\n",
       "      <td>0.07290</td>\n",
       "      <td>True</td>\n",
       "      <td>huob</td>\n",
       "      <td>eth-usdt</td>\n",
       "    </tr>\n",
       "    <tr>\n",
       "      <th>767682</th>\n",
       "      <td>2022-10-24 14:17:34.368999936</td>\n",
       "      <td>1.529516061456515e+26</td>\n",
       "      <td>1334.51</td>\n",
       "      <td>0.07290</td>\n",
       "      <td>True</td>\n",
       "      <td>huob</td>\n",
       "      <td>eth-usdt</td>\n",
       "    </tr>\n",
       "    <tr>\n",
       "      <th>773409</th>\n",
       "      <td>2022-10-24 14:17:34.368999936</td>\n",
       "      <td>1.529516061456515e+26</td>\n",
       "      <td>1334.51</td>\n",
       "      <td>0.07290</td>\n",
       "      <td>True</td>\n",
       "      <td>huob</td>\n",
       "      <td>eth-usdt</td>\n",
       "    </tr>\n",
       "    <tr>\n",
       "      <th>326203</th>\n",
       "      <td>2022-10-24 14:40:49.865999872</td>\n",
       "      <td>1730732945.0</td>\n",
       "      <td>19249.09</td>\n",
       "      <td>0.01071</td>\n",
       "      <td>False</td>\n",
       "      <td>bnce</td>\n",
       "      <td>btc-usdt</td>\n",
       "    </tr>\n",
       "    <tr>\n",
       "      <th>225030</th>\n",
       "      <td>2022-10-24 14:40:49.865999872</td>\n",
       "      <td>1730732945.0</td>\n",
       "      <td>19249.09</td>\n",
       "      <td>0.01071</td>\n",
       "      <td>False</td>\n",
       "      <td>bnce</td>\n",
       "      <td>btc-usdt</td>\n",
       "    </tr>\n",
       "    <tr>\n",
       "      <th>225031</th>\n",
       "      <td>2022-10-24 14:53:35.899000064</td>\n",
       "      <td>788032203.0</td>\n",
       "      <td>1333.14</td>\n",
       "      <td>0.05000</td>\n",
       "      <td>True</td>\n",
       "      <td>bnce</td>\n",
       "      <td>eth-usdt</td>\n",
       "    </tr>\n",
       "    <tr>\n",
       "      <th>241512</th>\n",
       "      <td>2022-10-24 14:53:35.899000064</td>\n",
       "      <td>788032203.0</td>\n",
       "      <td>1333.14</td>\n",
       "      <td>0.05000</td>\n",
       "      <td>True</td>\n",
       "      <td>bnce</td>\n",
       "      <td>eth-usdt</td>\n",
       "    </tr>\n",
       "  </tbody>\n",
       "</table>\n",
       "</div>"
      ],
      "text/plain": [
       "                           timestamp               trade_id     price  \\\n",
       "438055 2022-10-24 14:00:00.000999936           1730418308.0  19352.40   \n",
       "225033 2022-10-24 14:00:00.000999936           1730418308.0  19352.40   \n",
       "225041 2022-10-24 14:00:00.000999936           1730418308.0  19352.40   \n",
       "437743 2022-10-24 14:00:01.768000000           1730418562.0  19351.72   \n",
       "225026 2022-10-24 14:00:01.768000000           1730418562.0  19351.72   \n",
       "225027 2022-10-24 14:00:04.408000000           1730418853.0  19351.77   \n",
       "438615 2022-10-24 14:00:04.408000000           1730418853.0  19351.77   \n",
       "225028 2022-10-24 14:01:00.056999936           1730426888.0  19329.59   \n",
       "446465 2022-10-24 14:01:00.056999936           1730426888.0  19329.59   \n",
       "694482 2022-10-24 14:01:50.648000000           5207867360.0      6.15   \n",
       "689323 2022-10-24 14:01:50.648000000           5207867360.0      6.15   \n",
       "476242 2022-10-24 14:04:00.100999936           1730448541.0  19310.40   \n",
       "225029 2022-10-24 14:04:00.100999936           1730448541.0  19310.40   \n",
       "355915 2022-10-24 14:12:22.348000000           1730499353.0  19318.96   \n",
       "225034 2022-10-24 14:12:22.348000000           1730499353.0  19318.96   \n",
       "767803 2022-10-24 14:17:34.368999936  1.529516061456515e+26   1334.51   \n",
       "768147 2022-10-24 14:17:34.368999936  1.529516061456515e+26   1334.51   \n",
       "767636 2022-10-24 14:17:34.368999936  1.529516061456515e+26   1334.51   \n",
       "767682 2022-10-24 14:17:34.368999936  1.529516061456515e+26   1334.51   \n",
       "773409 2022-10-24 14:17:34.368999936  1.529516061456515e+26   1334.51   \n",
       "326203 2022-10-24 14:40:49.865999872           1730732945.0  19249.09   \n",
       "225030 2022-10-24 14:40:49.865999872           1730732945.0  19249.09   \n",
       "225031 2022-10-24 14:53:35.899000064            788032203.0   1333.14   \n",
       "241512 2022-10-24 14:53:35.899000064            788032203.0   1333.14   \n",
       "\n",
       "          amount  taker_side_sell exchange      pair  \n",
       "438055   0.00339             True     bnce  btc-usdt  \n",
       "225033   0.00339             True     bnce  btc-usdt  \n",
       "225041   0.00339             True     bnce  btc-usdt  \n",
       "437743   0.11560             True     bnce  btc-usdt  \n",
       "225026   0.11560             True     bnce  btc-usdt  \n",
       "225027   0.01401            False     bnce  btc-usdt  \n",
       "438615   0.01401            False     bnce  btc-usdt  \n",
       "225028   0.07125             True     bnce  btc-usdt  \n",
       "446465   0.07125             True     bnce  btc-usdt  \n",
       "694482  20.00000             True     ftxx  uni-usdt  \n",
       "689323  20.00000             True     ftxx  uni-usdt  \n",
       "476242   0.00676             True     bnce  btc-usdt  \n",
       "225029   0.00676             True     bnce  btc-usdt  \n",
       "355915   0.08012             True     bnce  btc-usdt  \n",
       "225034   0.08012             True     bnce  btc-usdt  \n",
       "767803   0.07290             True     huob  eth-usdt  \n",
       "768147   0.07290             True     huob  eth-usdt  \n",
       "767636   0.07290             True     huob  eth-usdt  \n",
       "767682   0.07290             True     huob  eth-usdt  \n",
       "773409   0.07290             True     huob  eth-usdt  \n",
       "326203   0.01071            False     bnce  btc-usdt  \n",
       "225030   0.01071            False     bnce  btc-usdt  \n",
       "225031   0.05000             True     bnce  eth-usdt  \n",
       "241512   0.05000             True     bnce  eth-usdt  "
      ]
     },
     "execution_count": 11,
     "metadata": {},
     "output_type": "execute_result"
    }
   ],
   "source": [
    "df[df.trade_id.isin(duplicate_trade_id)]"
   ]
  },
  {
   "cell_type": "code",
   "execution_count": 12,
   "metadata": {},
   "outputs": [],
   "source": [
    "# We confirm that each duplicate trade_id corresponds to a unique trade. "
   ]
  },
  {
   "cell_type": "code",
   "execution_count": 13,
   "metadata": {},
   "outputs": [],
   "source": [
    "df.drop_duplicates(subset=['trade_id'], inplace = True)"
   ]
  },
  {
   "cell_type": "code",
   "execution_count": 14,
   "metadata": {},
   "outputs": [],
   "source": [
    "# We verify that it worked."
   ]
  },
  {
   "cell_type": "code",
   "execution_count": 15,
   "metadata": {},
   "outputs": [
    {
     "data": {
      "text/html": [
       "<div>\n",
       "<style scoped>\n",
       "    .dataframe tbody tr th:only-of-type {\n",
       "        vertical-align: middle;\n",
       "    }\n",
       "\n",
       "    .dataframe tbody tr th {\n",
       "        vertical-align: top;\n",
       "    }\n",
       "\n",
       "    .dataframe thead th {\n",
       "        text-align: right;\n",
       "    }\n",
       "</style>\n",
       "<table border=\"1\" class=\"dataframe\">\n",
       "  <thead>\n",
       "    <tr style=\"text-align: right;\">\n",
       "      <th></th>\n",
       "      <th>timestamp</th>\n",
       "      <th>trade_id</th>\n",
       "      <th>price</th>\n",
       "      <th>amount</th>\n",
       "      <th>taker_side_sell</th>\n",
       "      <th>exchange</th>\n",
       "      <th>pair</th>\n",
       "    </tr>\n",
       "  </thead>\n",
       "  <tbody>\n",
       "    <tr>\n",
       "      <th>438055</th>\n",
       "      <td>2022-10-24 14:00:00.000999936</td>\n",
       "      <td>1730418308.0</td>\n",
       "      <td>19352.40</td>\n",
       "      <td>0.00339</td>\n",
       "      <td>True</td>\n",
       "      <td>bnce</td>\n",
       "      <td>btc-usdt</td>\n",
       "    </tr>\n",
       "    <tr>\n",
       "      <th>437743</th>\n",
       "      <td>2022-10-24 14:00:01.768000000</td>\n",
       "      <td>1730418562.0</td>\n",
       "      <td>19351.72</td>\n",
       "      <td>0.11560</td>\n",
       "      <td>True</td>\n",
       "      <td>bnce</td>\n",
       "      <td>btc-usdt</td>\n",
       "    </tr>\n",
       "    <tr>\n",
       "      <th>225027</th>\n",
       "      <td>2022-10-24 14:00:04.408000000</td>\n",
       "      <td>1730418853.0</td>\n",
       "      <td>19351.77</td>\n",
       "      <td>0.01401</td>\n",
       "      <td>False</td>\n",
       "      <td>bnce</td>\n",
       "      <td>btc-usdt</td>\n",
       "    </tr>\n",
       "    <tr>\n",
       "      <th>225028</th>\n",
       "      <td>2022-10-24 14:01:00.056999936</td>\n",
       "      <td>1730426888.0</td>\n",
       "      <td>19329.59</td>\n",
       "      <td>0.07125</td>\n",
       "      <td>True</td>\n",
       "      <td>bnce</td>\n",
       "      <td>btc-usdt</td>\n",
       "    </tr>\n",
       "    <tr>\n",
       "      <th>694482</th>\n",
       "      <td>2022-10-24 14:01:50.648000000</td>\n",
       "      <td>5207867360.0</td>\n",
       "      <td>6.15</td>\n",
       "      <td>20.00000</td>\n",
       "      <td>True</td>\n",
       "      <td>ftxx</td>\n",
       "      <td>uni-usdt</td>\n",
       "    </tr>\n",
       "    <tr>\n",
       "      <th>476242</th>\n",
       "      <td>2022-10-24 14:04:00.100999936</td>\n",
       "      <td>1730448541.0</td>\n",
       "      <td>19310.40</td>\n",
       "      <td>0.00676</td>\n",
       "      <td>True</td>\n",
       "      <td>bnce</td>\n",
       "      <td>btc-usdt</td>\n",
       "    </tr>\n",
       "    <tr>\n",
       "      <th>355915</th>\n",
       "      <td>2022-10-24 14:12:22.348000000</td>\n",
       "      <td>1730499353.0</td>\n",
       "      <td>19318.96</td>\n",
       "      <td>0.08012</td>\n",
       "      <td>True</td>\n",
       "      <td>bnce</td>\n",
       "      <td>btc-usdt</td>\n",
       "    </tr>\n",
       "    <tr>\n",
       "      <th>767803</th>\n",
       "      <td>2022-10-24 14:17:34.368999936</td>\n",
       "      <td>1.529516061456515e+26</td>\n",
       "      <td>1334.51</td>\n",
       "      <td>0.07290</td>\n",
       "      <td>True</td>\n",
       "      <td>huob</td>\n",
       "      <td>eth-usdt</td>\n",
       "    </tr>\n",
       "    <tr>\n",
       "      <th>326203</th>\n",
       "      <td>2022-10-24 14:40:49.865999872</td>\n",
       "      <td>1730732945.0</td>\n",
       "      <td>19249.09</td>\n",
       "      <td>0.01071</td>\n",
       "      <td>False</td>\n",
       "      <td>bnce</td>\n",
       "      <td>btc-usdt</td>\n",
       "    </tr>\n",
       "    <tr>\n",
       "      <th>225031</th>\n",
       "      <td>2022-10-24 14:53:35.899000064</td>\n",
       "      <td>788032203.0</td>\n",
       "      <td>1333.14</td>\n",
       "      <td>0.05000</td>\n",
       "      <td>True</td>\n",
       "      <td>bnce</td>\n",
       "      <td>eth-usdt</td>\n",
       "    </tr>\n",
       "  </tbody>\n",
       "</table>\n",
       "</div>"
      ],
      "text/plain": [
       "                           timestamp               trade_id     price  \\\n",
       "438055 2022-10-24 14:00:00.000999936           1730418308.0  19352.40   \n",
       "437743 2022-10-24 14:00:01.768000000           1730418562.0  19351.72   \n",
       "225027 2022-10-24 14:00:04.408000000           1730418853.0  19351.77   \n",
       "225028 2022-10-24 14:01:00.056999936           1730426888.0  19329.59   \n",
       "694482 2022-10-24 14:01:50.648000000           5207867360.0      6.15   \n",
       "476242 2022-10-24 14:04:00.100999936           1730448541.0  19310.40   \n",
       "355915 2022-10-24 14:12:22.348000000           1730499353.0  19318.96   \n",
       "767803 2022-10-24 14:17:34.368999936  1.529516061456515e+26   1334.51   \n",
       "326203 2022-10-24 14:40:49.865999872           1730732945.0  19249.09   \n",
       "225031 2022-10-24 14:53:35.899000064            788032203.0   1333.14   \n",
       "\n",
       "          amount  taker_side_sell exchange      pair  \n",
       "438055   0.00339             True     bnce  btc-usdt  \n",
       "437743   0.11560             True     bnce  btc-usdt  \n",
       "225027   0.01401            False     bnce  btc-usdt  \n",
       "225028   0.07125             True     bnce  btc-usdt  \n",
       "694482  20.00000             True     ftxx  uni-usdt  \n",
       "476242   0.00676             True     bnce  btc-usdt  \n",
       "355915   0.08012             True     bnce  btc-usdt  \n",
       "767803   0.07290             True     huob  eth-usdt  \n",
       "326203   0.01071            False     bnce  btc-usdt  \n",
       "225031   0.05000             True     bnce  eth-usdt  "
      ]
     },
     "execution_count": 15,
     "metadata": {},
     "output_type": "execute_result"
    }
   ],
   "source": [
    "df[df.trade_id.isin(duplicate_trade_id)]"
   ]
  },
  {
   "cell_type": "code",
   "execution_count": 16,
   "metadata": {},
   "outputs": [
    {
     "data": {
      "text/plain": [
       "787987369.0     1\n",
       "1730686932.0    1\n",
       "1730686927.0    1\n",
       "1730686923.0    1\n",
       "1730686925.0    1\n",
       "               ..\n",
       "284694029.0     1\n",
       "284694031.0     1\n",
       "284694030.0     1\n",
       "61257904.0      1\n",
       "1730830875.0    1\n",
       "Name: trade_id, Length: 848326, dtype: int64"
      ]
     },
     "execution_count": 16,
     "metadata": {},
     "output_type": "execute_result"
    }
   ],
   "source": [
    "df.trade_id.value_counts()"
   ]
  },
  {
   "cell_type": "markdown",
   "metadata": {},
   "source": [
    "Search if there are any missing prices in the dataset and get rid of the corresponding rows if necessary."
   ]
  },
  {
   "cell_type": "code",
   "execution_count": 17,
   "metadata": {},
   "outputs": [
    {
     "data": {
      "text/html": [
       "<div>\n",
       "<style scoped>\n",
       "    .dataframe tbody tr th:only-of-type {\n",
       "        vertical-align: middle;\n",
       "    }\n",
       "\n",
       "    .dataframe tbody tr th {\n",
       "        vertical-align: top;\n",
       "    }\n",
       "\n",
       "    .dataframe thead th {\n",
       "        text-align: right;\n",
       "    }\n",
       "</style>\n",
       "<table border=\"1\" class=\"dataframe\">\n",
       "  <thead>\n",
       "    <tr style=\"text-align: right;\">\n",
       "      <th></th>\n",
       "      <th>timestamp</th>\n",
       "      <th>trade_id</th>\n",
       "      <th>price</th>\n",
       "      <th>amount</th>\n",
       "      <th>taker_side_sell</th>\n",
       "      <th>exchange</th>\n",
       "      <th>pair</th>\n",
       "    </tr>\n",
       "  </thead>\n",
       "  <tbody>\n",
       "    <tr>\n",
       "      <th>225035</th>\n",
       "      <td>2022-10-24 14:00:17.427000064</td>\n",
       "      <td>787987649.1</td>\n",
       "      <td>NaN</td>\n",
       "      <td>0.76500</td>\n",
       "      <td>True</td>\n",
       "      <td>bnce</td>\n",
       "      <td>eth-usdt</td>\n",
       "    </tr>\n",
       "    <tr>\n",
       "      <th>225036</th>\n",
       "      <td>2022-10-24 14:00:21.936000000</td>\n",
       "      <td>1730421453.1</td>\n",
       "      <td>NaN</td>\n",
       "      <td>0.24968</td>\n",
       "      <td>False</td>\n",
       "      <td>bnce</td>\n",
       "      <td>btc-usdt</td>\n",
       "    </tr>\n",
       "    <tr>\n",
       "      <th>225037</th>\n",
       "      <td>2022-10-24 14:35:28.483000064</td>\n",
       "      <td>1730696163.1</td>\n",
       "      <td>NaN</td>\n",
       "      <td>0.00748</td>\n",
       "      <td>True</td>\n",
       "      <td>bnce</td>\n",
       "      <td>btc-usdt</td>\n",
       "    </tr>\n",
       "    <tr>\n",
       "      <th>225038</th>\n",
       "      <td>2022-10-24 14:43:32.825999872</td>\n",
       "      <td>1730746498.1</td>\n",
       "      <td>NaN</td>\n",
       "      <td>0.00063</td>\n",
       "      <td>False</td>\n",
       "      <td>bnce</td>\n",
       "      <td>btc-usdt</td>\n",
       "    </tr>\n",
       "  </tbody>\n",
       "</table>\n",
       "</div>"
      ],
      "text/plain": [
       "                           timestamp      trade_id  price   amount  \\\n",
       "225035 2022-10-24 14:00:17.427000064   787987649.1    NaN  0.76500   \n",
       "225036 2022-10-24 14:00:21.936000000  1730421453.1    NaN  0.24968   \n",
       "225037 2022-10-24 14:35:28.483000064  1730696163.1    NaN  0.00748   \n",
       "225038 2022-10-24 14:43:32.825999872  1730746498.1    NaN  0.00063   \n",
       "\n",
       "        taker_side_sell exchange      pair  \n",
       "225035             True     bnce  eth-usdt  \n",
       "225036            False     bnce  btc-usdt  \n",
       "225037             True     bnce  btc-usdt  \n",
       "225038            False     bnce  btc-usdt  "
      ]
     },
     "execution_count": 17,
     "metadata": {},
     "output_type": "execute_result"
    }
   ],
   "source": [
    "df[df.price.isna()]"
   ]
  },
  {
   "cell_type": "code",
   "execution_count": 18,
   "metadata": {},
   "outputs": [],
   "source": [
    "df.dropna(subset=['price'], inplace = True)"
   ]
  },
  {
   "cell_type": "code",
   "execution_count": 19,
   "metadata": {},
   "outputs": [
    {
     "name": "stdout",
     "output_type": "stream",
     "text": [
      "<class 'pandas.core.frame.DataFrame'>\n",
      "Int64Index: 848322 entries, 0 to 225042\n",
      "Data columns (total 7 columns):\n",
      " #   Column           Non-Null Count   Dtype         \n",
      "---  ------           --------------   -----         \n",
      " 0   timestamp        848322 non-null  datetime64[ns]\n",
      " 1   trade_id         848322 non-null  object        \n",
      " 2   price            848322 non-null  float64       \n",
      " 3   amount           848322 non-null  float64       \n",
      " 4   taker_side_sell  848322 non-null  bool          \n",
      " 5   exchange         848322 non-null  object        \n",
      " 6   pair             848322 non-null  object        \n",
      "dtypes: bool(1), datetime64[ns](1), float64(2), object(3)\n",
      "memory usage: 46.1+ MB\n"
     ]
    }
   ],
   "source": [
    "df.info()"
   ]
  },
  {
   "cell_type": "markdown",
   "metadata": {},
   "source": [
    "Update the dataset if necessary to ensure that every trade admits a strictly positive price and amount. Get rid of the non-consistent rows if necessary."
   ]
  },
  {
   "cell_type": "code",
   "execution_count": 20,
   "metadata": {},
   "outputs": [
    {
     "data": {
      "text/html": [
       "<div>\n",
       "<style scoped>\n",
       "    .dataframe tbody tr th:only-of-type {\n",
       "        vertical-align: middle;\n",
       "    }\n",
       "\n",
       "    .dataframe tbody tr th {\n",
       "        vertical-align: top;\n",
       "    }\n",
       "\n",
       "    .dataframe thead th {\n",
       "        text-align: right;\n",
       "    }\n",
       "</style>\n",
       "<table border=\"1\" class=\"dataframe\">\n",
       "  <thead>\n",
       "    <tr style=\"text-align: right;\">\n",
       "      <th></th>\n",
       "      <th>timestamp</th>\n",
       "      <th>trade_id</th>\n",
       "      <th>price</th>\n",
       "      <th>amount</th>\n",
       "      <th>taker_side_sell</th>\n",
       "      <th>exchange</th>\n",
       "      <th>pair</th>\n",
       "    </tr>\n",
       "  </thead>\n",
       "  <tbody>\n",
       "  </tbody>\n",
       "</table>\n",
       "</div>"
      ],
      "text/plain": [
       "Empty DataFrame\n",
       "Columns: [timestamp, trade_id, price, amount, taker_side_sell, exchange, pair]\n",
       "Index: []"
      ]
     },
     "execution_count": 20,
     "metadata": {},
     "output_type": "execute_result"
    }
   ],
   "source": [
    "df[df.price < 0]"
   ]
  },
  {
   "cell_type": "code",
   "execution_count": 21,
   "metadata": {},
   "outputs": [
    {
     "data": {
      "text/html": [
       "<div>\n",
       "<style scoped>\n",
       "    .dataframe tbody tr th:only-of-type {\n",
       "        vertical-align: middle;\n",
       "    }\n",
       "\n",
       "    .dataframe tbody tr th {\n",
       "        vertical-align: top;\n",
       "    }\n",
       "\n",
       "    .dataframe thead th {\n",
       "        text-align: right;\n",
       "    }\n",
       "</style>\n",
       "<table border=\"1\" class=\"dataframe\">\n",
       "  <thead>\n",
       "    <tr style=\"text-align: right;\">\n",
       "      <th></th>\n",
       "      <th>timestamp</th>\n",
       "      <th>trade_id</th>\n",
       "      <th>price</th>\n",
       "      <th>amount</th>\n",
       "      <th>taker_side_sell</th>\n",
       "      <th>exchange</th>\n",
       "      <th>pair</th>\n",
       "    </tr>\n",
       "  </thead>\n",
       "  <tbody>\n",
       "  </tbody>\n",
       "</table>\n",
       "</div>"
      ],
      "text/plain": [
       "Empty DataFrame\n",
       "Columns: [timestamp, trade_id, price, amount, taker_side_sell, exchange, pair]\n",
       "Index: []"
      ]
     },
     "execution_count": 21,
     "metadata": {},
     "output_type": "execute_result"
    }
   ],
   "source": [
    "df[df.amount.isna()]"
   ]
  },
  {
   "cell_type": "code",
   "execution_count": 22,
   "metadata": {},
   "outputs": [
    {
     "data": {
      "text/html": [
       "<div>\n",
       "<style scoped>\n",
       "    .dataframe tbody tr th:only-of-type {\n",
       "        vertical-align: middle;\n",
       "    }\n",
       "\n",
       "    .dataframe tbody tr th {\n",
       "        vertical-align: top;\n",
       "    }\n",
       "\n",
       "    .dataframe thead th {\n",
       "        text-align: right;\n",
       "    }\n",
       "</style>\n",
       "<table border=\"1\" class=\"dataframe\">\n",
       "  <thead>\n",
       "    <tr style=\"text-align: right;\">\n",
       "      <th></th>\n",
       "      <th>timestamp</th>\n",
       "      <th>trade_id</th>\n",
       "      <th>price</th>\n",
       "      <th>amount</th>\n",
       "      <th>taker_side_sell</th>\n",
       "      <th>exchange</th>\n",
       "      <th>pair</th>\n",
       "    </tr>\n",
       "  </thead>\n",
       "  <tbody>\n",
       "    <tr>\n",
       "      <th>225039</th>\n",
       "      <td>2022-10-24 14:00:06.748000000</td>\n",
       "      <td>1730419248.1</td>\n",
       "      <td>19351.560</td>\n",
       "      <td>-0.012410</td>\n",
       "      <td>True</td>\n",
       "      <td>bnce</td>\n",
       "      <td>btc-usdt</td>\n",
       "    </tr>\n",
       "    <tr>\n",
       "      <th>337560</th>\n",
       "      <td>2022-10-24 14:00:19.812000000</td>\n",
       "      <td>182659344.1</td>\n",
       "      <td>6.912</td>\n",
       "      <td>-68.240000</td>\n",
       "      <td>True</td>\n",
       "      <td>bnce</td>\n",
       "      <td>link-usdt</td>\n",
       "    </tr>\n",
       "    <tr>\n",
       "      <th>225040</th>\n",
       "      <td>2022-10-24 14:04:00.096999936</td>\n",
       "      <td>1730448539.1</td>\n",
       "      <td>19310.760</td>\n",
       "      <td>-0.058730</td>\n",
       "      <td>True</td>\n",
       "      <td>bnce</td>\n",
       "      <td>btc-usdt</td>\n",
       "    </tr>\n",
       "    <tr>\n",
       "      <th>641386</th>\n",
       "      <td>2022-10-24 14:32:50.184000000</td>\n",
       "      <td>437881424.1</td>\n",
       "      <td>19216.190</td>\n",
       "      <td>-0.009553</td>\n",
       "      <td>False</td>\n",
       "      <td>cbse</td>\n",
       "      <td>btc-usd</td>\n",
       "    </tr>\n",
       "    <tr>\n",
       "      <th>726461</th>\n",
       "      <td>2022-10-24 14:53:14.820000000</td>\n",
       "      <td>5208373822.1</td>\n",
       "      <td>52.415</td>\n",
       "      <td>-0.010000</td>\n",
       "      <td>False</td>\n",
       "      <td>ftxx</td>\n",
       "      <td>ltc-usd</td>\n",
       "    </tr>\n",
       "  </tbody>\n",
       "</table>\n",
       "</div>"
      ],
      "text/plain": [
       "                           timestamp      trade_id      price     amount  \\\n",
       "225039 2022-10-24 14:00:06.748000000  1730419248.1  19351.560  -0.012410   \n",
       "337560 2022-10-24 14:00:19.812000000   182659344.1      6.912 -68.240000   \n",
       "225040 2022-10-24 14:04:00.096999936  1730448539.1  19310.760  -0.058730   \n",
       "641386 2022-10-24 14:32:50.184000000   437881424.1  19216.190  -0.009553   \n",
       "726461 2022-10-24 14:53:14.820000000  5208373822.1     52.415  -0.010000   \n",
       "\n",
       "        taker_side_sell exchange       pair  \n",
       "225039             True     bnce   btc-usdt  \n",
       "337560             True     bnce  link-usdt  \n",
       "225040             True     bnce   btc-usdt  \n",
       "641386            False     cbse    btc-usd  \n",
       "726461            False     ftxx    ltc-usd  "
      ]
     },
     "execution_count": 22,
     "metadata": {},
     "output_type": "execute_result"
    }
   ],
   "source": [
    "df[df.amount < 0]"
   ]
  },
  {
   "cell_type": "code",
   "execution_count": 23,
   "metadata": {},
   "outputs": [],
   "source": [
    "df.drop(df[df.amount < 0].index, inplace = True)"
   ]
  },
  {
   "cell_type": "code",
   "execution_count": 24,
   "metadata": {},
   "outputs": [
    {
     "data": {
      "text/html": [
       "<div>\n",
       "<style scoped>\n",
       "    .dataframe tbody tr th:only-of-type {\n",
       "        vertical-align: middle;\n",
       "    }\n",
       "\n",
       "    .dataframe tbody tr th {\n",
       "        vertical-align: top;\n",
       "    }\n",
       "\n",
       "    .dataframe thead th {\n",
       "        text-align: right;\n",
       "    }\n",
       "</style>\n",
       "<table border=\"1\" class=\"dataframe\">\n",
       "  <thead>\n",
       "    <tr style=\"text-align: right;\">\n",
       "      <th></th>\n",
       "      <th>timestamp</th>\n",
       "      <th>trade_id</th>\n",
       "      <th>price</th>\n",
       "      <th>amount</th>\n",
       "      <th>taker_side_sell</th>\n",
       "      <th>exchange</th>\n",
       "      <th>pair</th>\n",
       "    </tr>\n",
       "  </thead>\n",
       "  <tbody>\n",
       "  </tbody>\n",
       "</table>\n",
       "</div>"
      ],
      "text/plain": [
       "Empty DataFrame\n",
       "Columns: [timestamp, trade_id, price, amount, taker_side_sell, exchange, pair]\n",
       "Index: []"
      ]
     },
     "execution_count": 24,
     "metadata": {},
     "output_type": "execute_result"
    }
   ],
   "source": [
    "df[df.amount < 0]"
   ]
  },
  {
   "cell_type": "markdown",
   "metadata": {},
   "source": [
    "At this stage, you should be confident that:\n",
    "- each column has consistent values and is in a proper type\n",
    "- you don't have any duplicates or missing data\n",
    "- you don't have financially inconsistent data"
   ]
  },
  {
   "cell_type": "markdown",
   "metadata": {},
   "source": [
    "## 3. Explore the data"
   ]
  },
  {
   "cell_type": "markdown",
   "metadata": {},
   "source": [
    "### First explorations\n",
    "\n",
    "Answer to the following questions:\n",
    "- How many distinct pairs are there in the dataset?\n",
    "- How many distinct exchanges are there? Give the list of the exchanges' codes\n",
    "- What pair admits the highest number of trades? What pairs admit the least number of trades?\n",
    "- Are there more trades initiated by buyers or by sellers?\n",
    "- What are the five trades with the largest amounts?\n",
    "- What are the 10 smallest distinct traded prices?\n",
    "\n",
    "Useful methods: *unique*, *nunique*, *value_counts*, *nsmallest*, etc."
   ]
  },
  {
   "cell_type": "code",
   "execution_count": 25,
   "metadata": {},
   "outputs": [
    {
     "data": {
      "text/plain": [
       "101"
      ]
     },
     "execution_count": 25,
     "metadata": {},
     "output_type": "execute_result"
    }
   ],
   "source": [
    "df.pair.nunique()"
   ]
  },
  {
   "cell_type": "code",
   "execution_count": 26,
   "metadata": {},
   "outputs": [],
   "source": [
    "# There are 101 distinct pairs."
   ]
  },
  {
   "cell_type": "code",
   "execution_count": 27,
   "metadata": {},
   "outputs": [
    {
     "data": {
      "text/plain": [
       "9"
      ]
     },
     "execution_count": 27,
     "metadata": {},
     "output_type": "execute_result"
    }
   ],
   "source": [
    "df.exchange.nunique()"
   ]
  },
  {
   "cell_type": "code",
   "execution_count": 28,
   "metadata": {},
   "outputs": [
    {
     "data": {
      "text/plain": [
       "array(['bnce', 'huob', 'ftxx', 'cbse', 'stmp', 'itbi', 'gmni', 'cexi',\n",
       "       'btrx'], dtype=object)"
      ]
     },
     "execution_count": 28,
     "metadata": {},
     "output_type": "execute_result"
    }
   ],
   "source": [
    "df.exchange.unique()"
   ]
  },
  {
   "cell_type": "code",
   "execution_count": 29,
   "metadata": {},
   "outputs": [],
   "source": [
    "# There are 9 exchanges: bnce, huob, ftxx, cbse, stmp, itbi, gmni, cexi, and btrx"
   ]
  },
  {
   "cell_type": "code",
   "execution_count": 30,
   "metadata": {},
   "outputs": [
    {
     "data": {
      "text/plain": [
       "btc-usdt     422630\n",
       "eth-usdt      61248\n",
       "btc-usd       58365\n",
       "eth-usd       57908\n",
       "sol-usd       16746\n",
       "              ...  \n",
       "luna-usd         44\n",
       "bnb-dai           2\n",
       "iota-usd          1\n",
       "vet-usd           1\n",
       "usdc-usdc         1\n",
       "Name: pair, Length: 101, dtype: int64"
      ]
     },
     "execution_count": 30,
     "metadata": {},
     "output_type": "execute_result"
    }
   ],
   "source": [
    "df.pair.value_counts()"
   ]
  },
  {
   "cell_type": "code",
   "execution_count": 31,
   "metadata": {},
   "outputs": [
    {
     "data": {
      "text/plain": [
       "True     430203\n",
       "False    418114\n",
       "Name: taker_side_sell, dtype: int64"
      ]
     },
     "execution_count": 31,
     "metadata": {},
     "output_type": "execute_result"
    }
   ],
   "source": [
    "df.taker_side_sell.value_counts()"
   ]
  },
  {
   "cell_type": "code",
   "execution_count": 32,
   "metadata": {},
   "outputs": [],
   "source": [
    "# There are more trades initiated by sellers."
   ]
  },
  {
   "cell_type": "code",
   "execution_count": 33,
   "metadata": {},
   "outputs": [
    {
     "data": {
      "text/html": [
       "<div>\n",
       "<style scoped>\n",
       "    .dataframe tbody tr th:only-of-type {\n",
       "        vertical-align: middle;\n",
       "    }\n",
       "\n",
       "    .dataframe tbody tr th {\n",
       "        vertical-align: top;\n",
       "    }\n",
       "\n",
       "    .dataframe thead th {\n",
       "        text-align: right;\n",
       "    }\n",
       "</style>\n",
       "<table border=\"1\" class=\"dataframe\">\n",
       "  <thead>\n",
       "    <tr style=\"text-align: right;\">\n",
       "      <th></th>\n",
       "      <th>timestamp</th>\n",
       "      <th>trade_id</th>\n",
       "      <th>price</th>\n",
       "      <th>amount</th>\n",
       "      <th>taker_side_sell</th>\n",
       "      <th>exchange</th>\n",
       "      <th>pair</th>\n",
       "    </tr>\n",
       "  </thead>\n",
       "  <tbody>\n",
       "    <tr>\n",
       "      <th>490456</th>\n",
       "      <td>2022-10-24 14:20:26.063000064</td>\n",
       "      <td>214202241.0</td>\n",
       "      <td>0.00001</td>\n",
       "      <td>6.019928e+09</td>\n",
       "      <td>True</td>\n",
       "      <td>bnce</td>\n",
       "      <td>shib-usdt</td>\n",
       "    </tr>\n",
       "    <tr>\n",
       "      <th>47302</th>\n",
       "      <td>2022-10-24 14:34:35.319000064</td>\n",
       "      <td>214203046.0</td>\n",
       "      <td>0.00001</td>\n",
       "      <td>3.535163e+09</td>\n",
       "      <td>True</td>\n",
       "      <td>bnce</td>\n",
       "      <td>shib-usdt</td>\n",
       "    </tr>\n",
       "    <tr>\n",
       "      <th>18064</th>\n",
       "      <td>2022-10-24 14:30:23.633999872</td>\n",
       "      <td>214202931.0</td>\n",
       "      <td>0.00001</td>\n",
       "      <td>3.231175e+09</td>\n",
       "      <td>False</td>\n",
       "      <td>bnce</td>\n",
       "      <td>shib-usdt</td>\n",
       "    </tr>\n",
       "    <tr>\n",
       "      <th>490457</th>\n",
       "      <td>2022-10-24 14:20:26.063000064</td>\n",
       "      <td>214202240.0</td>\n",
       "      <td>0.00001</td>\n",
       "      <td>3.071204e+09</td>\n",
       "      <td>True</td>\n",
       "      <td>bnce</td>\n",
       "      <td>shib-usdt</td>\n",
       "    </tr>\n",
       "    <tr>\n",
       "      <th>186996</th>\n",
       "      <td>2022-10-24 14:51:49.230000128</td>\n",
       "      <td>214203609.0</td>\n",
       "      <td>0.00001</td>\n",
       "      <td>1.882075e+09</td>\n",
       "      <td>False</td>\n",
       "      <td>bnce</td>\n",
       "      <td>shib-usdt</td>\n",
       "    </tr>\n",
       "  </tbody>\n",
       "</table>\n",
       "</div>"
      ],
      "text/plain": [
       "                           timestamp     trade_id    price        amount  \\\n",
       "490456 2022-10-24 14:20:26.063000064  214202241.0  0.00001  6.019928e+09   \n",
       "47302  2022-10-24 14:34:35.319000064  214203046.0  0.00001  3.535163e+09   \n",
       "18064  2022-10-24 14:30:23.633999872  214202931.0  0.00001  3.231175e+09   \n",
       "490457 2022-10-24 14:20:26.063000064  214202240.0  0.00001  3.071204e+09   \n",
       "186996 2022-10-24 14:51:49.230000128  214203609.0  0.00001  1.882075e+09   \n",
       "\n",
       "        taker_side_sell exchange       pair  \n",
       "490456             True     bnce  shib-usdt  \n",
       "47302              True     bnce  shib-usdt  \n",
       "18064             False     bnce  shib-usdt  \n",
       "490457             True     bnce  shib-usdt  \n",
       "186996            False     bnce  shib-usdt  "
      ]
     },
     "execution_count": 33,
     "metadata": {},
     "output_type": "execute_result"
    }
   ],
   "source": [
    "df.nlargest(5, columns=\"amount\")"
   ]
  },
  {
   "cell_type": "code",
   "execution_count": 34,
   "metadata": {},
   "outputs": [
    {
     "data": {
      "text/plain": [
       "array([9.840e-06, 9.850e-06, 9.858e-06, 9.860e-06, 9.863e-06, 9.870e-06,\n",
       "       9.873e-06, 9.875e-06, 9.880e-06, 9.881e-06])"
      ]
     },
     "execution_count": 34,
     "metadata": {},
     "output_type": "execute_result"
    }
   ],
   "source": [
    "# The 10 smallest distinct traded prices are the following:\n",
    "np.sort(df.price.unique())[:10]"
   ]
  },
  {
   "cell_type": "markdown",
   "metadata": {},
   "source": [
    "### Focus on the pair BTC-USDT\n",
    "\n",
    "Create another dataset containing only the trades on the pair BTC-USDT."
   ]
  },
  {
   "cell_type": "code",
   "execution_count": 35,
   "metadata": {},
   "outputs": [],
   "source": [
    "df_filtered = df[df.pair == \"btc-usdt\"].copy()"
   ]
  },
  {
   "cell_type": "markdown",
   "metadata": {},
   "source": [
    "- Do a statistical analysis of the prices. \n",
    "- Plot the distribution of the prices.\n",
    "- Plot the box plot of the prices, what do you observe?\n",
    "- Extract the prices that deviate significantly from the average (i.e. at least 3 times from the standard deviation). \n",
    "\n",
    "Useful methods: *describe*, any standard statistical methods (min, max, mean etc.), any plotting methods (plot, hist). "
   ]
  },
  {
   "cell_type": "code",
   "execution_count": 36,
   "metadata": {},
   "outputs": [
    {
     "data": {
      "text/plain": [
       "count    4.226300e+05\n",
       "mean     1.936685e+04\n",
       "std      5.375274e+04\n",
       "min      1.915700e+04\n",
       "25%      1.922070e+04\n",
       "50%      1.924500e+04\n",
       "75%      1.928410e+04\n",
       "max      2.922541e+07\n",
       "Name: price, dtype: float64"
      ]
     },
     "execution_count": 36,
     "metadata": {},
     "output_type": "execute_result"
    }
   ],
   "source": [
    "df_filtered.price.describe()"
   ]
  },
  {
   "cell_type": "code",
   "execution_count": 37,
   "metadata": {},
   "outputs": [
    {
     "data": {
      "image/png": "[encoded data removed]",
      "text/plain": [
       "<Figure size 640x480 with 1 Axes>"
      ]
     },
     "metadata": {},
     "output_type": "display_data"
    }
   ],
   "source": [
    "df_filtered.price.hist()\n",
    "plt.title(\"Histogram of BTC-USDT prices\")\n",
    "plt.show()"
   ]
  },
  {
   "cell_type": "code",
   "execution_count": 38,
   "metadata": {},
   "outputs": [
    {
     "data": {
      "image/png": "[encoded data removed]",
      "text/plain": [
       "<Figure size 640x480 with 1 Axes>"
      ]
     },
     "metadata": {},
     "output_type": "display_data"
    }
   ],
   "source": [
    "df_filtered.boxplot(column = \"price\")\n",
    "plt.title(\"Box plot of BTC-USDT prices\")\n",
    "plt.show()"
   ]
  },
  {
   "cell_type": "code",
   "execution_count": 39,
   "metadata": {},
   "outputs": [
    {
     "data": {
      "text/html": [
       "<div>\n",
       "<style scoped>\n",
       "    .dataframe tbody tr th:only-of-type {\n",
       "        vertical-align: middle;\n",
       "    }\n",
       "\n",
       "    .dataframe tbody tr th {\n",
       "        vertical-align: top;\n",
       "    }\n",
       "\n",
       "    .dataframe thead th {\n",
       "        text-align: right;\n",
       "    }\n",
       "</style>\n",
       "<table border=\"1\" class=\"dataframe\">\n",
       "  <thead>\n",
       "    <tr style=\"text-align: right;\">\n",
       "      <th></th>\n",
       "      <th>timestamp</th>\n",
       "      <th>trade_id</th>\n",
       "      <th>price</th>\n",
       "      <th>amount</th>\n",
       "      <th>taker_side_sell</th>\n",
       "      <th>exchange</th>\n",
       "      <th>pair</th>\n",
       "    </tr>\n",
       "  </thead>\n",
       "  <tbody>\n",
       "    <tr>\n",
       "      <th>225025</th>\n",
       "      <td>2022-10-24 14:23:38.793999872</td>\n",
       "      <td>1730593992.1</td>\n",
       "      <td>19206000.0</td>\n",
       "      <td>0.00122</td>\n",
       "      <td>False</td>\n",
       "      <td>bnce</td>\n",
       "      <td>btc-usdt</td>\n",
       "    </tr>\n",
       "    <tr>\n",
       "      <th>225032</th>\n",
       "      <td>2022-10-24 14:30:02.856999936</td>\n",
       "      <td>1730655988.1</td>\n",
       "      <td>29225410.0</td>\n",
       "      <td>0.00600</td>\n",
       "      <td>False</td>\n",
       "      <td>bnce</td>\n",
       "      <td>btc-usdt</td>\n",
       "    </tr>\n",
       "  </tbody>\n",
       "</table>\n",
       "</div>"
      ],
      "text/plain": [
       "                           timestamp      trade_id       price   amount  \\\n",
       "225025 2022-10-24 14:23:38.793999872  1730593992.1  19206000.0  0.00122   \n",
       "225032 2022-10-24 14:30:02.856999936  1730655988.1  29225410.0  0.00600   \n",
       "\n",
       "        taker_side_sell exchange      pair  \n",
       "225025            False     bnce  btc-usdt  \n",
       "225032            False     bnce  btc-usdt  "
      ]
     },
     "execution_count": 39,
     "metadata": {},
     "output_type": "execute_result"
    }
   ],
   "source": [
    "price_mean = df_filtered.price.mean()\n",
    "price_stddev = df_filtered.price.std()\n",
    "df_filtered[np.abs(df_filtered.price - price_mean) > 3 * price_stddev]"
   ]
  },
  {
   "cell_type": "code",
   "execution_count": 40,
   "metadata": {},
   "outputs": [
    {
     "data": {
      "text/html": [
       "<div>\n",
       "<style scoped>\n",
       "    .dataframe tbody tr th:only-of-type {\n",
       "        vertical-align: middle;\n",
       "    }\n",
       "\n",
       "    .dataframe tbody tr th {\n",
       "        vertical-align: top;\n",
       "    }\n",
       "\n",
       "    .dataframe thead th {\n",
       "        text-align: right;\n",
       "    }\n",
       "</style>\n",
       "<table border=\"1\" class=\"dataframe\">\n",
       "  <thead>\n",
       "    <tr style=\"text-align: right;\">\n",
       "      <th></th>\n",
       "      <th>timestamp</th>\n",
       "      <th>trade_id</th>\n",
       "      <th>price</th>\n",
       "      <th>amount</th>\n",
       "      <th>taker_side_sell</th>\n",
       "      <th>exchange</th>\n",
       "      <th>pair</th>\n",
       "    </tr>\n",
       "  </thead>\n",
       "  <tbody>\n",
       "    <tr>\n",
       "      <th>225025</th>\n",
       "      <td>2022-10-24 14:23:38.793999872</td>\n",
       "      <td>1730593992.1</td>\n",
       "      <td>19206000.0</td>\n",
       "      <td>0.00122</td>\n",
       "      <td>False</td>\n",
       "      <td>bnce</td>\n",
       "      <td>btc-usdt</td>\n",
       "    </tr>\n",
       "    <tr>\n",
       "      <th>225032</th>\n",
       "      <td>2022-10-24 14:30:02.856999936</td>\n",
       "      <td>1730655988.1</td>\n",
       "      <td>29225410.0</td>\n",
       "      <td>0.00600</td>\n",
       "      <td>False</td>\n",
       "      <td>bnce</td>\n",
       "      <td>btc-usdt</td>\n",
       "    </tr>\n",
       "  </tbody>\n",
       "</table>\n",
       "</div>"
      ],
      "text/plain": [
       "                           timestamp      trade_id       price   amount  \\\n",
       "225025 2022-10-24 14:23:38.793999872  1730593992.1  19206000.0  0.00122   \n",
       "225032 2022-10-24 14:30:02.856999936  1730655988.1  29225410.0  0.00600   \n",
       "\n",
       "        taker_side_sell exchange      pair  \n",
       "225025            False     bnce  btc-usdt  \n",
       "225032            False     bnce  btc-usdt  "
      ]
     },
     "execution_count": 40,
     "metadata": {},
     "output_type": "execute_result"
    }
   ],
   "source": [
    "# More advanced solution:\n",
    "from scipy import stats\n",
    "df_filtered[np.abs(stats.zscore(df_filtered.price)) > 3]"
   ]
  },
  {
   "cell_type": "markdown",
   "metadata": {},
   "source": [
    "What do you notice? Make any reasonable decisions to correct your data set. Resume your price study if necessary.\n",
    "\n",
    "Warning: Also propagate the changes made on the filtered dataset to the global one.\n",
    "\n",
    "NB: There are no significant outliers for the other pairs. There is no need to perform a similar analysis on them. "
   ]
  },
  {
   "cell_type": "code",
   "execution_count": 41,
   "metadata": {},
   "outputs": [],
   "source": [
    "mask = df_filtered[np.abs(df_filtered.price - price_mean) > 3 * price_stddev].index\n",
    "df_filtered.drop(index = mask, inplace = True)"
   ]
  },
  {
   "cell_type": "code",
   "execution_count": 42,
   "metadata": {},
   "outputs": [
    {
     "data": {
      "text/html": [
       "<div>\n",
       "<style scoped>\n",
       "    .dataframe tbody tr th:only-of-type {\n",
       "        vertical-align: middle;\n",
       "    }\n",
       "\n",
       "    .dataframe tbody tr th {\n",
       "        vertical-align: top;\n",
       "    }\n",
       "\n",
       "    .dataframe thead th {\n",
       "        text-align: right;\n",
       "    }\n",
       "</style>\n",
       "<table border=\"1\" class=\"dataframe\">\n",
       "  <thead>\n",
       "    <tr style=\"text-align: right;\">\n",
       "      <th></th>\n",
       "      <th>timestamp</th>\n",
       "      <th>trade_id</th>\n",
       "      <th>price</th>\n",
       "      <th>amount</th>\n",
       "      <th>taker_side_sell</th>\n",
       "      <th>exchange</th>\n",
       "      <th>pair</th>\n",
       "    </tr>\n",
       "  </thead>\n",
       "  <tbody>\n",
       "  </tbody>\n",
       "</table>\n",
       "</div>"
      ],
      "text/plain": [
       "Empty DataFrame\n",
       "Columns: [timestamp, trade_id, price, amount, taker_side_sell, exchange, pair]\n",
       "Index: []"
      ]
     },
     "execution_count": 42,
     "metadata": {},
     "output_type": "execute_result"
    }
   ],
   "source": [
    "df_filtered[np.abs(stats.zscore(df_filtered.price)) > 3]"
   ]
  },
  {
   "cell_type": "code",
   "execution_count": 43,
   "metadata": {},
   "outputs": [
    {
     "data": {
      "text/html": [
       "<div>\n",
       "<style scoped>\n",
       "    .dataframe tbody tr th:only-of-type {\n",
       "        vertical-align: middle;\n",
       "    }\n",
       "\n",
       "    .dataframe tbody tr th {\n",
       "        vertical-align: top;\n",
       "    }\n",
       "\n",
       "    .dataframe thead th {\n",
       "        text-align: right;\n",
       "    }\n",
       "</style>\n",
       "<table border=\"1\" class=\"dataframe\">\n",
       "  <thead>\n",
       "    <tr style=\"text-align: right;\">\n",
       "      <th></th>\n",
       "      <th>timestamp</th>\n",
       "      <th>trade_id</th>\n",
       "      <th>price</th>\n",
       "      <th>amount</th>\n",
       "      <th>taker_side_sell</th>\n",
       "      <th>exchange</th>\n",
       "      <th>pair</th>\n",
       "    </tr>\n",
       "  </thead>\n",
       "  <tbody>\n",
       "    <tr>\n",
       "      <th>225025</th>\n",
       "      <td>2022-10-24 14:23:38.793999872</td>\n",
       "      <td>1730593992.1</td>\n",
       "      <td>19206000.0</td>\n",
       "      <td>0.00122</td>\n",
       "      <td>False</td>\n",
       "      <td>bnce</td>\n",
       "      <td>btc-usdt</td>\n",
       "    </tr>\n",
       "    <tr>\n",
       "      <th>225032</th>\n",
       "      <td>2022-10-24 14:30:02.856999936</td>\n",
       "      <td>1730655988.1</td>\n",
       "      <td>29225410.0</td>\n",
       "      <td>0.00600</td>\n",
       "      <td>False</td>\n",
       "      <td>bnce</td>\n",
       "      <td>btc-usdt</td>\n",
       "    </tr>\n",
       "  </tbody>\n",
       "</table>\n",
       "</div>"
      ],
      "text/plain": [
       "                           timestamp      trade_id       price   amount  \\\n",
       "225025 2022-10-24 14:23:38.793999872  1730593992.1  19206000.0  0.00122   \n",
       "225032 2022-10-24 14:30:02.856999936  1730655988.1  29225410.0  0.00600   \n",
       "\n",
       "        taker_side_sell exchange      pair  \n",
       "225025            False     bnce  btc-usdt  \n",
       "225032            False     bnce  btc-usdt  "
      ]
     },
     "execution_count": 43,
     "metadata": {},
     "output_type": "execute_result"
    }
   ],
   "source": [
    "df.loc[mask] # we check that the mask lead to the same trades in the global dataset"
   ]
  },
  {
   "cell_type": "code",
   "execution_count": 44,
   "metadata": {},
   "outputs": [],
   "source": [
    "df.drop(index = mask, inplace = True)"
   ]
  },
  {
   "cell_type": "code",
   "execution_count": 45,
   "metadata": {},
   "outputs": [
    {
     "data": {
      "image/png": "[encoded data removed]",
      "text/plain": [
       "<Figure size 640x480 with 1 Axes>"
      ]
     },
     "metadata": {},
     "output_type": "display_data"
    }
   ],
   "source": [
    "df_filtered.price.hist()\n",
    "plt.title(\"Histogram of BTC-USDT prices\")\n",
    "plt.show()"
   ]
  },
  {
   "cell_type": "code",
   "execution_count": 46,
   "metadata": {},
   "outputs": [
    {
     "data": {
      "image/png": "[encoded data removed]",
      "text/plain": [
       "<Figure size 640x480 with 1 Axes>"
      ]
     },
     "metadata": {},
     "output_type": "display_data"
    }
   ],
   "source": [
    "df_filtered.boxplot(column = \"price\")\n",
    "plt.title(\"Boxplot of BTC-USDT prices\")\n",
    "plt.show()"
   ]
  },
  {
   "cell_type": "markdown",
   "metadata": {},
   "source": [
    "Perform the same analysis for the amounts. What can you conclude? "
   ]
  },
  {
   "cell_type": "code",
   "execution_count": 47,
   "metadata": {},
   "outputs": [
    {
     "data": {
      "text/plain": [
       "count    4.226280e+05\n",
       "mean     6.101562e-02\n",
       "std      3.207365e-01\n",
       "min      1.000000e-08\n",
       "25%      3.830000e-03\n",
       "50%      1.259000e-02\n",
       "75%      5.000000e-02\n",
       "max      1.257620e+02\n",
       "Name: amount, dtype: float64"
      ]
     },
     "execution_count": 47,
     "metadata": {},
     "output_type": "execute_result"
    }
   ],
   "source": [
    "df_filtered.amount.describe()"
   ]
  },
  {
   "cell_type": "code",
   "execution_count": 48,
   "metadata": {},
   "outputs": [
    {
     "data": {
      "image/png": "[encoded data removed]",
      "text/plain": [
       "<Figure size 640x480 with 1 Axes>"
      ]
     },
     "metadata": {},
     "output_type": "display_data"
    }
   ],
   "source": [
    "df_filtered.boxplot(column = \"amount\")\n",
    "plt.title(\"Boxplot of BTC-USDT amounts\")\n",
    "plt.show()"
   ]
  },
  {
   "cell_type": "markdown",
   "metadata": {},
   "source": [
    "Display the evolution of the BTC-USDT price over time."
   ]
  },
  {
   "cell_type": "code",
   "execution_count": 49,
   "metadata": {},
   "outputs": [
    {
     "data": {
      "image/png": "[encoded data removed]",
      "text/plain": [
       "<Figure size 640x480 with 1 Axes>"
      ]
     },
     "metadata": {},
     "output_type": "display_data"
    }
   ],
   "source": [
    "df_filtered.set_index(\"timestamp\").price.plot()\n",
    "plt.title(\"BTC-USDT prices over time\")\n",
    "plt.show()"
   ]
  },
  {
   "cell_type": "markdown",
   "metadata": {},
   "source": [
    "Display in a scatter plot the amounts as a function of the exchange code. What can you conclude?"
   ]
  },
  {
   "cell_type": "code",
   "execution_count": 50,
   "metadata": {},
   "outputs": [
    {
     "data": {
      "image/png": "[encoded data removed]",
      "text/plain": [
       "<Figure size 640x480 with 1 Axes>"
      ]
     },
     "metadata": {},
     "output_type": "display_data"
    }
   ],
   "source": [
    "df_filtered.plot.scatter(x = 'exchange', y = \"amount\")\n",
    "plt.title(\"Amounts by exchange\")\n",
    "plt.show()"
   ]
  },
  {
   "cell_type": "code",
   "execution_count": 51,
   "metadata": {},
   "outputs": [],
   "source": [
    "# We can conclude that bnce is by far the exchange on which the trade amounts are the largest. "
   ]
  },
  {
   "cell_type": "markdown",
   "metadata": {},
   "source": [
    "## End of the session\n",
    "Save your global dataset in a new CSV file. "
   ]
  },
  {
   "cell_type": "code",
   "execution_count": 52,
   "metadata": {},
   "outputs": [],
   "source": [
    "df.to_csv(\"TP1_trades_data_clean.csv\", index=False)"
   ]
  }
 ],
 "metadata": {
  "kernelspec": {
   "display_name": "Python 3",
   "language": "python",
   "name": "python3"
  },
  "language_info": {
   "codemirror_mode": {
    "name": "ipython",
    "version": 3
   },
   "file_extension": ".py",
   "mimetype": "text/x-python",
   "name": "python",
   "nbconvert_exporter": "python",
   "pygments_lexer": "ipython3",
   "version": "3.11.4"
  }
 },
 "nbformat": 4,
 "nbformat_minor": 5
}
