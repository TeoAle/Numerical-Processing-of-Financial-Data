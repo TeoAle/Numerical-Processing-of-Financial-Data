{
 "cells": [
  {
   "cell_type": "markdown",
   "id": "e2b5e93d",
   "metadata": {},
   "source": [
    "# Introduction to Pandas for Finance\n",
    "## Numerical processing of financial data\n",
    "\n",
    "MScT Data Science for business \n",
    "\n",
    "Enseignant: Anne-Claire Maurice\n",
    "\n",
    "### TP #2 : manipulating the data\n",
    "\n",
    "#### Objective\n",
    "The goal of this hands-on session is to answer financial questions about a dataset using Pandas.\n",
    "\n",
    "/!\\ Don't use any loop (*for*, *while*) during this session."
   ]
  },
  {
   "cell_type": "markdown",
   "id": "194acc33",
   "metadata": {},
   "source": [
    "#### Modules"
   ]
  },
  {
   "cell_type": "code",
   "execution_count": 49,
   "id": "490b2d88",
   "metadata": {},
   "outputs": [],
   "source": [
    "import numpy as np\n",
    "import pandas as pd\n",
    "import matplotlib.pyplot as plt\n",
    "import datetime as dt"
   ]
  },
  {
   "cell_type": "markdown",
   "id": "15414622",
   "metadata": {},
   "source": [
    "## 1. Read the data set\n",
    "Read the data set given in the file TP2_trades_data_clean.csv and ensure the timestamp column has the appropriate type."
   ]
  },
  {
   "cell_type": "code",
   "execution_count": 50,
   "id": "8913dde5",
   "metadata": {},
   "outputs": [
    {
     "data": {
      "text/html": [
       "<div>\n",
       "<style scoped>\n",
       "    .dataframe tbody tr th:only-of-type {\n",
       "        vertical-align: middle;\n",
       "    }\n",
       "\n",
       "    .dataframe tbody tr th {\n",
       "        vertical-align: top;\n",
       "    }\n",
       "\n",
       "    .dataframe thead th {\n",
       "        text-align: right;\n",
       "    }\n",
       "</style>\n",
       "<table border=\"1\" class=\"dataframe\">\n",
       "  <thead>\n",
       "    <tr style=\"text-align: right;\">\n",
       "      <th></th>\n",
       "      <th>timestamp</th>\n",
       "      <th>trade_id</th>\n",
       "      <th>price</th>\n",
       "      <th>amount</th>\n",
       "      <th>taker_side_sell</th>\n",
       "      <th>exchange</th>\n",
       "      <th>pair</th>\n",
       "    </tr>\n",
       "  </thead>\n",
       "  <tbody>\n",
       "    <tr>\n",
       "      <th>0</th>\n",
       "      <td>2022-10-24 14:00:00.000000000</td>\n",
       "      <td>787987369.0</td>\n",
       "      <td>1348.35</td>\n",
       "      <td>0.03180</td>\n",
       "      <td>False</td>\n",
       "      <td>bnce</td>\n",
       "      <td>eth-usdt</td>\n",
       "    </tr>\n",
       "    <tr>\n",
       "      <th>1</th>\n",
       "      <td>2022-10-24 14:00:00.000000000</td>\n",
       "      <td>1730418307.0</td>\n",
       "      <td>19352.40</td>\n",
       "      <td>0.00099</td>\n",
       "      <td>True</td>\n",
       "      <td>bnce</td>\n",
       "      <td>btc-usdt</td>\n",
       "    </tr>\n",
       "    <tr>\n",
       "      <th>2</th>\n",
       "      <td>2022-10-24 14:00:00.000999936</td>\n",
       "      <td>1730418308.0</td>\n",
       "      <td>19352.40</td>\n",
       "      <td>0.00339</td>\n",
       "      <td>True</td>\n",
       "      <td>bnce</td>\n",
       "      <td>btc-usdt</td>\n",
       "    </tr>\n",
       "    <tr>\n",
       "      <th>3</th>\n",
       "      <td>2022-10-24 14:00:00.000999936</td>\n",
       "      <td>1730418309.0</td>\n",
       "      <td>19352.40</td>\n",
       "      <td>0.00077</td>\n",
       "      <td>True</td>\n",
       "      <td>bnce</td>\n",
       "      <td>btc-usdt</td>\n",
       "    </tr>\n",
       "    <tr>\n",
       "      <th>4</th>\n",
       "      <td>2022-10-24 14:00:00.001999872</td>\n",
       "      <td>1730418310.0</td>\n",
       "      <td>19352.40</td>\n",
       "      <td>0.00455</td>\n",
       "      <td>True</td>\n",
       "      <td>bnce</td>\n",
       "      <td>btc-usdt</td>\n",
       "    </tr>\n",
       "    <tr>\n",
       "      <th>...</th>\n",
       "      <td>...</td>\n",
       "      <td>...</td>\n",
       "      <td>...</td>\n",
       "      <td>...</td>\n",
       "      <td>...</td>\n",
       "      <td>...</td>\n",
       "      <td>...</td>\n",
       "    </tr>\n",
       "    <tr>\n",
       "      <th>848310</th>\n",
       "      <td>2022-10-24 14:59:59.998000128</td>\n",
       "      <td>1730830872.0</td>\n",
       "      <td>19276.76</td>\n",
       "      <td>0.00081</td>\n",
       "      <td>True</td>\n",
       "      <td>bnce</td>\n",
       "      <td>btc-usdt</td>\n",
       "    </tr>\n",
       "    <tr>\n",
       "      <th>848311</th>\n",
       "      <td>2022-10-24 14:59:59.998000128</td>\n",
       "      <td>788035357.0</td>\n",
       "      <td>1334.33</td>\n",
       "      <td>0.06420</td>\n",
       "      <td>False</td>\n",
       "      <td>bnce</td>\n",
       "      <td>eth-usdt</td>\n",
       "    </tr>\n",
       "    <tr>\n",
       "      <th>848312</th>\n",
       "      <td>2022-10-24 14:59:59.998000128</td>\n",
       "      <td>1730830870.0</td>\n",
       "      <td>19276.76</td>\n",
       "      <td>0.00081</td>\n",
       "      <td>True</td>\n",
       "      <td>bnce</td>\n",
       "      <td>btc-usdt</td>\n",
       "    </tr>\n",
       "    <tr>\n",
       "      <th>848313</th>\n",
       "      <td>2022-10-24 14:59:59.999000064</td>\n",
       "      <td>1730830874.0</td>\n",
       "      <td>19276.76</td>\n",
       "      <td>0.00062</td>\n",
       "      <td>True</td>\n",
       "      <td>bnce</td>\n",
       "      <td>btc-usdt</td>\n",
       "    </tr>\n",
       "    <tr>\n",
       "      <th>848314</th>\n",
       "      <td>2022-10-24 14:59:59.999000064</td>\n",
       "      <td>1730830875.0</td>\n",
       "      <td>19276.76</td>\n",
       "      <td>0.00169</td>\n",
       "      <td>True</td>\n",
       "      <td>bnce</td>\n",
       "      <td>btc-usdt</td>\n",
       "    </tr>\n",
       "  </tbody>\n",
       "</table>\n",
       "<p>848315 rows × 7 columns</p>\n",
       "</div>"
      ],
      "text/plain": [
       "                           timestamp      trade_id     price   amount  \\\n",
       "0      2022-10-24 14:00:00.000000000   787987369.0   1348.35  0.03180   \n",
       "1      2022-10-24 14:00:00.000000000  1730418307.0  19352.40  0.00099   \n",
       "2      2022-10-24 14:00:00.000999936  1730418308.0  19352.40  0.00339   \n",
       "3      2022-10-24 14:00:00.000999936  1730418309.0  19352.40  0.00077   \n",
       "4      2022-10-24 14:00:00.001999872  1730418310.0  19352.40  0.00455   \n",
       "...                              ...           ...       ...      ...   \n",
       "848310 2022-10-24 14:59:59.998000128  1730830872.0  19276.76  0.00081   \n",
       "848311 2022-10-24 14:59:59.998000128   788035357.0   1334.33  0.06420   \n",
       "848312 2022-10-24 14:59:59.998000128  1730830870.0  19276.76  0.00081   \n",
       "848313 2022-10-24 14:59:59.999000064  1730830874.0  19276.76  0.00062   \n",
       "848314 2022-10-24 14:59:59.999000064  1730830875.0  19276.76  0.00169   \n",
       "\n",
       "        taker_side_sell exchange      pair  \n",
       "0                 False     bnce  eth-usdt  \n",
       "1                  True     bnce  btc-usdt  \n",
       "2                  True     bnce  btc-usdt  \n",
       "3                  True     bnce  btc-usdt  \n",
       "4                  True     bnce  btc-usdt  \n",
       "...                 ...      ...       ...  \n",
       "848310             True     bnce  btc-usdt  \n",
       "848311            False     bnce  eth-usdt  \n",
       "848312             True     bnce  btc-usdt  \n",
       "848313             True     bnce  btc-usdt  \n",
       "848314             True     bnce  btc-usdt  \n",
       "\n",
       "[848315 rows x 7 columns]"
      ]
     },
     "execution_count": 50,
     "metadata": {},
     "output_type": "execute_result"
    }
   ],
   "source": [
    "df = pd.read_csv(\"TP2_trades_data_clean.csv\", parse_dates=['timestamp'])\n",
    "df"
   ]
  },
  {
   "cell_type": "code",
   "execution_count": 51,
   "id": "1831b324",
   "metadata": {},
   "outputs": [
    {
     "name": "stdout",
     "output_type": "stream",
     "text": [
      "<class 'pandas.core.frame.DataFrame'>\n",
      "RangeIndex: 848315 entries, 0 to 848314\n",
      "Data columns (total 7 columns):\n",
      " #   Column           Non-Null Count   Dtype         \n",
      "---  ------           --------------   -----         \n",
      " 0   timestamp        848315 non-null  datetime64[ns]\n",
      " 1   trade_id         848315 non-null  object        \n",
      " 2   price            848315 non-null  float64       \n",
      " 3   amount           848315 non-null  float64       \n",
      " 4   taker_side_sell  848315 non-null  bool          \n",
      " 5   exchange         848315 non-null  object        \n",
      " 6   pair             848315 non-null  object        \n",
      "dtypes: bool(1), datetime64[ns](1), float64(2), object(3)\n",
      "memory usage: 39.6+ MB\n"
     ]
    }
   ],
   "source": [
    "df.info()"
   ]
  },
  {
   "cell_type": "markdown",
   "id": "be8cfd3c",
   "metadata": {},
   "source": [
    "## 2. Study of the volume\n",
    "\n",
    "### 2.1 General study"
   ]
  },
  {
   "cell_type": "markdown",
   "id": "9ddaa5e8",
   "metadata": {},
   "source": [
    "For each trade, compute the volume and store it in a new column named *volume*.\n",
    "\n",
    "Reminder: volume = price * amount"
   ]
  },
  {
   "cell_type": "code",
   "execution_count": 52,
   "id": "90feb5f4",
   "metadata": {},
   "outputs": [],
   "source": [
    "df[\"volume\"] = df.amount * df.price"
   ]
  },
  {
   "cell_type": "markdown",
   "id": "2a6b114c",
   "metadata": {},
   "source": [
    "What are the 10 largest trades in terms of volume? Are they the same as the largest ones in terms of amount?"
   ]
  },
  {
   "cell_type": "code",
   "execution_count": 53,
   "id": "d73a8450",
   "metadata": {},
   "outputs": [
    {
     "data": {
      "text/html": [
       "<div>\n",
       "<style scoped>\n",
       "    .dataframe tbody tr th:only-of-type {\n",
       "        vertical-align: middle;\n",
       "    }\n",
       "\n",
       "    .dataframe tbody tr th {\n",
       "        vertical-align: top;\n",
       "    }\n",
       "\n",
       "    .dataframe thead th {\n",
       "        text-align: right;\n",
       "    }\n",
       "</style>\n",
       "<table border=\"1\" class=\"dataframe\">\n",
       "  <thead>\n",
       "    <tr style=\"text-align: right;\">\n",
       "      <th></th>\n",
       "      <th>timestamp</th>\n",
       "      <th>trade_id</th>\n",
       "      <th>price</th>\n",
       "      <th>amount</th>\n",
       "      <th>taker_side_sell</th>\n",
       "      <th>exchange</th>\n",
       "      <th>pair</th>\n",
       "      <th>volume</th>\n",
       "    </tr>\n",
       "  </thead>\n",
       "  <tbody>\n",
       "    <tr>\n",
       "      <th>811762</th>\n",
       "      <td>2022-10-24 14:56:00.945999872</td>\n",
       "      <td>1730811532.0</td>\n",
       "      <td>19259.14</td>\n",
       "      <td>125.76202</td>\n",
       "      <td>True</td>\n",
       "      <td>bnce</td>\n",
       "      <td>btc-usdt</td>\n",
       "      <td>2.422068e+06</td>\n",
       "    </tr>\n",
       "    <tr>\n",
       "      <th>261623</th>\n",
       "      <td>2022-10-24 14:17:45.118000128</td>\n",
       "      <td>1730537897.0</td>\n",
       "      <td>19219.49</td>\n",
       "      <td>42.77547</td>\n",
       "      <td>False</td>\n",
       "      <td>bnce</td>\n",
       "      <td>btc-usdt</td>\n",
       "      <td>8.221227e+05</td>\n",
       "    </tr>\n",
       "    <tr>\n",
       "      <th>219066</th>\n",
       "      <td>2022-10-24 14:17:01.222000128</td>\n",
       "      <td>1730524896.0</td>\n",
       "      <td>19270.00</td>\n",
       "      <td>41.48543</td>\n",
       "      <td>True</td>\n",
       "      <td>bnce</td>\n",
       "      <td>btc-usdt</td>\n",
       "      <td>7.994242e+05</td>\n",
       "    </tr>\n",
       "    <tr>\n",
       "      <th>578483</th>\n",
       "      <td>2022-10-24 14:35:13.836000000</td>\n",
       "      <td>5208245628.0</td>\n",
       "      <td>1327.50</td>\n",
       "      <td>571.21000</td>\n",
       "      <td>False</td>\n",
       "      <td>ftxx</td>\n",
       "      <td>eth-usd</td>\n",
       "      <td>7.582813e+05</td>\n",
       "    </tr>\n",
       "    <tr>\n",
       "      <th>171592</th>\n",
       "      <td>2022-10-24 14:12:46.500000000</td>\n",
       "      <td>5207966083.0</td>\n",
       "      <td>1.00</td>\n",
       "      <td>741778.15000</td>\n",
       "      <td>False</td>\n",
       "      <td>ftxx</td>\n",
       "      <td>usdt-usd</td>\n",
       "      <td>7.417782e+05</td>\n",
       "    </tr>\n",
       "    <tr>\n",
       "      <th>235179</th>\n",
       "      <td>2022-10-24 14:17:30.860999936</td>\n",
       "      <td>1730530826.0</td>\n",
       "      <td>19267.95</td>\n",
       "      <td>37.80299</td>\n",
       "      <td>False</td>\n",
       "      <td>bnce</td>\n",
       "      <td>btc-usdt</td>\n",
       "      <td>7.283861e+05</td>\n",
       "    </tr>\n",
       "    <tr>\n",
       "      <th>399259</th>\n",
       "      <td>2022-10-24 14:24:25.004999936</td>\n",
       "      <td>1730601196.0</td>\n",
       "      <td>19180.00</td>\n",
       "      <td>35.30491</td>\n",
       "      <td>True</td>\n",
       "      <td>bnce</td>\n",
       "      <td>btc-usdt</td>\n",
       "      <td>6.771482e+05</td>\n",
       "    </tr>\n",
       "    <tr>\n",
       "      <th>471027</th>\n",
       "      <td>2022-10-24 14:27:53.380999936</td>\n",
       "      <td>1730638788.0</td>\n",
       "      <td>19220.00</td>\n",
       "      <td>33.52653</td>\n",
       "      <td>False</td>\n",
       "      <td>bnce</td>\n",
       "      <td>btc-usdt</td>\n",
       "      <td>6.443799e+05</td>\n",
       "    </tr>\n",
       "    <tr>\n",
       "      <th>89211</th>\n",
       "      <td>2022-10-24 14:06:09.886000128</td>\n",
       "      <td>5207908490.0</td>\n",
       "      <td>1.00</td>\n",
       "      <td>600000.00000</td>\n",
       "      <td>False</td>\n",
       "      <td>ftxx</td>\n",
       "      <td>usdt-usd</td>\n",
       "      <td>6.000000e+05</td>\n",
       "    </tr>\n",
       "    <tr>\n",
       "      <th>165716</th>\n",
       "      <td>2022-10-24 14:12:17.492000000</td>\n",
       "      <td>5207962494.0</td>\n",
       "      <td>1.00</td>\n",
       "      <td>500000.00000</td>\n",
       "      <td>False</td>\n",
       "      <td>ftxx</td>\n",
       "      <td>usdt-usd</td>\n",
       "      <td>5.000000e+05</td>\n",
       "    </tr>\n",
       "  </tbody>\n",
       "</table>\n",
       "</div>"
      ],
      "text/plain": [
       "                           timestamp      trade_id     price        amount  \\\n",
       "811762 2022-10-24 14:56:00.945999872  1730811532.0  19259.14     125.76202   \n",
       "261623 2022-10-24 14:17:45.118000128  1730537897.0  19219.49      42.77547   \n",
       "219066 2022-10-24 14:17:01.222000128  1730524896.0  19270.00      41.48543   \n",
       "578483 2022-10-24 14:35:13.836000000  5208245628.0   1327.50     571.21000   \n",
       "171592 2022-10-24 14:12:46.500000000  5207966083.0      1.00  741778.15000   \n",
       "235179 2022-10-24 14:17:30.860999936  1730530826.0  19267.95      37.80299   \n",
       "399259 2022-10-24 14:24:25.004999936  1730601196.0  19180.00      35.30491   \n",
       "471027 2022-10-24 14:27:53.380999936  1730638788.0  19220.00      33.52653   \n",
       "89211  2022-10-24 14:06:09.886000128  5207908490.0      1.00  600000.00000   \n",
       "165716 2022-10-24 14:12:17.492000000  5207962494.0      1.00  500000.00000   \n",
       "\n",
       "        taker_side_sell exchange      pair        volume  \n",
       "811762             True     bnce  btc-usdt  2.422068e+06  \n",
       "261623            False     bnce  btc-usdt  8.221227e+05  \n",
       "219066             True     bnce  btc-usdt  7.994242e+05  \n",
       "578483            False     ftxx   eth-usd  7.582813e+05  \n",
       "171592            False     ftxx  usdt-usd  7.417782e+05  \n",
       "235179            False     bnce  btc-usdt  7.283861e+05  \n",
       "399259             True     bnce  btc-usdt  6.771482e+05  \n",
       "471027            False     bnce  btc-usdt  6.443799e+05  \n",
       "89211             False     ftxx  usdt-usd  6.000000e+05  \n",
       "165716            False     ftxx  usdt-usd  5.000000e+05  "
      ]
     },
     "execution_count": 53,
     "metadata": {},
     "output_type": "execute_result"
    }
   ],
   "source": [
    "df.nlargest(10, \"volume\")"
   ]
  },
  {
   "cell_type": "code",
   "execution_count": 54,
   "id": "dbd28fc3",
   "metadata": {},
   "outputs": [
    {
     "data": {
      "text/html": [
       "<div>\n",
       "<style scoped>\n",
       "    .dataframe tbody tr th:only-of-type {\n",
       "        vertical-align: middle;\n",
       "    }\n",
       "\n",
       "    .dataframe tbody tr th {\n",
       "        vertical-align: top;\n",
       "    }\n",
       "\n",
       "    .dataframe thead th {\n",
       "        text-align: right;\n",
       "    }\n",
       "</style>\n",
       "<table border=\"1\" class=\"dataframe\">\n",
       "  <thead>\n",
       "    <tr style=\"text-align: right;\">\n",
       "      <th></th>\n",
       "      <th>timestamp</th>\n",
       "      <th>trade_id</th>\n",
       "      <th>price</th>\n",
       "      <th>amount</th>\n",
       "      <th>taker_side_sell</th>\n",
       "      <th>exchange</th>\n",
       "      <th>pair</th>\n",
       "      <th>volume</th>\n",
       "    </tr>\n",
       "  </thead>\n",
       "  <tbody>\n",
       "    <tr>\n",
       "      <th>324413</th>\n",
       "      <td>2022-10-24 14:20:26.063000064</td>\n",
       "      <td>214202241.0</td>\n",
       "      <td>0.00001</td>\n",
       "      <td>6.019928e+09</td>\n",
       "      <td>True</td>\n",
       "      <td>bnce</td>\n",
       "      <td>shib-usdt</td>\n",
       "      <td>59416.685748</td>\n",
       "    </tr>\n",
       "    <tr>\n",
       "      <th>570530</th>\n",
       "      <td>2022-10-24 14:34:35.319000064</td>\n",
       "      <td>214203046.0</td>\n",
       "      <td>0.00001</td>\n",
       "      <td>3.535163e+09</td>\n",
       "      <td>True</td>\n",
       "      <td>bnce</td>\n",
       "      <td>shib-usdt</td>\n",
       "      <td>34892.062156</td>\n",
       "    </tr>\n",
       "    <tr>\n",
       "      <th>510097</th>\n",
       "      <td>2022-10-24 14:30:23.633999872</td>\n",
       "      <td>214202931.0</td>\n",
       "      <td>0.00001</td>\n",
       "      <td>3.231175e+09</td>\n",
       "      <td>False</td>\n",
       "      <td>bnce</td>\n",
       "      <td>shib-usdt</td>\n",
       "      <td>31924.013733</td>\n",
       "    </tr>\n",
       "    <tr>\n",
       "      <th>324411</th>\n",
       "      <td>2022-10-24 14:20:26.063000064</td>\n",
       "      <td>214202240.0</td>\n",
       "      <td>0.00001</td>\n",
       "      <td>3.071204e+09</td>\n",
       "      <td>True</td>\n",
       "      <td>bnce</td>\n",
       "      <td>shib-usdt</td>\n",
       "      <td>30343.494819</td>\n",
       "    </tr>\n",
       "    <tr>\n",
       "      <th>767819</th>\n",
       "      <td>2022-10-24 14:51:49.230000128</td>\n",
       "      <td>214203609.0</td>\n",
       "      <td>0.00001</td>\n",
       "      <td>1.882075e+09</td>\n",
       "      <td>False</td>\n",
       "      <td>bnce</td>\n",
       "      <td>shib-usdt</td>\n",
       "      <td>18670.188682</td>\n",
       "    </tr>\n",
       "    <tr>\n",
       "      <th>423589</th>\n",
       "      <td>2022-10-24 14:25:20.115000064</td>\n",
       "      <td>214202649.0</td>\n",
       "      <td>0.00001</td>\n",
       "      <td>1.866152e+09</td>\n",
       "      <td>True</td>\n",
       "      <td>bnce</td>\n",
       "      <td>shib-usdt</td>\n",
       "      <td>18381.595516</td>\n",
       "    </tr>\n",
       "    <tr>\n",
       "      <th>337444</th>\n",
       "      <td>2022-10-24 14:21:10.008999936</td>\n",
       "      <td>214202428.0</td>\n",
       "      <td>0.00001</td>\n",
       "      <td>1.668397e+09</td>\n",
       "      <td>False</td>\n",
       "      <td>bnce</td>\n",
       "      <td>shib-usdt</td>\n",
       "      <td>16467.074807</td>\n",
       "    </tr>\n",
       "    <tr>\n",
       "      <th>271480</th>\n",
       "      <td>2022-10-24 14:17:50.588000000</td>\n",
       "      <td>214202073.0</td>\n",
       "      <td>0.00001</td>\n",
       "      <td>1.611296e+09</td>\n",
       "      <td>False</td>\n",
       "      <td>bnce</td>\n",
       "      <td>shib-usdt</td>\n",
       "      <td>15919.607839</td>\n",
       "    </tr>\n",
       "    <tr>\n",
       "      <th>138031</th>\n",
       "      <td>2022-10-24 14:09:37.175000064</td>\n",
       "      <td>214201582.0</td>\n",
       "      <td>0.00001</td>\n",
       "      <td>1.489411e+09</td>\n",
       "      <td>False</td>\n",
       "      <td>bnce</td>\n",
       "      <td>shib-usdt</td>\n",
       "      <td>14760.061801</td>\n",
       "    </tr>\n",
       "    <tr>\n",
       "      <th>242871</th>\n",
       "      <td>2022-10-24 14:17:37.568999936</td>\n",
       "      <td>214201914.0</td>\n",
       "      <td>0.00001</td>\n",
       "      <td>1.480531e+09</td>\n",
       "      <td>True</td>\n",
       "      <td>bnce</td>\n",
       "      <td>shib-usdt</td>\n",
       "      <td>14657.253514</td>\n",
       "    </tr>\n",
       "  </tbody>\n",
       "</table>\n",
       "</div>"
      ],
      "text/plain": [
       "                           timestamp     trade_id    price        amount  \\\n",
       "324413 2022-10-24 14:20:26.063000064  214202241.0  0.00001  6.019928e+09   \n",
       "570530 2022-10-24 14:34:35.319000064  214203046.0  0.00001  3.535163e+09   \n",
       "510097 2022-10-24 14:30:23.633999872  214202931.0  0.00001  3.231175e+09   \n",
       "324411 2022-10-24 14:20:26.063000064  214202240.0  0.00001  3.071204e+09   \n",
       "767819 2022-10-24 14:51:49.230000128  214203609.0  0.00001  1.882075e+09   \n",
       "423589 2022-10-24 14:25:20.115000064  214202649.0  0.00001  1.866152e+09   \n",
       "337444 2022-10-24 14:21:10.008999936  214202428.0  0.00001  1.668397e+09   \n",
       "271480 2022-10-24 14:17:50.588000000  214202073.0  0.00001  1.611296e+09   \n",
       "138031 2022-10-24 14:09:37.175000064  214201582.0  0.00001  1.489411e+09   \n",
       "242871 2022-10-24 14:17:37.568999936  214201914.0  0.00001  1.480531e+09   \n",
       "\n",
       "        taker_side_sell exchange       pair        volume  \n",
       "324413             True     bnce  shib-usdt  59416.685748  \n",
       "570530             True     bnce  shib-usdt  34892.062156  \n",
       "510097            False     bnce  shib-usdt  31924.013733  \n",
       "324411             True     bnce  shib-usdt  30343.494819  \n",
       "767819            False     bnce  shib-usdt  18670.188682  \n",
       "423589             True     bnce  shib-usdt  18381.595516  \n",
       "337444            False     bnce  shib-usdt  16467.074807  \n",
       "271480            False     bnce  shib-usdt  15919.607839  \n",
       "138031            False     bnce  shib-usdt  14760.061801  \n",
       "242871             True     bnce  shib-usdt  14657.253514  "
      ]
     },
     "execution_count": 54,
     "metadata": {},
     "output_type": "execute_result"
    }
   ],
   "source": [
    "df.nlargest(10, \"amount\")"
   ]
  },
  {
   "cell_type": "markdown",
   "id": "ea45fc34",
   "metadata": {},
   "source": [
    "What are the 10 largest sales in terms of volume?"
   ]
  },
  {
   "cell_type": "code",
   "execution_count": 55,
   "id": "06446cb0",
   "metadata": {},
   "outputs": [
    {
     "data": {
      "text/html": [
       "<div>\n",
       "<style scoped>\n",
       "    .dataframe tbody tr th:only-of-type {\n",
       "        vertical-align: middle;\n",
       "    }\n",
       "\n",
       "    .dataframe tbody tr th {\n",
       "        vertical-align: top;\n",
       "    }\n",
       "\n",
       "    .dataframe thead th {\n",
       "        text-align: right;\n",
       "    }\n",
       "</style>\n",
       "<table border=\"1\" class=\"dataframe\">\n",
       "  <thead>\n",
       "    <tr style=\"text-align: right;\">\n",
       "      <th></th>\n",
       "      <th>timestamp</th>\n",
       "      <th>trade_id</th>\n",
       "      <th>price</th>\n",
       "      <th>amount</th>\n",
       "      <th>taker_side_sell</th>\n",
       "      <th>exchange</th>\n",
       "      <th>pair</th>\n",
       "      <th>volume</th>\n",
       "    </tr>\n",
       "  </thead>\n",
       "  <tbody>\n",
       "    <tr>\n",
       "      <th>811762</th>\n",
       "      <td>2022-10-24 14:56:00.945999872</td>\n",
       "      <td>1730811532.0</td>\n",
       "      <td>19259.14</td>\n",
       "      <td>125.76202</td>\n",
       "      <td>True</td>\n",
       "      <td>bnce</td>\n",
       "      <td>btc-usdt</td>\n",
       "      <td>2.422068e+06</td>\n",
       "    </tr>\n",
       "    <tr>\n",
       "      <th>219066</th>\n",
       "      <td>2022-10-24 14:17:01.222000128</td>\n",
       "      <td>1730524896.0</td>\n",
       "      <td>19270.00</td>\n",
       "      <td>41.48543</td>\n",
       "      <td>True</td>\n",
       "      <td>bnce</td>\n",
       "      <td>btc-usdt</td>\n",
       "      <td>7.994242e+05</td>\n",
       "    </tr>\n",
       "    <tr>\n",
       "      <th>399259</th>\n",
       "      <td>2022-10-24 14:24:25.004999936</td>\n",
       "      <td>1730601196.0</td>\n",
       "      <td>19180.00</td>\n",
       "      <td>35.30491</td>\n",
       "      <td>True</td>\n",
       "      <td>bnce</td>\n",
       "      <td>btc-usdt</td>\n",
       "      <td>6.771482e+05</td>\n",
       "    </tr>\n",
       "    <tr>\n",
       "      <th>399239</th>\n",
       "      <td>2022-10-24 14:24:24.999000064</td>\n",
       "      <td>1730601188.0</td>\n",
       "      <td>19180.00</td>\n",
       "      <td>20.34712</td>\n",
       "      <td>True</td>\n",
       "      <td>bnce</td>\n",
       "      <td>btc-usdt</td>\n",
       "      <td>3.902578e+05</td>\n",
       "    </tr>\n",
       "    <tr>\n",
       "      <th>358554</th>\n",
       "      <td>2022-10-24 14:22:23.491000064</td>\n",
       "      <td>1730581195.0</td>\n",
       "      <td>19230.00</td>\n",
       "      <td>17.60558</td>\n",
       "      <td>True</td>\n",
       "      <td>bnce</td>\n",
       "      <td>btc-usdt</td>\n",
       "      <td>3.385553e+05</td>\n",
       "    </tr>\n",
       "    <tr>\n",
       "      <th>420005</th>\n",
       "      <td>2022-10-24 14:25:15.900000000</td>\n",
       "      <td>1730611677.0</td>\n",
       "      <td>19170.00</td>\n",
       "      <td>13.96733</td>\n",
       "      <td>True</td>\n",
       "      <td>bnce</td>\n",
       "      <td>btc-usdt</td>\n",
       "      <td>2.677537e+05</td>\n",
       "    </tr>\n",
       "    <tr>\n",
       "      <th>399493</th>\n",
       "      <td>2022-10-24 14:24:25.044999936</td>\n",
       "      <td>1730601239.0</td>\n",
       "      <td>19180.00</td>\n",
       "      <td>13.57954</td>\n",
       "      <td>True</td>\n",
       "      <td>bnce</td>\n",
       "      <td>btc-usdt</td>\n",
       "      <td>2.604556e+05</td>\n",
       "    </tr>\n",
       "    <tr>\n",
       "      <th>399501</th>\n",
       "      <td>2022-10-24 14:24:25.046000128</td>\n",
       "      <td>1730601240.0</td>\n",
       "      <td>19180.00</td>\n",
       "      <td>13.57954</td>\n",
       "      <td>True</td>\n",
       "      <td>bnce</td>\n",
       "      <td>btc-usdt</td>\n",
       "      <td>2.604556e+05</td>\n",
       "    </tr>\n",
       "    <tr>\n",
       "      <th>399844</th>\n",
       "      <td>2022-10-24 14:24:25.112999936</td>\n",
       "      <td>1730601293.0</td>\n",
       "      <td>19180.00</td>\n",
       "      <td>13.44152</td>\n",
       "      <td>True</td>\n",
       "      <td>bnce</td>\n",
       "      <td>btc-usdt</td>\n",
       "      <td>2.578084e+05</td>\n",
       "    </tr>\n",
       "    <tr>\n",
       "      <th>399242</th>\n",
       "      <td>2022-10-24 14:24:24.999000064</td>\n",
       "      <td>1730601190.0</td>\n",
       "      <td>19180.00</td>\n",
       "      <td>12.95700</td>\n",
       "      <td>True</td>\n",
       "      <td>bnce</td>\n",
       "      <td>btc-usdt</td>\n",
       "      <td>2.485153e+05</td>\n",
       "    </tr>\n",
       "  </tbody>\n",
       "</table>\n",
       "</div>"
      ],
      "text/plain": [
       "                           timestamp      trade_id     price     amount  \\\n",
       "811762 2022-10-24 14:56:00.945999872  1730811532.0  19259.14  125.76202   \n",
       "219066 2022-10-24 14:17:01.222000128  1730524896.0  19270.00   41.48543   \n",
       "399259 2022-10-24 14:24:25.004999936  1730601196.0  19180.00   35.30491   \n",
       "399239 2022-10-24 14:24:24.999000064  1730601188.0  19180.00   20.34712   \n",
       "358554 2022-10-24 14:22:23.491000064  1730581195.0  19230.00   17.60558   \n",
       "420005 2022-10-24 14:25:15.900000000  1730611677.0  19170.00   13.96733   \n",
       "399493 2022-10-24 14:24:25.044999936  1730601239.0  19180.00   13.57954   \n",
       "399501 2022-10-24 14:24:25.046000128  1730601240.0  19180.00   13.57954   \n",
       "399844 2022-10-24 14:24:25.112999936  1730601293.0  19180.00   13.44152   \n",
       "399242 2022-10-24 14:24:24.999000064  1730601190.0  19180.00   12.95700   \n",
       "\n",
       "        taker_side_sell exchange      pair        volume  \n",
       "811762             True     bnce  btc-usdt  2.422068e+06  \n",
       "219066             True     bnce  btc-usdt  7.994242e+05  \n",
       "399259             True     bnce  btc-usdt  6.771482e+05  \n",
       "399239             True     bnce  btc-usdt  3.902578e+05  \n",
       "358554             True     bnce  btc-usdt  3.385553e+05  \n",
       "420005             True     bnce  btc-usdt  2.677537e+05  \n",
       "399493             True     bnce  btc-usdt  2.604556e+05  \n",
       "399501             True     bnce  btc-usdt  2.604556e+05  \n",
       "399844             True     bnce  btc-usdt  2.578084e+05  \n",
       "399242             True     bnce  btc-usdt  2.485153e+05  "
      ]
     },
     "execution_count": 55,
     "metadata": {},
     "output_type": "execute_result"
    }
   ],
   "source": [
    "df[df.taker_side_sell].nlargest(10, \"volume\")"
   ]
  },
  {
   "cell_type": "markdown",
   "id": "75cf254d",
   "metadata": {},
   "source": [
    "What are the 10 largest purchases on the exchanges BTRX or CEXI in terms of volume?"
   ]
  },
  {
   "cell_type": "code",
   "execution_count": 56,
   "id": "cba76bf5",
   "metadata": {},
   "outputs": [
    {
     "data": {
      "text/html": [
       "<div>\n",
       "<style scoped>\n",
       "    .dataframe tbody tr th:only-of-type {\n",
       "        vertical-align: middle;\n",
       "    }\n",
       "\n",
       "    .dataframe tbody tr th {\n",
       "        vertical-align: top;\n",
       "    }\n",
       "\n",
       "    .dataframe thead th {\n",
       "        text-align: right;\n",
       "    }\n",
       "</style>\n",
       "<table border=\"1\" class=\"dataframe\">\n",
       "  <thead>\n",
       "    <tr style=\"text-align: right;\">\n",
       "      <th></th>\n",
       "      <th>timestamp</th>\n",
       "      <th>trade_id</th>\n",
       "      <th>price</th>\n",
       "      <th>amount</th>\n",
       "      <th>taker_side_sell</th>\n",
       "      <th>exchange</th>\n",
       "      <th>pair</th>\n",
       "      <th>volume</th>\n",
       "    </tr>\n",
       "  </thead>\n",
       "  <tbody>\n",
       "    <tr>\n",
       "      <th>299007</th>\n",
       "      <td>2022-10-24 14:18:54.240000000</td>\n",
       "      <td>58fa0dd8-e080-4e5d-8b5a-6b781178749b</td>\n",
       "      <td>1.00407</td>\n",
       "      <td>16908.149966</td>\n",
       "      <td>False</td>\n",
       "      <td>btrx</td>\n",
       "      <td>usdt-usd</td>\n",
       "      <td>16976.966137</td>\n",
       "    </tr>\n",
       "    <tr>\n",
       "      <th>299010</th>\n",
       "      <td>2022-10-24 14:18:54.240000000</td>\n",
       "      <td>56a7cc07-3be4-4616-bc4a-7c8e529a6d6d</td>\n",
       "      <td>1.00048</td>\n",
       "      <td>10000.000000</td>\n",
       "      <td>False</td>\n",
       "      <td>btrx</td>\n",
       "      <td>usdt-usd</td>\n",
       "      <td>10004.800000</td>\n",
       "    </tr>\n",
       "    <tr>\n",
       "      <th>152733</th>\n",
       "      <td>2022-10-24 14:10:45.638000128</td>\n",
       "      <td>54459.0</td>\n",
       "      <td>0.99970</td>\n",
       "      <td>10000.000000</td>\n",
       "      <td>False</td>\n",
       "      <td>cexi</td>\n",
       "      <td>usdc-usdt</td>\n",
       "      <td>9997.000000</td>\n",
       "    </tr>\n",
       "    <tr>\n",
       "      <th>299002</th>\n",
       "      <td>2022-10-24 14:18:54.240000000</td>\n",
       "      <td>8e496d91-1fe2-4aa5-b4d1-00dcd8fd36db</td>\n",
       "      <td>1.00046</td>\n",
       "      <td>9000.000000</td>\n",
       "      <td>False</td>\n",
       "      <td>btrx</td>\n",
       "      <td>usdt-usd</td>\n",
       "      <td>9004.140000</td>\n",
       "    </tr>\n",
       "    <tr>\n",
       "      <th>484486</th>\n",
       "      <td>2022-10-24 14:28:50.790000000</td>\n",
       "      <td>ddf1b866-f2b0-4f81-9f12-69d70085e8fb</td>\n",
       "      <td>19227.10000</td>\n",
       "      <td>0.319465</td>\n",
       "      <td>False</td>\n",
       "      <td>btrx</td>\n",
       "      <td>btc-usdt</td>\n",
       "      <td>6142.393769</td>\n",
       "    </tr>\n",
       "    <tr>\n",
       "      <th>732121</th>\n",
       "      <td>2022-10-24 14:48:25.966000128</td>\n",
       "      <td>1365455.0</td>\n",
       "      <td>1.00080</td>\n",
       "      <td>5000.000000</td>\n",
       "      <td>False</td>\n",
       "      <td>cexi</td>\n",
       "      <td>usdt-usd</td>\n",
       "      <td>5004.000000</td>\n",
       "    </tr>\n",
       "    <tr>\n",
       "      <th>18465</th>\n",
       "      <td>2022-10-24 14:01:11.980000000</td>\n",
       "      <td>5312d302-d4b9-4c47-848c-df398ff6829f</td>\n",
       "      <td>0.45666</td>\n",
       "      <td>10949.232196</td>\n",
       "      <td>False</td>\n",
       "      <td>btrx</td>\n",
       "      <td>xrp-usd</td>\n",
       "      <td>5000.076375</td>\n",
       "    </tr>\n",
       "    <tr>\n",
       "      <th>55350</th>\n",
       "      <td>2022-10-24 14:03:43.340000000</td>\n",
       "      <td>85de4ceb-10b5-4c2b-a3f3-e73bf735369d</td>\n",
       "      <td>0.45591</td>\n",
       "      <td>10967.196408</td>\n",
       "      <td>False</td>\n",
       "      <td>btrx</td>\n",
       "      <td>xrp-usd</td>\n",
       "      <td>5000.054515</td>\n",
       "    </tr>\n",
       "    <tr>\n",
       "      <th>106315</th>\n",
       "      <td>2022-10-24 14:07:33.289999000</td>\n",
       "      <td>c81789b4-1450-4df6-a3a5-6e6c89785b07</td>\n",
       "      <td>0.45666</td>\n",
       "      <td>10949.071169</td>\n",
       "      <td>False</td>\n",
       "      <td>btrx</td>\n",
       "      <td>xrp-usd</td>\n",
       "      <td>5000.002840</td>\n",
       "    </tr>\n",
       "    <tr>\n",
       "      <th>236900</th>\n",
       "      <td>2022-10-24 14:17:34.769999000</td>\n",
       "      <td>b9d24de1-a66a-4160-a97b-812f20f9c9da</td>\n",
       "      <td>0.45444</td>\n",
       "      <td>11002.552592</td>\n",
       "      <td>False</td>\n",
       "      <td>btrx</td>\n",
       "      <td>xrp-usd</td>\n",
       "      <td>5000.000000</td>\n",
       "    </tr>\n",
       "  </tbody>\n",
       "</table>\n",
       "</div>"
      ],
      "text/plain": [
       "                           timestamp                              trade_id  \\\n",
       "299007 2022-10-24 14:18:54.240000000  58fa0dd8-e080-4e5d-8b5a-6b781178749b   \n",
       "299010 2022-10-24 14:18:54.240000000  56a7cc07-3be4-4616-bc4a-7c8e529a6d6d   \n",
       "152733 2022-10-24 14:10:45.638000128                               54459.0   \n",
       "299002 2022-10-24 14:18:54.240000000  8e496d91-1fe2-4aa5-b4d1-00dcd8fd36db   \n",
       "484486 2022-10-24 14:28:50.790000000  ddf1b866-f2b0-4f81-9f12-69d70085e8fb   \n",
       "732121 2022-10-24 14:48:25.966000128                             1365455.0   \n",
       "18465  2022-10-24 14:01:11.980000000  5312d302-d4b9-4c47-848c-df398ff6829f   \n",
       "55350  2022-10-24 14:03:43.340000000  85de4ceb-10b5-4c2b-a3f3-e73bf735369d   \n",
       "106315 2022-10-24 14:07:33.289999000  c81789b4-1450-4df6-a3a5-6e6c89785b07   \n",
       "236900 2022-10-24 14:17:34.769999000  b9d24de1-a66a-4160-a97b-812f20f9c9da   \n",
       "\n",
       "              price        amount  taker_side_sell exchange       pair  \\\n",
       "299007      1.00407  16908.149966            False     btrx   usdt-usd   \n",
       "299010      1.00048  10000.000000            False     btrx   usdt-usd   \n",
       "152733      0.99970  10000.000000            False     cexi  usdc-usdt   \n",
       "299002      1.00046   9000.000000            False     btrx   usdt-usd   \n",
       "484486  19227.10000      0.319465            False     btrx   btc-usdt   \n",
       "732121      1.00080   5000.000000            False     cexi   usdt-usd   \n",
       "18465       0.45666  10949.232196            False     btrx    xrp-usd   \n",
       "55350       0.45591  10967.196408            False     btrx    xrp-usd   \n",
       "106315      0.45666  10949.071169            False     btrx    xrp-usd   \n",
       "236900      0.45444  11002.552592            False     btrx    xrp-usd   \n",
       "\n",
       "              volume  \n",
       "299007  16976.966137  \n",
       "299010  10004.800000  \n",
       "152733   9997.000000  \n",
       "299002   9004.140000  \n",
       "484486   6142.393769  \n",
       "732121   5004.000000  \n",
       "18465    5000.076375  \n",
       "55350    5000.054515  \n",
       "106315   5000.002840  \n",
       "236900   5000.000000  "
      ]
     },
     "execution_count": 56,
     "metadata": {},
     "output_type": "execute_result"
    }
   ],
   "source": [
    "df[(~df.taker_side_sell)&(df.exchange.isin([\"btrx\",\"cexi\"]))].nlargest(10, \"volume\")"
   ]
  },
  {
   "cell_type": "markdown",
   "id": "a9d67791",
   "metadata": {},
   "source": [
    "Get the number of trades with a volume of more than 500,000"
   ]
  },
  {
   "cell_type": "code",
   "execution_count": 57,
   "id": "d11aa947",
   "metadata": {},
   "outputs": [
    {
     "data": {
      "text/plain": [
       "9"
      ]
     },
     "execution_count": 57,
     "metadata": {},
     "output_type": "execute_result"
    }
   ],
   "source": [
    "len(df[df.volume > 500_000])"
   ]
  },
  {
   "cell_type": "markdown",
   "id": "7f31b8fd",
   "metadata": {},
   "source": [
    "Get the number of trades with a volume between 9,000 and 10,000"
   ]
  },
  {
   "cell_type": "code",
   "execution_count": 58,
   "id": "bb520e9a",
   "metadata": {},
   "outputs": [
    {
     "data": {
      "text/plain": [
       "3536"
      ]
     },
     "execution_count": 58,
     "metadata": {},
     "output_type": "execute_result"
    }
   ],
   "source": [
    "len(df[df.volume.between(9_000, 10_000)])"
   ]
  },
  {
   "cell_type": "markdown",
   "id": "5f122176",
   "metadata": {},
   "source": [
    "### 2.2 Volume by exchange"
   ]
  },
  {
   "cell_type": "markdown",
   "id": "4295b0c0",
   "metadata": {},
   "source": [
    "Create a DataFrame that for each exchange contains the following statistics on the volume: *count*, *sum*, *mean*, *median*."
   ]
  },
  {
   "cell_type": "code",
   "execution_count": 59,
   "id": "06003afe",
   "metadata": {},
   "outputs": [
    {
     "data": {
      "text/html": [
       "<div>\n",
       "<style scoped>\n",
       "    .dataframe tbody tr th:only-of-type {\n",
       "        vertical-align: middle;\n",
       "    }\n",
       "\n",
       "    .dataframe tbody tr th {\n",
       "        vertical-align: top;\n",
       "    }\n",
       "\n",
       "    .dataframe thead th {\n",
       "        text-align: right;\n",
       "    }\n",
       "</style>\n",
       "<table border=\"1\" class=\"dataframe\">\n",
       "  <thead>\n",
       "    <tr style=\"text-align: right;\">\n",
       "      <th></th>\n",
       "      <th>count</th>\n",
       "      <th>sum</th>\n",
       "      <th>mean</th>\n",
       "      <th>median</th>\n",
       "    </tr>\n",
       "    <tr>\n",
       "      <th>exchange</th>\n",
       "      <th></th>\n",
       "      <th></th>\n",
       "      <th></th>\n",
       "      <th></th>\n",
       "    </tr>\n",
       "  </thead>\n",
       "  <tbody>\n",
       "    <tr>\n",
       "      <th>bnce</th>\n",
       "      <td>551833</td>\n",
       "      <td>6.517316e+08</td>\n",
       "      <td>1181.030558</td>\n",
       "      <td>250.105114</td>\n",
       "    </tr>\n",
       "    <tr>\n",
       "      <th>btrx</th>\n",
       "      <td>892</td>\n",
       "      <td>4.152173e+05</td>\n",
       "      <td>465.490237</td>\n",
       "      <td>46.101669</td>\n",
       "    </tr>\n",
       "    <tr>\n",
       "      <th>cbse</th>\n",
       "      <td>134785</td>\n",
       "      <td>1.426359e+08</td>\n",
       "      <td>1058.247317</td>\n",
       "      <td>251.424616</td>\n",
       "    </tr>\n",
       "    <tr>\n",
       "      <th>cexi</th>\n",
       "      <td>1445</td>\n",
       "      <td>3.169475e+05</td>\n",
       "      <td>219.340809</td>\n",
       "      <td>59.011451</td>\n",
       "    </tr>\n",
       "    <tr>\n",
       "      <th>ftxx</th>\n",
       "      <td>73111</td>\n",
       "      <td>1.102261e+08</td>\n",
       "      <td>1507.653735</td>\n",
       "      <td>39.849000</td>\n",
       "    </tr>\n",
       "    <tr>\n",
       "      <th>gmni</th>\n",
       "      <td>4864</td>\n",
       "      <td>3.240192e+06</td>\n",
       "      <td>666.157993</td>\n",
       "      <td>8.574853</td>\n",
       "    </tr>\n",
       "    <tr>\n",
       "      <th>huob</th>\n",
       "      <td>75960</td>\n",
       "      <td>1.211431e+07</td>\n",
       "      <td>159.482792</td>\n",
       "      <td>12.614172</td>\n",
       "    </tr>\n",
       "    <tr>\n",
       "      <th>itbi</th>\n",
       "      <td>3214</td>\n",
       "      <td>1.069943e+06</td>\n",
       "      <td>332.900897</td>\n",
       "      <td>3.485923</td>\n",
       "    </tr>\n",
       "    <tr>\n",
       "      <th>stmp</th>\n",
       "      <td>2211</td>\n",
       "      <td>4.212906e+06</td>\n",
       "      <td>1905.430134</td>\n",
       "      <td>215.932800</td>\n",
       "    </tr>\n",
       "  </tbody>\n",
       "</table>\n",
       "</div>"
      ],
      "text/plain": [
       "           count           sum         mean      median\n",
       "exchange                                               \n",
       "bnce      551833  6.517316e+08  1181.030558  250.105114\n",
       "btrx         892  4.152173e+05   465.490237   46.101669\n",
       "cbse      134785  1.426359e+08  1058.247317  251.424616\n",
       "cexi        1445  3.169475e+05   219.340809   59.011451\n",
       "ftxx       73111  1.102261e+08  1507.653735   39.849000\n",
       "gmni        4864  3.240192e+06   666.157993    8.574853\n",
       "huob       75960  1.211431e+07   159.482792   12.614172\n",
       "itbi        3214  1.069943e+06   332.900897    3.485923\n",
       "stmp        2211  4.212906e+06  1905.430134  215.932800"
      ]
     },
     "execution_count": 59,
     "metadata": {},
     "output_type": "execute_result"
    }
   ],
   "source": [
    "stats_vol_by_exch = df.groupby(\"exchange\").volume.agg(['count', 'sum', \"mean\", \"median\"])\n",
    "stats_vol_by_exch"
   ]
  },
  {
   "cell_type": "markdown",
   "id": "3739d6d9",
   "metadata": {},
   "source": [
    "Sort the exchanges by total number of trades (starting by the largest one). "
   ]
  },
  {
   "cell_type": "code",
   "execution_count": 60,
   "id": "49331e78",
   "metadata": {},
   "outputs": [
    {
     "data": {
      "text/html": [
       "<div>\n",
       "<style scoped>\n",
       "    .dataframe tbody tr th:only-of-type {\n",
       "        vertical-align: middle;\n",
       "    }\n",
       "\n",
       "    .dataframe tbody tr th {\n",
       "        vertical-align: top;\n",
       "    }\n",
       "\n",
       "    .dataframe thead th {\n",
       "        text-align: right;\n",
       "    }\n",
       "</style>\n",
       "<table border=\"1\" class=\"dataframe\">\n",
       "  <thead>\n",
       "    <tr style=\"text-align: right;\">\n",
       "      <th></th>\n",
       "      <th>count</th>\n",
       "      <th>sum</th>\n",
       "      <th>mean</th>\n",
       "      <th>median</th>\n",
       "    </tr>\n",
       "    <tr>\n",
       "      <th>exchange</th>\n",
       "      <th></th>\n",
       "      <th></th>\n",
       "      <th></th>\n",
       "      <th></th>\n",
       "    </tr>\n",
       "  </thead>\n",
       "  <tbody>\n",
       "    <tr>\n",
       "      <th>bnce</th>\n",
       "      <td>551833</td>\n",
       "      <td>6.517316e+08</td>\n",
       "      <td>1181.030558</td>\n",
       "      <td>250.105114</td>\n",
       "    </tr>\n",
       "    <tr>\n",
       "      <th>cbse</th>\n",
       "      <td>134785</td>\n",
       "      <td>1.426359e+08</td>\n",
       "      <td>1058.247317</td>\n",
       "      <td>251.424616</td>\n",
       "    </tr>\n",
       "    <tr>\n",
       "      <th>huob</th>\n",
       "      <td>75960</td>\n",
       "      <td>1.211431e+07</td>\n",
       "      <td>159.482792</td>\n",
       "      <td>12.614172</td>\n",
       "    </tr>\n",
       "    <tr>\n",
       "      <th>ftxx</th>\n",
       "      <td>73111</td>\n",
       "      <td>1.102261e+08</td>\n",
       "      <td>1507.653735</td>\n",
       "      <td>39.849000</td>\n",
       "    </tr>\n",
       "    <tr>\n",
       "      <th>gmni</th>\n",
       "      <td>4864</td>\n",
       "      <td>3.240192e+06</td>\n",
       "      <td>666.157993</td>\n",
       "      <td>8.574853</td>\n",
       "    </tr>\n",
       "    <tr>\n",
       "      <th>itbi</th>\n",
       "      <td>3214</td>\n",
       "      <td>1.069943e+06</td>\n",
       "      <td>332.900897</td>\n",
       "      <td>3.485923</td>\n",
       "    </tr>\n",
       "    <tr>\n",
       "      <th>stmp</th>\n",
       "      <td>2211</td>\n",
       "      <td>4.212906e+06</td>\n",
       "      <td>1905.430134</td>\n",
       "      <td>215.932800</td>\n",
       "    </tr>\n",
       "    <tr>\n",
       "      <th>cexi</th>\n",
       "      <td>1445</td>\n",
       "      <td>3.169475e+05</td>\n",
       "      <td>219.340809</td>\n",
       "      <td>59.011451</td>\n",
       "    </tr>\n",
       "    <tr>\n",
       "      <th>btrx</th>\n",
       "      <td>892</td>\n",
       "      <td>4.152173e+05</td>\n",
       "      <td>465.490237</td>\n",
       "      <td>46.101669</td>\n",
       "    </tr>\n",
       "  </tbody>\n",
       "</table>\n",
       "</div>"
      ],
      "text/plain": [
       "           count           sum         mean      median\n",
       "exchange                                               \n",
       "bnce      551833  6.517316e+08  1181.030558  250.105114\n",
       "cbse      134785  1.426359e+08  1058.247317  251.424616\n",
       "huob       75960  1.211431e+07   159.482792   12.614172\n",
       "ftxx       73111  1.102261e+08  1507.653735   39.849000\n",
       "gmni        4864  3.240192e+06   666.157993    8.574853\n",
       "itbi        3214  1.069943e+06   332.900897    3.485923\n",
       "stmp        2211  4.212906e+06  1905.430134  215.932800\n",
       "cexi        1445  3.169475e+05   219.340809   59.011451\n",
       "btrx         892  4.152173e+05   465.490237   46.101669"
      ]
     },
     "execution_count": 60,
     "metadata": {},
     "output_type": "execute_result"
    }
   ],
   "source": [
    "stats_vol_by_exch.sort_values(\"count\", ascending=False)"
   ]
  },
  {
   "cell_type": "markdown",
   "id": "8efdc9dc",
   "metadata": {},
   "source": [
    "Conclude about the largest exchange in terms of \n",
    "- number of trades # BNCE\n",
    "- total volume # BNCE\n",
    "- average trade volume # STMP \n",
    "- median trade volume # CBSE"
   ]
  },
  {
   "cell_type": "code",
   "execution_count": 61,
   "id": "48ce04e4",
   "metadata": {},
   "outputs": [
    {
     "data": {
      "text/html": [
       "<div>\n",
       "<style scoped>\n",
       "    .dataframe tbody tr th:only-of-type {\n",
       "        vertical-align: middle;\n",
       "    }\n",
       "\n",
       "    .dataframe tbody tr th {\n",
       "        vertical-align: top;\n",
       "    }\n",
       "\n",
       "    .dataframe thead th {\n",
       "        text-align: right;\n",
       "    }\n",
       "</style>\n",
       "<table border=\"1\" class=\"dataframe\">\n",
       "  <thead>\n",
       "    <tr style=\"text-align: right;\">\n",
       "      <th></th>\n",
       "      <th>count</th>\n",
       "      <th>sum</th>\n",
       "      <th>mean</th>\n",
       "      <th>median</th>\n",
       "    </tr>\n",
       "    <tr>\n",
       "      <th>exchange</th>\n",
       "      <th></th>\n",
       "      <th></th>\n",
       "      <th></th>\n",
       "      <th></th>\n",
       "    </tr>\n",
       "  </thead>\n",
       "  <tbody>\n",
       "    <tr>\n",
       "      <th>bnce</th>\n",
       "      <td>551833</td>\n",
       "      <td>6.517316e+08</td>\n",
       "      <td>1181.030558</td>\n",
       "      <td>250.105114</td>\n",
       "    </tr>\n",
       "  </tbody>\n",
       "</table>\n",
       "</div>"
      ],
      "text/plain": [
       "           count           sum         mean      median\n",
       "exchange                                               \n",
       "bnce      551833  6.517316e+08  1181.030558  250.105114"
      ]
     },
     "execution_count": 61,
     "metadata": {},
     "output_type": "execute_result"
    }
   ],
   "source": [
    "stats_vol_by_exch.nlargest(1, \"sum\")"
   ]
  },
  {
   "cell_type": "code",
   "execution_count": 62,
   "id": "91ac63da",
   "metadata": {},
   "outputs": [
    {
     "data": {
      "text/html": [
       "<div>\n",
       "<style scoped>\n",
       "    .dataframe tbody tr th:only-of-type {\n",
       "        vertical-align: middle;\n",
       "    }\n",
       "\n",
       "    .dataframe tbody tr th {\n",
       "        vertical-align: top;\n",
       "    }\n",
       "\n",
       "    .dataframe thead th {\n",
       "        text-align: right;\n",
       "    }\n",
       "</style>\n",
       "<table border=\"1\" class=\"dataframe\">\n",
       "  <thead>\n",
       "    <tr style=\"text-align: right;\">\n",
       "      <th></th>\n",
       "      <th>count</th>\n",
       "      <th>sum</th>\n",
       "      <th>mean</th>\n",
       "      <th>median</th>\n",
       "    </tr>\n",
       "    <tr>\n",
       "      <th>exchange</th>\n",
       "      <th></th>\n",
       "      <th></th>\n",
       "      <th></th>\n",
       "      <th></th>\n",
       "    </tr>\n",
       "  </thead>\n",
       "  <tbody>\n",
       "    <tr>\n",
       "      <th>stmp</th>\n",
       "      <td>2211</td>\n",
       "      <td>4.212906e+06</td>\n",
       "      <td>1905.430134</td>\n",
       "      <td>215.9328</td>\n",
       "    </tr>\n",
       "  </tbody>\n",
       "</table>\n",
       "</div>"
      ],
      "text/plain": [
       "          count           sum         mean    median\n",
       "exchange                                            \n",
       "stmp       2211  4.212906e+06  1905.430134  215.9328"
      ]
     },
     "execution_count": 62,
     "metadata": {},
     "output_type": "execute_result"
    }
   ],
   "source": [
    "stats_vol_by_exch.nlargest(1, \"mean\")"
   ]
  },
  {
   "cell_type": "code",
   "execution_count": 63,
   "id": "5717500e",
   "metadata": {},
   "outputs": [
    {
     "data": {
      "text/html": [
       "<div>\n",
       "<style scoped>\n",
       "    .dataframe tbody tr th:only-of-type {\n",
       "        vertical-align: middle;\n",
       "    }\n",
       "\n",
       "    .dataframe tbody tr th {\n",
       "        vertical-align: top;\n",
       "    }\n",
       "\n",
       "    .dataframe thead th {\n",
       "        text-align: right;\n",
       "    }\n",
       "</style>\n",
       "<table border=\"1\" class=\"dataframe\">\n",
       "  <thead>\n",
       "    <tr style=\"text-align: right;\">\n",
       "      <th></th>\n",
       "      <th>count</th>\n",
       "      <th>sum</th>\n",
       "      <th>mean</th>\n",
       "      <th>median</th>\n",
       "    </tr>\n",
       "    <tr>\n",
       "      <th>exchange</th>\n",
       "      <th></th>\n",
       "      <th></th>\n",
       "      <th></th>\n",
       "      <th></th>\n",
       "    </tr>\n",
       "  </thead>\n",
       "  <tbody>\n",
       "    <tr>\n",
       "      <th>cbse</th>\n",
       "      <td>134785</td>\n",
       "      <td>1.426359e+08</td>\n",
       "      <td>1058.247317</td>\n",
       "      <td>251.424616</td>\n",
       "    </tr>\n",
       "  </tbody>\n",
       "</table>\n",
       "</div>"
      ],
      "text/plain": [
       "           count           sum         mean      median\n",
       "exchange                                               \n",
       "cbse      134785  1.426359e+08  1058.247317  251.424616"
      ]
     },
     "execution_count": 63,
     "metadata": {},
     "output_type": "execute_result"
    }
   ],
   "source": [
    "stats_vol_by_exch.nlargest(1, \"median\")"
   ]
  },
  {
   "cell_type": "markdown",
   "id": "6aaeb7fd",
   "metadata": {},
   "source": [
    "Display the total traded volume by exchange in a bar chart. Sort the exchanges by descending order."
   ]
  },
  {
   "cell_type": "code",
   "execution_count": 64,
   "id": "f7cb7f0c",
   "metadata": {},
   "outputs": [
    {
     "data": {
      "image/png": "[encoded data removed]",
      "text/plain": [
       "<Figure size 1500x800 with 1 Axes>"
      ]
     },
     "metadata": {},
     "output_type": "display_data"
    }
   ],
   "source": [
    "stats_vol_by_exch['sum'].sort_values(ascending=False).plot.bar(figsize = (15,8))\n",
    "plt.title(\"Total traded volume by exchange\")\n",
    "plt.show()"
   ]
  },
  {
   "cell_type": "markdown",
   "id": "7b70f5f3",
   "metadata": {},
   "source": [
    "### 2.3 Volume by pair"
   ]
  },
  {
   "cell_type": "markdown",
   "id": "0e1cae52",
   "metadata": {},
   "source": [
    "Create a DataFrame that for each pair contains the following statistics on the volume: *count*, *sum*, *mean*, *median*.\n",
    "\n",
    "What are the 5 pairs with the largest:\n",
    "- number of trades\n",
    "- total volume\n"
   ]
  },
  {
   "cell_type": "code",
   "execution_count": 65,
   "id": "0350e7b9",
   "metadata": {},
   "outputs": [],
   "source": [
    "stats_vol_by_pair = df.groupby(\"pair\").volume.agg(['count', 'sum', \"mean\", \"median\"])"
   ]
  },
  {
   "cell_type": "code",
   "execution_count": 66,
   "id": "abeb4716",
   "metadata": {},
   "outputs": [
    {
     "data": {
      "text/html": [
       "<div>\n",
       "<style scoped>\n",
       "    .dataframe tbody tr th:only-of-type {\n",
       "        vertical-align: middle;\n",
       "    }\n",
       "\n",
       "    .dataframe tbody tr th {\n",
       "        vertical-align: top;\n",
       "    }\n",
       "\n",
       "    .dataframe thead th {\n",
       "        text-align: right;\n",
       "    }\n",
       "</style>\n",
       "<table border=\"1\" class=\"dataframe\">\n",
       "  <thead>\n",
       "    <tr style=\"text-align: right;\">\n",
       "      <th></th>\n",
       "      <th>count</th>\n",
       "      <th>sum</th>\n",
       "      <th>mean</th>\n",
       "      <th>median</th>\n",
       "    </tr>\n",
       "    <tr>\n",
       "      <th>pair</th>\n",
       "      <th></th>\n",
       "      <th></th>\n",
       "      <th></th>\n",
       "      <th></th>\n",
       "    </tr>\n",
       "  </thead>\n",
       "  <tbody>\n",
       "    <tr>\n",
       "      <th>aave-usd</th>\n",
       "      <td>2843</td>\n",
       "      <td>8.803690e+05</td>\n",
       "      <td>309.661977</td>\n",
       "      <td>63.474600</td>\n",
       "    </tr>\n",
       "    <tr>\n",
       "      <th>aave-usdt</th>\n",
       "      <td>3238</td>\n",
       "      <td>9.448475e+05</td>\n",
       "      <td>291.799713</td>\n",
       "      <td>14.946600</td>\n",
       "    </tr>\n",
       "    <tr>\n",
       "      <th>ada-usd</th>\n",
       "      <td>2572</td>\n",
       "      <td>1.328328e+06</td>\n",
       "      <td>516.457390</td>\n",
       "      <td>200.027961</td>\n",
       "    </tr>\n",
       "    <tr>\n",
       "      <th>ada-usdt</th>\n",
       "      <td>4749</td>\n",
       "      <td>2.378887e+06</td>\n",
       "      <td>500.923718</td>\n",
       "      <td>54.755200</td>\n",
       "    </tr>\n",
       "    <tr>\n",
       "      <th>algo-usd</th>\n",
       "      <td>1065</td>\n",
       "      <td>1.996163e+05</td>\n",
       "      <td>187.433190</td>\n",
       "      <td>17.610320</td>\n",
       "    </tr>\n",
       "    <tr>\n",
       "      <th>...</th>\n",
       "      <td>...</td>\n",
       "      <td>...</td>\n",
       "      <td>...</td>\n",
       "      <td>...</td>\n",
       "    </tr>\n",
       "    <tr>\n",
       "      <th>xrp-usdt</th>\n",
       "      <td>13489</td>\n",
       "      <td>1.461218e+07</td>\n",
       "      <td>1083.266404</td>\n",
       "      <td>141.380066</td>\n",
       "    </tr>\n",
       "    <tr>\n",
       "      <th>xtz-usd</th>\n",
       "      <td>678</td>\n",
       "      <td>1.751276e+05</td>\n",
       "      <td>258.300269</td>\n",
       "      <td>51.819193</td>\n",
       "    </tr>\n",
       "    <tr>\n",
       "      <th>xtz-usdt</th>\n",
       "      <td>1524</td>\n",
       "      <td>5.196959e+05</td>\n",
       "      <td>341.007798</td>\n",
       "      <td>54.475850</td>\n",
       "    </tr>\n",
       "    <tr>\n",
       "      <th>zec-usd</th>\n",
       "      <td>509</td>\n",
       "      <td>1.342993e+05</td>\n",
       "      <td>263.849334</td>\n",
       "      <td>33.531303</td>\n",
       "    </tr>\n",
       "    <tr>\n",
       "      <th>zec-usdt</th>\n",
       "      <td>289</td>\n",
       "      <td>2.060670e+05</td>\n",
       "      <td>713.034448</td>\n",
       "      <td>125.476000</td>\n",
       "    </tr>\n",
       "  </tbody>\n",
       "</table>\n",
       "<p>101 rows × 4 columns</p>\n",
       "</div>"
      ],
      "text/plain": [
       "           count           sum         mean      median\n",
       "pair                                                   \n",
       "aave-usd    2843  8.803690e+05   309.661977   63.474600\n",
       "aave-usdt   3238  9.448475e+05   291.799713   14.946600\n",
       "ada-usd     2572  1.328328e+06   516.457390  200.027961\n",
       "ada-usdt    4749  2.378887e+06   500.923718   54.755200\n",
       "algo-usd    1065  1.996163e+05   187.433190   17.610320\n",
       "...          ...           ...          ...         ...\n",
       "xrp-usdt   13489  1.461218e+07  1083.266404  141.380066\n",
       "xtz-usd      678  1.751276e+05   258.300269   51.819193\n",
       "xtz-usdt    1524  5.196959e+05   341.007798   54.475850\n",
       "zec-usd      509  1.342993e+05   263.849334   33.531303\n",
       "zec-usdt     289  2.060670e+05   713.034448  125.476000\n",
       "\n",
       "[101 rows x 4 columns]"
      ]
     },
     "execution_count": 66,
     "metadata": {},
     "output_type": "execute_result"
    }
   ],
   "source": [
    "stats_vol_by_pair"
   ]
  },
  {
   "cell_type": "code",
   "execution_count": 67,
   "id": "4a846824",
   "metadata": {},
   "outputs": [
    {
     "data": {
      "text/html": [
       "<div>\n",
       "<style scoped>\n",
       "    .dataframe tbody tr th:only-of-type {\n",
       "        vertical-align: middle;\n",
       "    }\n",
       "\n",
       "    .dataframe tbody tr th {\n",
       "        vertical-align: top;\n",
       "    }\n",
       "\n",
       "    .dataframe thead th {\n",
       "        text-align: right;\n",
       "    }\n",
       "</style>\n",
       "<table border=\"1\" class=\"dataframe\">\n",
       "  <thead>\n",
       "    <tr style=\"text-align: right;\">\n",
       "      <th></th>\n",
       "      <th>count</th>\n",
       "      <th>sum</th>\n",
       "      <th>mean</th>\n",
       "      <th>median</th>\n",
       "    </tr>\n",
       "    <tr>\n",
       "      <th>pair</th>\n",
       "      <th></th>\n",
       "      <th></th>\n",
       "      <th></th>\n",
       "      <th></th>\n",
       "    </tr>\n",
       "  </thead>\n",
       "  <tbody>\n",
       "    <tr>\n",
       "      <th>btc-usdt</th>\n",
       "      <td>422628</td>\n",
       "      <td>4.964425e+08</td>\n",
       "      <td>1174.655995</td>\n",
       "      <td>242.546412</td>\n",
       "    </tr>\n",
       "    <tr>\n",
       "      <th>eth-usdt</th>\n",
       "      <td>61248</td>\n",
       "      <td>1.070150e+08</td>\n",
       "      <td>1747.240237</td>\n",
       "      <td>468.730049</td>\n",
       "    </tr>\n",
       "    <tr>\n",
       "      <th>btc-usd</th>\n",
       "      <td>58365</td>\n",
       "      <td>9.186748e+07</td>\n",
       "      <td>1574.016653</td>\n",
       "      <td>107.346144</td>\n",
       "    </tr>\n",
       "    <tr>\n",
       "      <th>eth-usd</th>\n",
       "      <td>57908</td>\n",
       "      <td>1.119512e+08</td>\n",
       "      <td>1933.260047</td>\n",
       "      <td>499.999484</td>\n",
       "    </tr>\n",
       "    <tr>\n",
       "      <th>sol-usd</th>\n",
       "      <td>16746</td>\n",
       "      <td>8.435822e+06</td>\n",
       "      <td>503.751459</td>\n",
       "      <td>83.886840</td>\n",
       "    </tr>\n",
       "  </tbody>\n",
       "</table>\n",
       "</div>"
      ],
      "text/plain": [
       "           count           sum         mean      median\n",
       "pair                                                   \n",
       "btc-usdt  422628  4.964425e+08  1174.655995  242.546412\n",
       "eth-usdt   61248  1.070150e+08  1747.240237  468.730049\n",
       "btc-usd    58365  9.186748e+07  1574.016653  107.346144\n",
       "eth-usd    57908  1.119512e+08  1933.260047  499.999484\n",
       "sol-usd    16746  8.435822e+06   503.751459   83.886840"
      ]
     },
     "execution_count": 67,
     "metadata": {},
     "output_type": "execute_result"
    }
   ],
   "source": [
    "# The 5 pairs with the largest number of trades are:\n",
    "stats_vol_by_pair.nlargest(5, \"count\")"
   ]
  },
  {
   "cell_type": "code",
   "execution_count": 68,
   "id": "c3e34e18",
   "metadata": {},
   "outputs": [
    {
     "data": {
      "text/html": [
       "<div>\n",
       "<style scoped>\n",
       "    .dataframe tbody tr th:only-of-type {\n",
       "        vertical-align: middle;\n",
       "    }\n",
       "\n",
       "    .dataframe tbody tr th {\n",
       "        vertical-align: top;\n",
       "    }\n",
       "\n",
       "    .dataframe thead th {\n",
       "        text-align: right;\n",
       "    }\n",
       "</style>\n",
       "<table border=\"1\" class=\"dataframe\">\n",
       "  <thead>\n",
       "    <tr style=\"text-align: right;\">\n",
       "      <th></th>\n",
       "      <th>count</th>\n",
       "      <th>sum</th>\n",
       "      <th>mean</th>\n",
       "      <th>median</th>\n",
       "    </tr>\n",
       "    <tr>\n",
       "      <th>pair</th>\n",
       "      <th></th>\n",
       "      <th></th>\n",
       "      <th></th>\n",
       "      <th></th>\n",
       "    </tr>\n",
       "  </thead>\n",
       "  <tbody>\n",
       "    <tr>\n",
       "      <th>btc-usdt</th>\n",
       "      <td>422628</td>\n",
       "      <td>4.964425e+08</td>\n",
       "      <td>1174.655995</td>\n",
       "      <td>242.546412</td>\n",
       "    </tr>\n",
       "    <tr>\n",
       "      <th>eth-usd</th>\n",
       "      <td>57908</td>\n",
       "      <td>1.119512e+08</td>\n",
       "      <td>1933.260047</td>\n",
       "      <td>499.999484</td>\n",
       "    </tr>\n",
       "    <tr>\n",
       "      <th>eth-usdt</th>\n",
       "      <td>61248</td>\n",
       "      <td>1.070150e+08</td>\n",
       "      <td>1747.240237</td>\n",
       "      <td>468.730049</td>\n",
       "    </tr>\n",
       "    <tr>\n",
       "      <th>btc-usd</th>\n",
       "      <td>58365</td>\n",
       "      <td>9.186748e+07</td>\n",
       "      <td>1574.016653</td>\n",
       "      <td>107.346144</td>\n",
       "    </tr>\n",
       "    <tr>\n",
       "      <th>xrp-usdt</th>\n",
       "      <td>13489</td>\n",
       "      <td>1.461218e+07</td>\n",
       "      <td>1083.266404</td>\n",
       "      <td>141.380066</td>\n",
       "    </tr>\n",
       "  </tbody>\n",
       "</table>\n",
       "</div>"
      ],
      "text/plain": [
       "           count           sum         mean      median\n",
       "pair                                                   \n",
       "btc-usdt  422628  4.964425e+08  1174.655995  242.546412\n",
       "eth-usd    57908  1.119512e+08  1933.260047  499.999484\n",
       "eth-usdt   61248  1.070150e+08  1747.240237  468.730049\n",
       "btc-usd    58365  9.186748e+07  1574.016653  107.346144\n",
       "xrp-usdt   13489  1.461218e+07  1083.266404  141.380066"
      ]
     },
     "execution_count": 68,
     "metadata": {},
     "output_type": "execute_result"
    }
   ],
   "source": [
    "# The 5 pairs with the largest total volume are:\n",
    "stats_vol_by_pair.nlargest(5, \"sum\")"
   ]
  },
  {
   "cell_type": "markdown",
   "id": "96ce22fc",
   "metadata": {},
   "source": [
    "Are they the same pairs ? \n",
    "\n",
    "Find a way to evaluate the correlation between number of trades and total volume."
   ]
  },
  {
   "cell_type": "code",
   "execution_count": 69,
   "id": "bab993c1",
   "metadata": {},
   "outputs": [
    {
     "data": {
      "image/png": "[encoded data removed]",
      "text/plain": [
       "<Figure size 640x480 with 1 Axes>"
      ]
     },
     "metadata": {},
     "output_type": "display_data"
    }
   ],
   "source": [
    "stats_vol_by_pair.plot.scatter('count', \"sum\")\n",
    "plt.xlabel(\"Number of trades\")\n",
    "plt.ylabel(\"Total volume\")\n",
    "plt.show()"
   ]
  },
  {
   "cell_type": "code",
   "execution_count": 70,
   "id": "ad2a96ce",
   "metadata": {},
   "outputs": [
    {
     "data": {
      "text/html": [
       "<div>\n",
       "<style scoped>\n",
       "    .dataframe tbody tr th:only-of-type {\n",
       "        vertical-align: middle;\n",
       "    }\n",
       "\n",
       "    .dataframe tbody tr th {\n",
       "        vertical-align: top;\n",
       "    }\n",
       "\n",
       "    .dataframe thead th {\n",
       "        text-align: right;\n",
       "    }\n",
       "</style>\n",
       "<table border=\"1\" class=\"dataframe\">\n",
       "  <thead>\n",
       "    <tr style=\"text-align: right;\">\n",
       "      <th></th>\n",
       "      <th>count</th>\n",
       "      <th>sum</th>\n",
       "    </tr>\n",
       "  </thead>\n",
       "  <tbody>\n",
       "    <tr>\n",
       "      <th>count</th>\n",
       "      <td>1.000000</td>\n",
       "      <td>0.991855</td>\n",
       "    </tr>\n",
       "    <tr>\n",
       "      <th>sum</th>\n",
       "      <td>0.991855</td>\n",
       "      <td>1.000000</td>\n",
       "    </tr>\n",
       "  </tbody>\n",
       "</table>\n",
       "</div>"
      ],
      "text/plain": [
       "          count       sum\n",
       "count  1.000000  0.991855\n",
       "sum    0.991855  1.000000"
      ]
     },
     "execution_count": 70,
     "metadata": {},
     "output_type": "execute_result"
    }
   ],
   "source": [
    "stats_vol_by_pair[['count', 'sum']].corr()"
   ]
  },
  {
   "cell_type": "markdown",
   "id": "713f6c76",
   "metadata": {},
   "source": [
    "For each exchange, get the best pair in terms of number of trades, then in terms of volume."
   ]
  },
  {
   "cell_type": "code",
   "execution_count": 71,
   "id": "09ea4a08",
   "metadata": {},
   "outputs": [
    {
     "data": {
      "text/plain": [
       "exchange  pair     \n",
       "bnce      aave-usdt    1909\n",
       "          ada-usdt     3239\n",
       "          algo-usdt    1086\n",
       "          atom-usdt    4465\n",
       "          avax-usdt    2592\n",
       "                       ... \n",
       "stmp      usdc-usdt       4\n",
       "          usdt-usd       84\n",
       "          xlm-usd        46\n",
       "          xrp-usd       347\n",
       "          xrp-usdt       21\n",
       "Name: volume, Length: 338, dtype: int64"
      ]
     },
     "execution_count": 71,
     "metadata": {},
     "output_type": "execute_result"
    }
   ],
   "source": [
    "df.groupby(['exchange', 'pair']).volume.count()"
   ]
  },
  {
   "cell_type": "code",
   "execution_count": 72,
   "id": "66c896e6",
   "metadata": {},
   "outputs": [
    {
     "data": {
      "text/plain": [
       "exchange\n",
       "bnce     btc-usdt\n",
       "btrx      btc-usd\n",
       "cbse      btc-usd\n",
       "cexi      eth-usd\n",
       "ftxx      eth-usd\n",
       "gmni      btc-usd\n",
       "huob    flow-usdt\n",
       "itbi      btc-usd\n",
       "stmp      btc-usd\n",
       "dtype: object"
      ]
     },
     "execution_count": 72,
     "metadata": {},
     "output_type": "execute_result"
    }
   ],
   "source": [
    "df.groupby(['exchange', 'pair']).volume.count().unstack().idxmax(axis=1)"
   ]
  },
  {
   "cell_type": "code",
   "execution_count": 73,
   "id": "76727adf",
   "metadata": {},
   "outputs": [
    {
     "data": {
      "text/plain": [
       "exchange\n",
       "bnce    btc-usdt\n",
       "btrx     xrp-usd\n",
       "cbse     eth-usd\n",
       "cexi     eth-usd\n",
       "ftxx     eth-usd\n",
       "gmni     btc-usd\n",
       "huob    eth-usdt\n",
       "itbi     btc-usd\n",
       "stmp     eth-usd\n",
       "dtype: object"
      ]
     },
     "execution_count": 73,
     "metadata": {},
     "output_type": "execute_result"
    }
   ],
   "source": [
    "df.groupby(['exchange', 'pair']).volume.sum().unstack().idxmax(axis=1)"
   ]
  },
  {
   "cell_type": "markdown",
   "id": "96c7957f",
   "metadata": {},
   "source": [
    "For each pair, get the exchange where there are the most trades. In the following, we will name it \"the best exchange\" for a pair."
   ]
  },
  {
   "cell_type": "code",
   "execution_count": 74,
   "id": "cb3dfd83",
   "metadata": {},
   "outputs": [
    {
     "data": {
      "text/plain": [
       "pair\n",
       "aave-usd     cbse\n",
       "aave-usdt    bnce\n",
       "ada-usd      cbse\n",
       "ada-usdt     bnce\n",
       "algo-usd     cbse\n",
       "             ... \n",
       "xrp-usdt     bnce\n",
       "xtz-usd      cbse\n",
       "xtz-usdt     bnce\n",
       "zec-usd      cbse\n",
       "zec-usdt     bnce\n",
       "Length: 101, dtype: object"
      ]
     },
     "execution_count": 74,
     "metadata": {},
     "output_type": "execute_result"
    }
   ],
   "source": [
    "df.groupby(['exchange', 'pair']).volume.sum().unstack().idxmax(axis=0)"
   ]
  },
  {
   "cell_type": "code",
   "execution_count": 75,
   "id": "08bf152b",
   "metadata": {},
   "outputs": [
    {
     "data": {
      "text/plain": [
       "bnce    47\n",
       "cbse    34\n",
       "ftxx    10\n",
       "huob     5\n",
       "btrx     3\n",
       "gmni     2\n",
       "dtype: int64"
      ]
     },
     "execution_count": 75,
     "metadata": {},
     "output_type": "execute_result"
    }
   ],
   "source": [
    "df.groupby(['exchange', 'pair']).volume.sum().unstack().idxmax(axis=0).value_counts()"
   ]
  },
  {
   "cell_type": "markdown",
   "id": "fa03b29c",
   "metadata": {},
   "source": [
    "For how many pairs, is each exchange the best exchange. \n",
    "\n",
    "Display this result in a pie chart."
   ]
  },
  {
   "cell_type": "code",
   "execution_count": 76,
   "id": "0bb45814",
   "metadata": {},
   "outputs": [
    {
     "data": {
      "image/png": "[encoded data removed]",
      "text/plain": [
       "<Figure size 1500x500 with 1 Axes>"
      ]
     },
     "metadata": {},
     "output_type": "display_data"
    }
   ],
   "source": [
    "df.groupby(['exchange', 'pair']).volume.sum().unstack().idxmax(axis=0).value_counts().plot.pie(figsize = (15,5), autopct='%1.1f%%')\n",
    "plt.legend()\n",
    "plt.title(\"Percentage of pairs for which the exchange is the best\")\n",
    "plt.show()"
   ]
  },
  {
   "cell_type": "markdown",
   "id": "1c2cd87d",
   "metadata": {},
   "source": [
    "## 3. Analysis by coin"
   ]
  },
  {
   "cell_type": "markdown",
   "id": "cf195dd5",
   "metadata": {},
   "source": [
    "Create two new columns *base* and *quote* based on the pair column. \n",
    "\n",
    "Reminder: in the pair X-Y, X is the base asset and Y is the quote asset."
   ]
  },
  {
   "cell_type": "code",
   "execution_count": 77,
   "id": "a6dcd823",
   "metadata": {},
   "outputs": [],
   "source": [
    "df['base'] = df.pair.str.split('-').str[0]\n",
    "df['quote'] = df.pair.str.split('-').str[1]\n",
    "\n",
    "# or \n",
    "# df['base'] = df.pair.apply(lambda s: s.split(\"-\")[0])\n",
    "# df['quote'] = df.pair.apply(lambda s: s.split(\"-\")[1])"
   ]
  },
  {
   "cell_type": "code",
   "execution_count": 78,
   "id": "c7cc17c9",
   "metadata": {},
   "outputs": [
    {
     "data": {
      "text/html": [
       "<div>\n",
       "<style scoped>\n",
       "    .dataframe tbody tr th:only-of-type {\n",
       "        vertical-align: middle;\n",
       "    }\n",
       "\n",
       "    .dataframe tbody tr th {\n",
       "        vertical-align: top;\n",
       "    }\n",
       "\n",
       "    .dataframe thead th {\n",
       "        text-align: right;\n",
       "    }\n",
       "</style>\n",
       "<table border=\"1\" class=\"dataframe\">\n",
       "  <thead>\n",
       "    <tr style=\"text-align: right;\">\n",
       "      <th></th>\n",
       "      <th>timestamp</th>\n",
       "      <th>trade_id</th>\n",
       "      <th>price</th>\n",
       "      <th>amount</th>\n",
       "      <th>taker_side_sell</th>\n",
       "      <th>exchange</th>\n",
       "      <th>pair</th>\n",
       "      <th>volume</th>\n",
       "      <th>base</th>\n",
       "      <th>quote</th>\n",
       "    </tr>\n",
       "  </thead>\n",
       "  <tbody>\n",
       "    <tr>\n",
       "      <th>0</th>\n",
       "      <td>2022-10-24 14:00:00.000000000</td>\n",
       "      <td>787987369.0</td>\n",
       "      <td>1348.35</td>\n",
       "      <td>0.03180</td>\n",
       "      <td>False</td>\n",
       "      <td>bnce</td>\n",
       "      <td>eth-usdt</td>\n",
       "      <td>42.877530</td>\n",
       "      <td>eth</td>\n",
       "      <td>usdt</td>\n",
       "    </tr>\n",
       "    <tr>\n",
       "      <th>1</th>\n",
       "      <td>2022-10-24 14:00:00.000000000</td>\n",
       "      <td>1730418307.0</td>\n",
       "      <td>19352.40</td>\n",
       "      <td>0.00099</td>\n",
       "      <td>True</td>\n",
       "      <td>bnce</td>\n",
       "      <td>btc-usdt</td>\n",
       "      <td>19.158876</td>\n",
       "      <td>btc</td>\n",
       "      <td>usdt</td>\n",
       "    </tr>\n",
       "    <tr>\n",
       "      <th>2</th>\n",
       "      <td>2022-10-24 14:00:00.000999936</td>\n",
       "      <td>1730418308.0</td>\n",
       "      <td>19352.40</td>\n",
       "      <td>0.00339</td>\n",
       "      <td>True</td>\n",
       "      <td>bnce</td>\n",
       "      <td>btc-usdt</td>\n",
       "      <td>65.604636</td>\n",
       "      <td>btc</td>\n",
       "      <td>usdt</td>\n",
       "    </tr>\n",
       "    <tr>\n",
       "      <th>3</th>\n",
       "      <td>2022-10-24 14:00:00.000999936</td>\n",
       "      <td>1730418309.0</td>\n",
       "      <td>19352.40</td>\n",
       "      <td>0.00077</td>\n",
       "      <td>True</td>\n",
       "      <td>bnce</td>\n",
       "      <td>btc-usdt</td>\n",
       "      <td>14.901348</td>\n",
       "      <td>btc</td>\n",
       "      <td>usdt</td>\n",
       "    </tr>\n",
       "    <tr>\n",
       "      <th>4</th>\n",
       "      <td>2022-10-24 14:00:00.001999872</td>\n",
       "      <td>1730418310.0</td>\n",
       "      <td>19352.40</td>\n",
       "      <td>0.00455</td>\n",
       "      <td>True</td>\n",
       "      <td>bnce</td>\n",
       "      <td>btc-usdt</td>\n",
       "      <td>88.053420</td>\n",
       "      <td>btc</td>\n",
       "      <td>usdt</td>\n",
       "    </tr>\n",
       "  </tbody>\n",
       "</table>\n",
       "</div>"
      ],
      "text/plain": [
       "                      timestamp      trade_id     price   amount  \\\n",
       "0 2022-10-24 14:00:00.000000000   787987369.0   1348.35  0.03180   \n",
       "1 2022-10-24 14:00:00.000000000  1730418307.0  19352.40  0.00099   \n",
       "2 2022-10-24 14:00:00.000999936  1730418308.0  19352.40  0.00339   \n",
       "3 2022-10-24 14:00:00.000999936  1730418309.0  19352.40  0.00077   \n",
       "4 2022-10-24 14:00:00.001999872  1730418310.0  19352.40  0.00455   \n",
       "\n",
       "   taker_side_sell exchange      pair     volume base quote  \n",
       "0            False     bnce  eth-usdt  42.877530  eth  usdt  \n",
       "1             True     bnce  btc-usdt  19.158876  btc  usdt  \n",
       "2             True     bnce  btc-usdt  65.604636  btc  usdt  \n",
       "3             True     bnce  btc-usdt  14.901348  btc  usdt  \n",
       "4             True     bnce  btc-usdt  88.053420  btc  usdt  "
      ]
     },
     "execution_count": 78,
     "metadata": {},
     "output_type": "execute_result"
    }
   ],
   "source": [
    "df.head(5)"
   ]
  },
  {
   "cell_type": "markdown",
   "id": "310a31a5",
   "metadata": {},
   "source": [
    "Is there an intersection between bases and quotes? "
   ]
  },
  {
   "cell_type": "code",
   "execution_count": 79,
   "id": "d8fa68d2",
   "metadata": {},
   "outputs": [
    {
     "data": {
      "text/plain": [
       "array(['usdt', 'usd', 'usdc', 'dai'], dtype=object)"
      ]
     },
     "execution_count": 79,
     "metadata": {},
     "output_type": "execute_result"
    }
   ],
   "source": [
    "df.quote.unique()"
   ]
  },
  {
   "cell_type": "code",
   "execution_count": 80,
   "id": "5beb9ba6",
   "metadata": {},
   "outputs": [
    {
     "data": {
      "text/plain": [
       "0         False\n",
       "1         False\n",
       "2         False\n",
       "3         False\n",
       "4         False\n",
       "          ...  \n",
       "848310    False\n",
       "848311    False\n",
       "848312    False\n",
       "848313    False\n",
       "848314    False\n",
       "Name: base, Length: 848315, dtype: bool"
      ]
     },
     "execution_count": 80,
     "metadata": {},
     "output_type": "execute_result"
    }
   ],
   "source": [
    "df.base.isin(df.quote.unique())"
   ]
  },
  {
   "cell_type": "code",
   "execution_count": 81,
   "id": "97dbff6e",
   "metadata": {},
   "outputs": [
    {
     "data": {
      "text/plain": [
       "array(['usdc', 'usdt', 'dai'], dtype=object)"
      ]
     },
     "execution_count": 81,
     "metadata": {},
     "output_type": "execute_result"
    }
   ],
   "source": [
    "df[df.base.isin(df.quote.unique())].base.unique()"
   ]
  },
  {
   "cell_type": "markdown",
   "id": "6bf81885",
   "metadata": {},
   "source": [
    "Answer the following questions:\n",
    "- Which exchange has the most trades involving BTC? How many trades were executed on this platform? "
   ]
  },
  {
   "cell_type": "code",
   "execution_count": 82,
   "id": "d8468186",
   "metadata": {},
   "outputs": [
    {
     "data": {
      "text/plain": [
       "exchange\n",
       "bnce    413117\n",
       "Name: price, dtype: int64"
      ]
     },
     "execution_count": 82,
     "metadata": {},
     "output_type": "execute_result"
    }
   ],
   "source": [
    "df[df.base == \"btc\"].groupby(['exchange']).price.count().nlargest(1)"
   ]
  },
  {
   "cell_type": "markdown",
   "id": "5ab00835",
   "metadata": {},
   "source": [
    "- What is the total volume traded (all exchanges combined) of the 5 most traded assets? "
   ]
  },
  {
   "cell_type": "code",
   "execution_count": 83,
   "id": "9deb433d",
   "metadata": {},
   "outputs": [],
   "source": [
    "# Step 1, finds the most traded assets\n",
    "most_traded_assets = df.groupby(['base']).price.count().nlargest(5).index"
   ]
  },
  {
   "cell_type": "code",
   "execution_count": 84,
   "id": "511d35a5",
   "metadata": {},
   "outputs": [
    {
     "data": {
      "text/plain": [
       "base\n",
       "btc      5.888033e+08\n",
       "eth      2.194189e+08\n",
       "matic    1.128987e+07\n",
       "sol      2.042640e+07\n",
       "xrp      1.889680e+07\n",
       "Name: volume, dtype: float64"
      ]
     },
     "execution_count": 84,
     "metadata": {},
     "output_type": "execute_result"
    }
   ],
   "source": [
    "# Step 2, filter on these assets and get the total volume traded\n",
    "df[df.base.isin(most_traded_assets)].groupby(['base']).volume.sum()"
   ]
  },
  {
   "cell_type": "markdown",
   "id": "06a9f416",
   "metadata": {},
   "source": [
    "## 4. Time analysis"
   ]
  },
  {
   "cell_type": "markdown",
   "id": "0c9beeda",
   "metadata": {},
   "source": [
    "Construct a new DataFrame indexed by minute containing the number of trades (by minute) and the total volume traded (by minute), both on all exchanges combined."
   ]
  },
  {
   "cell_type": "code",
   "execution_count": 85,
   "id": "e4bac024",
   "metadata": {},
   "outputs": [
    {
     "data": {
      "text/plain": [
       "<pandas.core.groupby.generic.SeriesGroupBy object at 0x000001A315800850>"
      ]
     },
     "execution_count": 85,
     "metadata": {},
     "output_type": "execute_result"
    }
   ],
   "source": [
    "df.resample('1Min', on='timestamp').volume"
   ]
  },
  {
   "cell_type": "code",
   "execution_count": 86,
   "id": "48b82cfc",
   "metadata": {},
   "outputs": [
    {
     "data": {
      "text/html": [
       "<div>\n",
       "<style scoped>\n",
       "    .dataframe tbody tr th:only-of-type {\n",
       "        vertical-align: middle;\n",
       "    }\n",
       "\n",
       "    .dataframe tbody tr th {\n",
       "        vertical-align: top;\n",
       "    }\n",
       "\n",
       "    .dataframe thead th {\n",
       "        text-align: right;\n",
       "    }\n",
       "</style>\n",
       "<table border=\"1\" class=\"dataframe\">\n",
       "  <thead>\n",
       "    <tr style=\"text-align: right;\">\n",
       "      <th></th>\n",
       "      <th>TradeNb</th>\n",
       "      <th>TotalVolume</th>\n",
       "    </tr>\n",
       "    <tr>\n",
       "      <th>timestamp</th>\n",
       "      <th></th>\n",
       "      <th></th>\n",
       "    </tr>\n",
       "  </thead>\n",
       "  <tbody>\n",
       "    <tr>\n",
       "      <th>2022-10-24 14:00:00</th>\n",
       "      <td>15802</td>\n",
       "      <td>1.704627e+07</td>\n",
       "    </tr>\n",
       "    <tr>\n",
       "      <th>2022-10-24 14:01:00</th>\n",
       "      <td>13199</td>\n",
       "      <td>1.251803e+07</td>\n",
       "    </tr>\n",
       "    <tr>\n",
       "      <th>2022-10-24 14:02:00</th>\n",
       "      <td>15177</td>\n",
       "      <td>1.564351e+07</td>\n",
       "    </tr>\n",
       "    <tr>\n",
       "      <th>2022-10-24 14:03:00</th>\n",
       "      <td>14494</td>\n",
       "      <td>1.430609e+07</td>\n",
       "    </tr>\n",
       "    <tr>\n",
       "      <th>2022-10-24 14:04:00</th>\n",
       "      <td>11889</td>\n",
       "      <td>1.116534e+07</td>\n",
       "    </tr>\n",
       "  </tbody>\n",
       "</table>\n",
       "</div>"
      ],
      "text/plain": [
       "                     TradeNb   TotalVolume\n",
       "timestamp                                 \n",
       "2022-10-24 14:00:00    15802  1.704627e+07\n",
       "2022-10-24 14:01:00    13199  1.251803e+07\n",
       "2022-10-24 14:02:00    15177  1.564351e+07\n",
       "2022-10-24 14:03:00    14494  1.430609e+07\n",
       "2022-10-24 14:04:00    11889  1.116534e+07"
      ]
     },
     "execution_count": 86,
     "metadata": {},
     "output_type": "execute_result"
    }
   ],
   "source": [
    "info_by_min = df.resample('1Min', on='timestamp').volume.agg(['count', 'sum'])\n",
    "info_by_min.rename(columns = {'count':\"TradeNb\", \"sum\":\"TotalVolume\"}, inplace = True)\n",
    "info_by_min.head()"
   ]
  },
  {
   "cell_type": "markdown",
   "id": "cf63bb23",
   "metadata": {},
   "source": [
    "On the same graph, display minute by minute:\n",
    "- the evolution of the number of trades\n",
    "- the evolution of the total volume traded \n",
    "\n",
    "You may use different ordinates axes if needed. \n",
    "\n",
    "Is there a minute that is significantly different from the others? Which one is it?"
   ]
  },
  {
   "cell_type": "code",
   "execution_count": 87,
   "id": "987e8a2c",
   "metadata": {},
   "outputs": [
    {
     "data": {
      "image/png": "[encoded data removed]",
      "text/plain": [
       "<Figure size 1500x500 with 2 Axes>"
      ]
     },
     "metadata": {},
     "output_type": "display_data"
    }
   ],
   "source": [
    "fig = plt.figure(figsize = (15,5))\n",
    "\n",
    "ax = plt.gca()\n",
    "ax.plot(info_by_min.index, info_by_min.TradeNb, color = 'navy')\n",
    "ax.set_ylabel(\"Number of trades by minute\", color = 'navy')\n",
    "\n",
    "ax2=ax.twinx()\n",
    "ax2.plot(info_by_min.index, info_by_min.TotalVolume, color = 'orange')\n",
    "ax2.set_ylabel(\"Total volume traded by minute\", color = \"orange\")\n",
    "\n",
    "plt.xlabel(\"Time\")\n",
    "plt.show()"
   ]
  },
  {
   "cell_type": "markdown",
   "id": "9457cbaf",
   "metadata": {},
   "source": [
    "In a new DataFrame, get the same information (number of trades and total volume traded) indexed by minute and by exchange."
   ]
  },
  {
   "cell_type": "code",
   "execution_count": 88,
   "id": "6ae14011",
   "metadata": {},
   "outputs": [
    {
     "data": {
      "text/html": [
       "<div>\n",
       "<style scoped>\n",
       "    .dataframe tbody tr th:only-of-type {\n",
       "        vertical-align: middle;\n",
       "    }\n",
       "\n",
       "    .dataframe tbody tr th {\n",
       "        vertical-align: top;\n",
       "    }\n",
       "\n",
       "    .dataframe thead th {\n",
       "        text-align: right;\n",
       "    }\n",
       "</style>\n",
       "<table border=\"1\" class=\"dataframe\">\n",
       "  <thead>\n",
       "    <tr style=\"text-align: right;\">\n",
       "      <th></th>\n",
       "      <th></th>\n",
       "      <th>TradeNb</th>\n",
       "      <th>TotalVolume</th>\n",
       "    </tr>\n",
       "    <tr>\n",
       "      <th>timestamp</th>\n",
       "      <th>exchange</th>\n",
       "      <th></th>\n",
       "      <th></th>\n",
       "    </tr>\n",
       "  </thead>\n",
       "  <tbody>\n",
       "    <tr>\n",
       "      <th rowspan=\"5\" valign=\"top\">2022-10-24 14:00:00</th>\n",
       "      <th>bnce</th>\n",
       "      <td>10735</td>\n",
       "      <td>1.282346e+07</td>\n",
       "    </tr>\n",
       "    <tr>\n",
       "      <th>btrx</th>\n",
       "      <td>8</td>\n",
       "      <td>1.492532e+03</td>\n",
       "    </tr>\n",
       "    <tr>\n",
       "      <th>cbse</th>\n",
       "      <td>2211</td>\n",
       "      <td>2.380602e+06</td>\n",
       "    </tr>\n",
       "    <tr>\n",
       "      <th>cexi</th>\n",
       "      <td>25</td>\n",
       "      <td>4.158272e+03</td>\n",
       "    </tr>\n",
       "    <tr>\n",
       "      <th>ftxx</th>\n",
       "      <td>1281</td>\n",
       "      <td>1.472520e+06</td>\n",
       "    </tr>\n",
       "  </tbody>\n",
       "</table>\n",
       "</div>"
      ],
      "text/plain": [
       "                              TradeNb   TotalVolume\n",
       "timestamp           exchange                       \n",
       "2022-10-24 14:00:00 bnce        10735  1.282346e+07\n",
       "                    btrx            8  1.492532e+03\n",
       "                    cbse         2211  2.380602e+06\n",
       "                    cexi           25  4.158272e+03\n",
       "                    ftxx         1281  1.472520e+06"
      ]
     },
     "execution_count": 88,
     "metadata": {},
     "output_type": "execute_result"
    }
   ],
   "source": [
    "info_by_min_by_exch = df.groupby([pd.Grouper(key=\"timestamp\", freq = \"1Min\", convention = 'e'), 'exchange']).volume.agg(['count', 'sum'])\n",
    "info_by_min_by_exch.rename(columns = {'count':\"TradeNb\", \"sum\":\"TotalVolume\"}, inplace = True)\n",
    "info_by_min_by_exch.head()"
   ]
  },
  {
   "cell_type": "markdown",
   "id": "31729d47",
   "metadata": {},
   "source": [
    "Display in a single graph the evolution of the number of trades minute by minute for each exchange."
   ]
  },
  {
   "cell_type": "code",
   "execution_count": 96,
   "id": "17620910",
   "metadata": {},
   "outputs": [
    {
     "data": {
      "text/html": [
       "<div>\n",
       "<style scoped>\n",
       "    .dataframe tbody tr th:only-of-type {\n",
       "        vertical-align: middle;\n",
       "    }\n",
       "\n",
       "    .dataframe tbody tr th {\n",
       "        vertical-align: top;\n",
       "    }\n",
       "\n",
       "    .dataframe thead th {\n",
       "        text-align: right;\n",
       "    }\n",
       "</style>\n",
       "<table border=\"1\" class=\"dataframe\">\n",
       "  <thead>\n",
       "    <tr style=\"text-align: right;\">\n",
       "      <th>exchange</th>\n",
       "      <th>bnce</th>\n",
       "      <th>btrx</th>\n",
       "      <th>cbse</th>\n",
       "      <th>cexi</th>\n",
       "      <th>ftxx</th>\n",
       "      <th>gmni</th>\n",
       "      <th>huob</th>\n",
       "      <th>itbi</th>\n",
       "      <th>stmp</th>\n",
       "    </tr>\n",
       "    <tr>\n",
       "      <th>timestamp</th>\n",
       "      <th></th>\n",
       "      <th></th>\n",
       "      <th></th>\n",
       "      <th></th>\n",
       "      <th></th>\n",
       "      <th></th>\n",
       "      <th></th>\n",
       "      <th></th>\n",
       "      <th></th>\n",
       "    </tr>\n",
       "  </thead>\n",
       "  <tbody>\n",
       "    <tr>\n",
       "      <th>2022-10-24 14:00:00</th>\n",
       "      <td>10735.0</td>\n",
       "      <td>8.0</td>\n",
       "      <td>2211.0</td>\n",
       "      <td>25.0</td>\n",
       "      <td>1281.0</td>\n",
       "      <td>53.0</td>\n",
       "      <td>1378.0</td>\n",
       "      <td>71.0</td>\n",
       "      <td>40.0</td>\n",
       "    </tr>\n",
       "    <tr>\n",
       "      <th>2022-10-24 14:01:00</th>\n",
       "      <td>8759.0</td>\n",
       "      <td>11.0</td>\n",
       "      <td>2297.0</td>\n",
       "      <td>9.0</td>\n",
       "      <td>901.0</td>\n",
       "      <td>41.0</td>\n",
       "      <td>1111.0</td>\n",
       "      <td>55.0</td>\n",
       "      <td>15.0</td>\n",
       "    </tr>\n",
       "    <tr>\n",
       "      <th>2022-10-24 14:02:00</th>\n",
       "      <td>9566.0</td>\n",
       "      <td>12.0</td>\n",
       "      <td>2749.0</td>\n",
       "      <td>39.0</td>\n",
       "      <td>1269.0</td>\n",
       "      <td>72.0</td>\n",
       "      <td>1392.0</td>\n",
       "      <td>56.0</td>\n",
       "      <td>22.0</td>\n",
       "    </tr>\n",
       "    <tr>\n",
       "      <th>2022-10-24 14:03:00</th>\n",
       "      <td>9245.0</td>\n",
       "      <td>23.0</td>\n",
       "      <td>2572.0</td>\n",
       "      <td>24.0</td>\n",
       "      <td>1194.0</td>\n",
       "      <td>53.0</td>\n",
       "      <td>1316.0</td>\n",
       "      <td>52.0</td>\n",
       "      <td>15.0</td>\n",
       "    </tr>\n",
       "    <tr>\n",
       "      <th>2022-10-24 14:04:00</th>\n",
       "      <td>7443.0</td>\n",
       "      <td>3.0</td>\n",
       "      <td>2153.0</td>\n",
       "      <td>5.0</td>\n",
       "      <td>1100.0</td>\n",
       "      <td>49.0</td>\n",
       "      <td>1063.0</td>\n",
       "      <td>56.0</td>\n",
       "      <td>17.0</td>\n",
       "    </tr>\n",
       "  </tbody>\n",
       "</table>\n",
       "</div>"
      ],
      "text/plain": [
       "exchange                bnce  btrx    cbse  cexi    ftxx  gmni    huob  itbi  \\\n",
       "timestamp                                                                      \n",
       "2022-10-24 14:00:00  10735.0   8.0  2211.0  25.0  1281.0  53.0  1378.0  71.0   \n",
       "2022-10-24 14:01:00   8759.0  11.0  2297.0   9.0   901.0  41.0  1111.0  55.0   \n",
       "2022-10-24 14:02:00   9566.0  12.0  2749.0  39.0  1269.0  72.0  1392.0  56.0   \n",
       "2022-10-24 14:03:00   9245.0  23.0  2572.0  24.0  1194.0  53.0  1316.0  52.0   \n",
       "2022-10-24 14:04:00   7443.0   3.0  2153.0   5.0  1100.0  49.0  1063.0  56.0   \n",
       "\n",
       "exchange             stmp  \n",
       "timestamp                  \n",
       "2022-10-24 14:00:00  40.0  \n",
       "2022-10-24 14:01:00  15.0  \n",
       "2022-10-24 14:02:00  22.0  \n",
       "2022-10-24 14:03:00  15.0  \n",
       "2022-10-24 14:04:00  17.0  "
      ]
     },
     "execution_count": 96,
     "metadata": {},
     "output_type": "execute_result"
    }
   ],
   "source": [
    "info_by_min_by_exch.TradeNb.unstack().head()"
   ]
  },
  {
   "cell_type": "code",
   "execution_count": 89,
   "id": "7797eebb",
   "metadata": {},
   "outputs": [
    {
     "data": {
      "image/png": "[encoded data removed]",
      "text/plain": [
       "<Figure size 1500x500 with 1 Axes>"
      ]
     },
     "metadata": {},
     "output_type": "display_data"
    }
   ],
   "source": [
    "info_by_min_by_exch.TradeNb.unstack().plot(figsize = (15,5))\n",
    "plt.title(\"Number of trades by 1-minute periods by exchange\")\n",
    "plt.show()"
   ]
  },
  {
   "cell_type": "markdown",
   "id": "82818e33",
   "metadata": {},
   "source": [
    "Do the same for the evolution of the total volume traded."
   ]
  },
  {
   "cell_type": "code",
   "execution_count": 90,
   "id": "56a552fe",
   "metadata": {},
   "outputs": [
    {
     "data": {
      "image/png": "[encoded data removed]",
      "text/plain": [
       "<Figure size 1500x500 with 1 Axes>"
      ]
     },
     "metadata": {},
     "output_type": "display_data"
    }
   ],
   "source": [
    "info_by_min_by_exch.TotalVolume.unstack().plot(figsize = (15,5))\n",
    "plt.title(\"Total volume traded by 1-minute periods by exchange\")\n",
    "plt.show()"
   ]
  },
  {
   "cell_type": "markdown",
   "id": "32467bb5",
   "metadata": {},
   "source": [
    "For the 5 most traded assets (that we have retrieved earlier), display the evolution of the total traded volume per seconds."
   ]
  },
  {
   "cell_type": "code",
   "execution_count": 91,
   "id": "34fcb75c",
   "metadata": {},
   "outputs": [
    {
     "data": {
      "image/png": "[encoded data removed]",
      "text/plain": [
       "<Figure size 1500x500 with 1 Axes>"
      ]
     },
     "metadata": {},
     "output_type": "display_data"
    }
   ],
   "source": [
    "df_filtered = df[df.base.isin(most_traded_assets)]\n",
    "volume_by_sec_by_base = df_filtered.groupby([pd.Grouper(key=\"timestamp\", freq = \"1s\", convention = 'e'), 'base']).volume.sum()\n",
    "volume_by_sec_by_base.unstack().plot(figsize = (15,5))\n",
    "plt.title(\"Evolution of the total volume traded by seconds for the 5 most traded assets\")\n",
    "plt.show()"
   ]
  },
  {
   "cell_type": "markdown",
   "id": "d21a9b34",
   "metadata": {},
   "source": [
    "For each quote asset, display the evolution of the total traded volume minute by minute."
   ]
  },
  {
   "cell_type": "code",
   "execution_count": 100,
   "id": "49f04d6e",
   "metadata": {},
   "outputs": [
    {
     "data": {
      "image/png": "[encoded data removed]",
      "text/plain": [
       "<Figure size 1500x500 with 1 Axes>"
      ]
     },
     "metadata": {},
     "output_type": "display_data"
    }
   ],
   "source": [
    "volume_by_sec_by_quote = df_filtered.groupby([pd.Grouper(key=\"timestamp\", freq = \"1Min\", convention = 'e'), 'quote']).volume.sum()\n",
    "volume_by_sec_by_quote.unstack().plot(figsize = (15,5))\n",
    "plt.title(\"Evolution of the total volume traded per minutes and by quote asset\")\n",
    "plt.show()"
   ]
  },
  {
   "cell_type": "code",
   "execution_count": 99,
   "id": "44047c62",
   "metadata": {},
   "outputs": [
    {
     "data": {
      "text/html": [
       "<div>\n",
       "<style scoped>\n",
       "    .dataframe tbody tr th:only-of-type {\n",
       "        vertical-align: middle;\n",
       "    }\n",
       "\n",
       "    .dataframe tbody tr th {\n",
       "        vertical-align: top;\n",
       "    }\n",
       "\n",
       "    .dataframe thead th {\n",
       "        text-align: right;\n",
       "    }\n",
       "</style>\n",
       "<table border=\"1\" class=\"dataframe\">\n",
       "  <thead>\n",
       "    <tr style=\"text-align: right;\">\n",
       "      <th>quote</th>\n",
       "      <th>dai</th>\n",
       "      <th>usd</th>\n",
       "      <th>usdc</th>\n",
       "      <th>usdt</th>\n",
       "    </tr>\n",
       "    <tr>\n",
       "      <th>timestamp</th>\n",
       "      <th></th>\n",
       "      <th></th>\n",
       "      <th></th>\n",
       "      <th></th>\n",
       "    </tr>\n",
       "  </thead>\n",
       "  <tbody>\n",
       "    <tr>\n",
       "      <th>2022-10-24 14:00:00</th>\n",
       "      <td>6692.750523</td>\n",
       "      <td>3.417562e+06</td>\n",
       "      <td>2372.385324</td>\n",
       "      <td>1.244727e+07</td>\n",
       "    </tr>\n",
       "    <tr>\n",
       "      <th>2022-10-24 14:01:00</th>\n",
       "      <td>NaN</td>\n",
       "      <td>3.372747e+06</td>\n",
       "      <td>831.607721</td>\n",
       "      <td>8.405704e+06</td>\n",
       "    </tr>\n",
       "    <tr>\n",
       "      <th>2022-10-24 14:02:00</th>\n",
       "      <td>4744.387380</td>\n",
       "      <td>3.951841e+06</td>\n",
       "      <td>6263.748562</td>\n",
       "      <td>1.080003e+07</td>\n",
       "    </tr>\n",
       "    <tr>\n",
       "      <th>2022-10-24 14:03:00</th>\n",
       "      <td>2098.594769</td>\n",
       "      <td>3.124197e+06</td>\n",
       "      <td>3160.977568</td>\n",
       "      <td>9.830299e+06</td>\n",
       "    </tr>\n",
       "    <tr>\n",
       "      <th>2022-10-24 14:04:00</th>\n",
       "      <td>1425.852145</td>\n",
       "      <td>2.213819e+06</td>\n",
       "      <td>579.063689</td>\n",
       "      <td>7.924678e+06</td>\n",
       "    </tr>\n",
       "  </tbody>\n",
       "</table>\n",
       "</div>"
      ],
      "text/plain": [
       "quote                        dai           usd         usdc          usdt\n",
       "timestamp                                                                \n",
       "2022-10-24 14:00:00  6692.750523  3.417562e+06  2372.385324  1.244727e+07\n",
       "2022-10-24 14:01:00          NaN  3.372747e+06   831.607721  8.405704e+06\n",
       "2022-10-24 14:02:00  4744.387380  3.951841e+06  6263.748562  1.080003e+07\n",
       "2022-10-24 14:03:00  2098.594769  3.124197e+06  3160.977568  9.830299e+06\n",
       "2022-10-24 14:04:00  1425.852145  2.213819e+06   579.063689  7.924678e+06"
      ]
     },
     "execution_count": 99,
     "metadata": {},
     "output_type": "execute_result"
    }
   ],
   "source": [
    "volume_by_sec_by_quote.unstack().head()"
   ]
  },
  {
   "cell_type": "markdown",
   "id": "49963ef6",
   "metadata": {},
   "source": [
    "Do you notice anything particular about the DAI? "
   ]
  },
  {
   "cell_type": "code",
   "execution_count": 93,
   "id": "4b37b937",
   "metadata": {},
   "outputs": [],
   "source": [
    "# It is sometimes not traded during more than one minute."
   ]
  },
  {
   "cell_type": "code",
   "execution_count": 102,
   "id": "b0bb7156",
   "metadata": {},
   "outputs": [
    {
     "data": {
      "text/html": [
       "<div>\n",
       "<style scoped>\n",
       "    .dataframe tbody tr th:only-of-type {\n",
       "        vertical-align: middle;\n",
       "    }\n",
       "\n",
       "    .dataframe tbody tr th {\n",
       "        vertical-align: top;\n",
       "    }\n",
       "\n",
       "    .dataframe thead th {\n",
       "        text-align: right;\n",
       "    }\n",
       "</style>\n",
       "<table border=\"1\" class=\"dataframe\">\n",
       "  <thead>\n",
       "    <tr style=\"text-align: right;\">\n",
       "      <th>quote</th>\n",
       "      <th>dai</th>\n",
       "      <th>usd</th>\n",
       "      <th>usdc</th>\n",
       "      <th>usdt</th>\n",
       "    </tr>\n",
       "    <tr>\n",
       "      <th>timestamp</th>\n",
       "      <th></th>\n",
       "      <th></th>\n",
       "      <th></th>\n",
       "      <th></th>\n",
       "    </tr>\n",
       "  </thead>\n",
       "  <tbody>\n",
       "    <tr>\n",
       "      <th>2022-10-24 14:00:00</th>\n",
       "      <td>True</td>\n",
       "      <td>True</td>\n",
       "      <td>True</td>\n",
       "      <td>True</td>\n",
       "    </tr>\n",
       "    <tr>\n",
       "      <th>2022-10-24 14:01:00</th>\n",
       "      <td>False</td>\n",
       "      <td>True</td>\n",
       "      <td>True</td>\n",
       "      <td>True</td>\n",
       "    </tr>\n",
       "    <tr>\n",
       "      <th>2022-10-24 14:02:00</th>\n",
       "      <td>True</td>\n",
       "      <td>True</td>\n",
       "      <td>True</td>\n",
       "      <td>True</td>\n",
       "    </tr>\n",
       "    <tr>\n",
       "      <th>2022-10-24 14:03:00</th>\n",
       "      <td>True</td>\n",
       "      <td>True</td>\n",
       "      <td>True</td>\n",
       "      <td>True</td>\n",
       "    </tr>\n",
       "    <tr>\n",
       "      <th>2022-10-24 14:04:00</th>\n",
       "      <td>True</td>\n",
       "      <td>True</td>\n",
       "      <td>True</td>\n",
       "      <td>True</td>\n",
       "    </tr>\n",
       "  </tbody>\n",
       "</table>\n",
       "</div>"
      ],
      "text/plain": [
       "quote                  dai   usd  usdc  usdt\n",
       "timestamp                                   \n",
       "2022-10-24 14:00:00   True  True  True  True\n",
       "2022-10-24 14:01:00  False  True  True  True\n",
       "2022-10-24 14:02:00   True  True  True  True\n",
       "2022-10-24 14:03:00   True  True  True  True\n",
       "2022-10-24 14:04:00   True  True  True  True"
      ]
     },
     "execution_count": 102,
     "metadata": {},
     "output_type": "execute_result"
    }
   ],
   "source": [
    "volume_by_sec_by_quote.unstack().notnull().head()"
   ]
  },
  {
   "cell_type": "code",
   "execution_count": 109,
   "id": "bea99941",
   "metadata": {},
   "outputs": [
    {
     "data": {
      "image/png": "[encoded data removed]",
      "text/plain": [
       "<Figure size 1500x500 with 1 Axes>"
      ]
     },
     "metadata": {},
     "output_type": "display_data"
    }
   ],
   "source": [
    "binary_volume_by_sec_by_quote = volume_by_sec_by_quote.unstack().usdt.notnull().astype(int)\n",
    "binary_volume_by_sec_by_quote.plot(style='.', figsize=(15, 5))\n",
    "plt.title(\"Trade occurrence per minute by quote asset\")\n",
    "plt.ylabel('Trade Occurred')\n",
    "plt.yticks([0, 1], [\"No\", \"Yes\"])\n",
    "plt.show()"
   ]
  },
  {
   "cell_type": "code",
   "execution_count": null,
   "id": "3d6c95c3",
   "metadata": {},
   "outputs": [],
   "source": []
  }
 ],
 "metadata": {
  "kernelspec": {
   "display_name": "Python 3 (ipykernel)",
   "language": "python",
   "name": "python3"
  },
  "language_info": {
   "codemirror_mode": {
    "name": "ipython",
    "version": 3
   },
   "file_extension": ".py",
   "mimetype": "text/x-python",
   "name": "python",
   "nbconvert_exporter": "python",
   "pygments_lexer": "ipython3",
   "version": "3.11.4"
  }
 },
 "nbformat": 4,
 "nbformat_minor": 5
}
